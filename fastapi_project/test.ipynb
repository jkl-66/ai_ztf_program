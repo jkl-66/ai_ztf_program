{
 "cells": [
  {
   "cell_type": "code",
   "execution_count": 1,
   "metadata": {},
   "outputs": [
    {
     "name": "stdout",
     "output_type": "stream",
     "text": [
      "2\n"
     ]
    }
   ],
   "source": [
    "history = []\n",
    "if history:\n",
    "    print(1)\n",
    "else:\n",
    "    print(2)"
   ]
  },
  {
   "cell_type": "code",
   "execution_count": 1,
   "metadata": {},
   "outputs": [
    {
     "name": "stderr",
     "output_type": "stream",
     "text": [
      "d:\\python_envs\\ai_project\\Lib\\site-packages\\tqdm\\auto.py:21: TqdmWarning: IProgress not found. Please update jupyter and ipywidgets. See https://ipywidgets.readthedocs.io/en/stable/user_install.html\n",
      "  from .autonotebook import tqdm as notebook_tqdm\n"
     ]
    }
   ],
   "source": [
    "import psycopg2\n",
    "from psycopg2 import Error\n",
    "import re \n",
    "import os\n",
    "from llama_index.core import VectorStoreIndex, SimpleDirectoryReader,DocumentSummaryIndex\n",
    "from llama_index.core import PromptTemplate,get_response_synthesizer\n",
    "from llama_index.core.settings import Settings\n",
    "from llama_index.vector_stores.chroma import ChromaVectorStore\n",
    "from llama_index.embeddings.huggingface import HuggingFaceEmbedding\n",
    "from llama_index.llms.deepseek import DeepSeek\n",
    "import chromadb\n",
    "import os"
   ]
  },
  {
   "cell_type": "code",
   "execution_count": 35,
   "metadata": {},
   "outputs": [
    {
     "name": "stdout",
     "output_type": "stream",
     "text": [
      "current doc id: db196138-650f-4c06-832d-f31b9d8ee8da\n",
      "current doc id: 8053f065-5e4a-42f8-924a-7ca601fb4485\n"
     ]
    }
   ],
   "source": [
    "from util.chat_util import initialize_llamaindex\n",
    "documents = SimpleDirectoryReader(input_dir=\"D:\\\\ai_ztf\\\\fastapi_project\\\\data\\\\\").load_data()\n",
    "llm, embed_model = initialize_llamaindex(\n",
    "    deepseekapi=\"sk-5f2880952eb543a59d02d1015dcdd8e1\"  # 替换为您的DeepSeek API密钥\n",
    "    )\n",
    "for doc in documents:\n",
    "    # 将原始doc_id存储在metadata中\n",
    "    doc.metadata['original_doc_id'] = doc.doc_id\n",
    "##创建摘要索引，自定义摘要内容\n",
    "def generate_summary_index():\n",
    "    #初始化 Chroma 客户端\n",
    "    chroma_client = chromadb.Client()\n",
    "    chroma_collection = chroma_client.get_or_create_collection(\"text_doc1\")\n",
    "    # 创建向量存储orm\n",
    "    vector_store = ChromaVectorStore(chroma_collection=chroma_collection)\n",
    "    summary_tmpl = PromptTemplate(\n",
    "    \"\"\"请用1-2句话总结以下文档，并提出1-2个该文档能回答的用户问题：\\n\n",
    "    {context_str}\n",
    "    回答的格式形如：\n",
    "    **文档摘要**\n",
    "    --你的摘要内容\n",
    "    **可以回答的问题**\n",
    "    --问题列表\n",
    "    \"\"\")\n",
    "    # LlamaIndex ≥0.10.x 把 summary_template 收进 response_synthesizer\n",
    "    resp_synth = get_response_synthesizer(\n",
    "        response_mode=\"tree_summarize\",    \n",
    "        summary_template=summary_tmpl\n",
    "    )\n",
    "    # 构建 DocumentSummaryIndex\n",
    "    \n",
    "    doc_sum_index = DocumentSummaryIndex.from_documents(\n",
    "        documents,\n",
    "        response_synthesizer=resp_synth,\n",
    "        vector_store=vector_store\n",
    "    )\n",
    "    return doc_sum_index\n",
    "summary_index = generate_summary_index()"
   ]
  },
  {
   "cell_type": "code",
   "execution_count": null,
   "metadata": {},
   "outputs": [],
   "source": []
  },
  {
   "cell_type": "code",
   "execution_count": 14,
   "metadata": {},
   "outputs": [
    {
     "ename": "TypeError",
     "evalue": "BaseDocumentStore.get_node() missing 1 required positional argument: 'node_id'",
     "output_type": "error",
     "traceback": [
      "\u001b[31m---------------------------------------------------------------------------\u001b[39m",
      "\u001b[31mTypeError\u001b[39m                                 Traceback (most recent call last)",
      "\u001b[36mCell\u001b[39m\u001b[36m \u001b[39m\u001b[32mIn[14]\u001b[39m\u001b[32m, line 1\u001b[39m\n\u001b[32m----> \u001b[39m\u001b[32m1\u001b[39m \u001b[43msummary_index\u001b[49m\u001b[43m.\u001b[49m\u001b[43mdocstore\u001b[49m\u001b[43m.\u001b[49m\u001b[43mget_node\u001b[49m\u001b[43m(\u001b[49m\u001b[43m)\u001b[49m\n",
      "\u001b[31mTypeError\u001b[39m: BaseDocumentStore.get_node() missing 1 required positional argument: 'node_id'"
     ]
    }
   ],
   "source": [
    "summary_index.docstore.get_node()"
   ]
  },
  {
   "cell_type": "code",
   "execution_count": 11,
   "metadata": {},
   "outputs": [
    {
     "data": {
      "text/plain": [
       "IndexDocumentSummary(index_id='69f193a1-de89-44ab-8589-77c35ed21b05', summary=None, summary_id_to_node_ids={'ac6b2fc1-7462-47a8-9dea-890641e88067': ['4736d4c2-81fc-42c4-b214-efa790f53b3e', 'dca67fbc-357a-42cd-bdcf-a8ba63050c6a', 'a900e0c5-399e-4304-84ff-a0744fd01d87'], '436c9c1e-a0e5-4707-9653-f4fa7b960e10': ['249ba425-eddf-4cb1-82db-ad0c036e25f6', '1d3ce589-af44-4061-8f71-66781e9d30c9', '8dc9f615-eca8-44c6-9b18-f766ad1c8c66']}, node_id_to_summary_id={'4736d4c2-81fc-42c4-b214-efa790f53b3e': 'ac6b2fc1-7462-47a8-9dea-890641e88067', 'dca67fbc-357a-42cd-bdcf-a8ba63050c6a': 'ac6b2fc1-7462-47a8-9dea-890641e88067', 'a900e0c5-399e-4304-84ff-a0744fd01d87': 'ac6b2fc1-7462-47a8-9dea-890641e88067', '249ba425-eddf-4cb1-82db-ad0c036e25f6': '436c9c1e-a0e5-4707-9653-f4fa7b960e10', '1d3ce589-af44-4061-8f71-66781e9d30c9': '436c9c1e-a0e5-4707-9653-f4fa7b960e10', '8dc9f615-eca8-44c6-9b18-f766ad1c8c66': '436c9c1e-a0e5-4707-9653-f4fa7b960e10'}, doc_id_to_summary_id={'2d1d2be1-3037-4a1c-9c2e-e884b8f52bb4': 'ac6b2fc1-7462-47a8-9dea-890641e88067', '0e363d46-397f-4def-939a-c2589a02091a': '436c9c1e-a0e5-4707-9653-f4fa7b960e10'})"
      ]
     },
     "execution_count": 11,
     "metadata": {},
     "output_type": "execute_result"
    }
   ],
   "source": []
  },
  {
   "cell_type": "code",
   "execution_count": 17,
   "metadata": {},
   "outputs": [
    {
     "data": {
      "text/plain": [
       "dict_items([('2d1d2be1-3037-4a1c-9c2e-e884b8f52bb4', 'ac6b2fc1-7462-47a8-9dea-890641e88067'), ('0e363d46-397f-4def-939a-c2589a02091a', '436c9c1e-a0e5-4707-9653-f4fa7b960e10')])"
      ]
     },
     "execution_count": 17,
     "metadata": {},
     "output_type": "execute_result"
    }
   ],
   "source": []
  },
  {
   "cell_type": "code",
   "execution_count": 1,
   "metadata": {},
   "outputs": [
    {
     "ename": "NameError",
     "evalue": "name 'DocumentSummaryIndex' is not defined",
     "output_type": "error",
     "traceback": [
      "\u001b[31m---------------------------------------------------------------------------\u001b[39m",
      "\u001b[31mNameError\u001b[39m                                 Traceback (most recent call last)",
      "\u001b[36mCell\u001b[39m\u001b[36m \u001b[39m\u001b[32mIn[1]\u001b[39m\u001b[32m, line 2\u001b[39m\n\u001b[32m      1\u001b[39m \u001b[38;5;66;03m##-----DONE-----\u001b[39;00m\n\u001b[32m----> \u001b[39m\u001b[32m2\u001b[39m \u001b[38;5;28;01mdef\u001b[39;00m\u001b[38;5;250m \u001b[39m\u001b[34mshow_doc_summaries\u001b[39m(index: \u001b[43mDocumentSummaryIndex\u001b[49m):\n\u001b[32m      3\u001b[39m \u001b[38;5;250m    \u001b[39m\u001b[33;03m\"\"\"打印索引中每篇文档的摘要\"\"\"\u001b[39;00m\n\u001b[32m      4\u001b[39m     struct = index.index_struct                 \u001b[38;5;66;03m# IndexDocumentSummary 对象\u001b[39;00m\n",
      "\u001b[31mNameError\u001b[39m: name 'DocumentSummaryIndex' is not defined"
     ]
    }
   ],
   "source": [
    "##-----DONE-----\n",
    "def show_doc_summaries(index: DocumentSummaryIndex):\n",
    "    \"\"\"打印索引中每篇文档的摘要\"\"\"\n",
    "    struct = index.index_struct                 # IndexDocumentSummary 对象\n",
    "    ds = index.docstore\n",
    "    #这个是获取的doc_id和summary_id\n",
    "    for doc_id, summary_node_id in struct.doc_id_to_summary_id.items():\n",
    "        summary_node = ds.get_node(summary_node_id)\n",
    "        print(f\"\\n=== 文档 {doc_id} 的摘要 ===\")\n",
    "        print(summary_node.get_text())\n",
    "\n",
    "# 调用函数显示摘要\n",
    "show_doc_summaries(summary_index)\n"
   ]
  },
  {
   "cell_type": "code",
   "execution_count": null,
   "metadata": {},
   "outputs": [
    {
     "name": "stdout",
     "output_type": "stream",
     "text": [
      "Node ID: 19c0c560-b7de-4a02-affa-931cf66ebe49, Doc ID: db196138-650f-4c06-832d-f31b9d8ee8da, Text: 我们在上海特区第二监狱里关了两天。到廿六...\n",
      "Node ID: 13c01a0c-a6e3-4443-bce9-687c2c472f2a, Doc ID: db196138-650f-4c06-832d-f31b9d8ee8da, Text: 到了地方法院之后，我和章先生被几个法警押...\n",
      "Node ID: 0182b86a-f8ac-482e-a93b-c7690a7dba98, Doc ID: db196138-650f-4c06-832d-f31b9d8ee8da, Text: 总算优待，原来八个人住的一间囚室，经他们...\n",
      "Node ID: feb44ea6-0a40-4af3-a7a7-280c6d16c23c, Doc ID: 8053f065-5e4a-42f8-924a-7ca601fb4485, Text: 在上海地方法院的看守所里只关了一天一夜，...\n",
      "Node ID: 51e44485-c54a-42e8-812e-dd07f23056ea, Doc ID: 8053f065-5e4a-42f8-924a-7ca601fb4485, Text: 这时沈先生等四位已押在公安局三四天了，我...\n",
      "Node ID: 94ffe1c8-c62b-422a-83e8-ac129d37de11, Doc ID: 8053f065-5e4a-42f8-924a-7ca601fb4485, Text: 但是他们对于职务还是不得不奉行故事的。他...\n"
     ]
    }
   ],
   "source": [
    "from llama_index.core import Document, VectorStoreIndex\n",
    "from llama_index.core.node_parser import SentenceSplitter\n",
    "\n",
    "# 示例数据（假设documents已存在，且每个doc有doc_id）\n",
    "\n",
    "def generate_simple_index():\n",
    "    # 按换行符分割，并禁用自动句子分割\n",
    "    splitter = SentenceSplitter(\n",
    "        separator=\"\\n\",  # 强制按换行符切分\n",
    "        chunk_size=1024,  # 可选：防止单个node过长\n",
    "        chunk_overlap=0,  # 无重叠\n",
    "        paragraph_separator=\"\\n\",  # 明确段落分隔符\n",
    "        secondary_chunking_regex=\"\\n\",  # 二级分割同样用换行符\n",
    "    )\n",
    "\n",
    "    # 分割并保留doc_id\n",
    "    nodes = []\n",
    "    for doc in documents:\n",
    "        # 对当前doc生成nodes\n",
    "        doc_nodes = splitter.get_nodes_from_documents([doc])\n",
    "        # 为每个node添加原doc_id到metadata\n",
    "        for node in doc_nodes:\n",
    "            node.metadata[\"doc_id\"] = doc.doc_id\n",
    "        nodes.extend(doc_nodes)\n",
    "\n",
    "    # 验证输出\n",
    "    for node in nodes:\n",
    "        print(f\"Node ID: {node.node_id}, Doc ID: {node.metadata['doc_id']}, Text: {node.text[:20]}...\")\n",
    "\n",
    "    # 创建索引（新版无需ServiceContext）\n",
    "    index = VectorStoreIndex(nodes)\n",
    "    return index"
   ]
  },
  {
   "cell_type": "code",
   "execution_count": 37,
   "metadata": {},
   "outputs": [
    {
     "name": "stdout",
     "output_type": "stream",
     "text": [
      "文档ID: db196138-650f-4c06-832d-f31b9d8ee8da\n",
      "文档ID: 8053f065-5e4a-42f8-924a-7ca601fb4485\n"
     ]
    }
   ],
   "source": [
    "# 打印所有文档的ID\n",
    "for doc in documents:\n",
    "    print(f\"文档ID: {doc.doc_id}\")\n"
   ]
  },
  {
   "cell_type": "code",
   "execution_count": null,
   "metadata": {},
   "outputs": [],
   "source": []
  },
  {
   "cell_type": "code",
   "execution_count": 40,
   "metadata": {},
   "outputs": [],
   "source": [
    "##根据用户提问，使用摘要索引获得相关文档\n",
    "def get_docs_from_summaryindex(doc_sum_index,query):\n",
    "    retriever = doc_sum_index.as_retriever(similarity_top_k=3)\n",
    "    # 手动进行检索（结果为 NodeWithScore 对象）\n",
    "    retrieved_nodes = retriever.retrieve(query)\n",
    "     # 使用集合去重\n",
    "    seen_doc_ids = set()\n",
    "    result = []\n",
    "    for node in retrieved_nodes:\n",
    "        ref_doc_id = node.node.ref_doc_id\n",
    "        # 只添加未见过的文档ID\n",
    "        if ref_doc_id not in seen_doc_ids:\n",
    "            seen_doc_ids.add(ref_doc_id)\n",
    "            result.append({\n",
    "                'ref_doc_id': ref_doc_id,\n",
    "                'score': node.score,  # 相关性分数\n",
    "                'text': node.node.text[:100] + '...',  # 文本预览\n",
    "            })\n",
    "    \n",
    "    return result\n",
    "res = get_docs_from_summaryindex(summary_index,\"作者和章先生在地方法院经历了什么？\")\n",
    "selected_doc_ids = [r['ref_doc_id'] for r in res]# 创建检索器，检索器只能检索信息，不需要进一步创建搜索或对话引擎\n",
    "def get_final_nodes_text():\n",
    "    retriever = index.as_retriever(similarity_top_k=5)\n",
    "    # 获取相关文档\n",
    "    retrieved_docs = retriever.retrieve(\"作者和章先生在地方法院经历了什么？\")\n",
    "    res_text = ''\n",
    "    for nodeWithScore in retrieved_docs:\n",
    "        if nodeWithScore.node.metadata['original_doc_id'] in selected_doc_ids:\n",
    "            res += nodeWithScore.node.text + '\\n\\n'\n",
    "    return res_text"
   ]
  },
  {
   "cell_type": "code",
   "execution_count": 41,
   "metadata": {},
   "outputs": [
    {
     "data": {
      "text/plain": [
       "[{'ref_doc_id': 'db196138-650f-4c06-832d-f31b9d8ee8da',\n",
       "  'score': None,\n",
       "  'text': '我们在上海特区第二监狱里关了两天。到廿六日那一天下午，我们在四点半后照例“归号”,铁格子门锁上了，我们两人照常在那小囚室里拥挤着。七点钟左右，忽有一个看守进来说“接见”。所谓“接见”,是监狱里允许囚犯...'},\n",
       " {'ref_doc_id': '8053f065-5e4a-42f8-924a-7ca601fb4485',\n",
       "  'score': None,\n",
       "  'text': '在上海地方法院的看守所里只关了一天一夜，廿七日下午六点钟左右，又像老鼠被猫衔在嘴里奔窜着，由地方法院转解到公安局里去。我们先由看守所里被提出来，重新光顾待审室一次，不过这时我和章先生两个人同被押进一间...'}]"
      ]
     },
     "execution_count": 41,
     "metadata": {},
     "output_type": "execute_result"
    }
   ],
   "source": [
    "res"
   ]
  },
  {
   "cell_type": "code",
   "execution_count": 42,
   "metadata": {},
   "outputs": [],
   "source": [
    "selected_doc_ids = [r['ref_doc_id'] for r in res]# 创建检索器，检索器只能检索信息，不需要进一步创建搜索或对话引擎\n",
    "def get_final_nodes_text():\n",
    "    retriever = index.as_retriever(similarity_top_k=5)\n",
    "    # 获取相关文档\n",
    "    retrieved_docs = retriever.retrieve(\"作者和章先生在地方法院经历了什么？\")\n",
    "    res = ''\n",
    "    for nodeWithScore in retrieved_docs:\n",
    "        if nodeWithScore.node.metadata['original_doc_id'] in selected_doc_ids:\n",
    "            res += nodeWithScore.node.text + '\\n\\n'\n",
    "    return res"
   ]
  },
  {
   "cell_type": "code",
   "execution_count": 43,
   "metadata": {},
   "outputs": [
    {
     "data": {
      "text/plain": [
       "['db196138-650f-4c06-832d-f31b9d8ee8da',\n",
       " '8053f065-5e4a-42f8-924a-7ca601fb4485']"
      ]
     },
     "execution_count": 43,
     "metadata": {},
     "output_type": "execute_result"
    }
   ],
   "source": [
    "selected_doc_ids"
   ]
  },
  {
   "cell_type": "code",
   "execution_count": 45,
   "metadata": {},
   "outputs": [],
   "source": [
    "# 创建检索器，检索器只能检索信息，不需要进一步创建搜索或对话引擎\n",
    "def get_final_nodes_text():\n",
    "    retriever = index.as_retriever(similarity_top_k=5)\n",
    "    # 获取相关文档\n",
    "    retrieved_docs = retriever.retrieve(\"作者和章先生在地方法院经历了什么？\")\n",
    "    res = ''\n",
    "    for nodeWithScore in retrieved_docs:\n",
    "        if nodeWithScore.node.metadata['original_doc_id'] in selected_doc_ids:\n",
    "            res += nodeWithScore.node.text + '\\n\\n'\n",
    "    return res"
   ]
  },
  {
   "cell_type": "code",
   "execution_count": 48,
   "metadata": {},
   "outputs": [
    {
     "data": {
      "text/plain": [
       "[NodeWithScore(node=TextNode(id_='13c01a0c-a6e3-4443-bce9-687c2c472f2a', embedding=None, metadata={'file_path': 'D:\\\\ai_ztf\\\\fastapi_project\\\\data\\\\地方法院.txt', 'file_name': '地方法院.txt', 'file_type': 'text/plain', 'file_size': 4656, 'creation_date': '2025-06-15', 'last_modified_date': '2025-06-12', 'original_doc_id': 'db196138-650f-4c06-832d-f31b9d8ee8da', 'doc_id': 'db196138-650f-4c06-832d-f31b9d8ee8da'}, excluded_embed_metadata_keys=['file_name', 'file_type', 'file_size', 'creation_date', 'last_modified_date', 'last_accessed_date'], excluded_llm_metadata_keys=['file_name', 'file_type', 'file_size', 'creation_date', 'last_modified_date', 'last_accessed_date'], relationships={<NodeRelationship.SOURCE: '1'>: RelatedNodeInfo(node_id='db196138-650f-4c06-832d-f31b9d8ee8da', node_type='4', metadata={'file_path': 'D:\\\\ai_ztf\\\\fastapi_project\\\\data\\\\地方法院.txt', 'file_name': '地方法院.txt', 'file_type': 'text/plain', 'file_size': 4656, 'creation_date': '2025-06-15', 'last_modified_date': '2025-06-12', 'original_doc_id': 'db196138-650f-4c06-832d-f31b9d8ee8da'}, hash='4d94f4facc454875530a251d7fbca362cc6d3099409b36fadadc5c7f40dbce6d'), <NodeRelationship.PREVIOUS: '2'>: RelatedNodeInfo(node_id='19c0c560-b7de-4a02-affa-931cf66ebe49', node_type='1', metadata={'file_path': 'D:\\\\ai_ztf\\\\fastapi_project\\\\data\\\\地方法院.txt', 'file_name': '地方法院.txt', 'file_type': 'text/plain', 'file_size': 4656, 'creation_date': '2025-06-15', 'last_modified_date': '2025-06-12', 'original_doc_id': 'db196138-650f-4c06-832d-f31b9d8ee8da'}, hash='01ec98118279932f9c2f4155348b0d9858830aff1aa4430e9a3b8b000e1f49ff'), <NodeRelationship.NEXT: '3'>: RelatedNodeInfo(node_id='0182b86a-f8ac-482e-a93b-c7690a7dba98', node_type='1', metadata={}, hash='354dc3daa75e1059c8a2cf2826e82fe26b023aca2a3b3075cc6d274f4b6629b1')}, metadata_template='{key}: {value}', metadata_separator='\\n', text='到了地方法院之后，我和章先生被几个法警押进待审室。待审室有三四个大房间，用木板隔开的。我和章先生是隔离着的，各人关在一个大房间里面。房里四周用木板搭成长凳，门上有个四方形的洞穴，外面的人可从这个方洞向内望。里面很陈旧龌龊，我一踏进门口，就觉得尿气熏鼻，臭不可当。我于诧异间仔细向四周望望，原来房里摆着一个大马桶，其大无比，好像寻常人家用的大米桶。等一会儿，有个青年法警跑到方洞口张张望望。我看他很和善的样子，便和他谈了几句话，知道他们弟兄们都是很窘苦的，每月九块钱，一切在内，个人还不够用，养家更不得了。又等一会儿，又有一个人在方洞口张望，轻声问我是不是某先生，我说是，略谈之下，才知道他也是我的读者，在法院里任职员，正在吃晚饭，听说我来了，连饭都不吃，特跑来安慰我。他的办公时间原已完了，因为我来，一定要等我审完，好好招呼我进了看守所才肯回去。我说他一天辛苦，要回家休息，不必等我。他不肯，直等到一切布置妥当后才肯离开。\\r\\n约等了半小时模样，传审了，审得很简单，照例由检察官问姓名、籍贯、年龄、住址等等之后，问起参加救国会的事，问起救国会的宗旨，问起有没有参加煽动日本纱厂工潮。审后再押回待审室坐了一些时候，便押往看守所羁押。', mimetype='text/plain', start_char_idx=620, end_char_idx=1134, metadata_seperator='\\n', text_template='{metadata_str}\\n\\n{content}'), score=0.4880754559192813),\n",
       " NodeWithScore(node=TextNode(id_='0182b86a-f8ac-482e-a93b-c7690a7dba98', embedding=None, metadata={'file_path': 'D:\\\\ai_ztf\\\\fastapi_project\\\\data\\\\地方法院.txt', 'file_name': '地方法院.txt', 'file_type': 'text/plain', 'file_size': 4656, 'creation_date': '2025-06-15', 'last_modified_date': '2025-06-12', 'original_doc_id': 'db196138-650f-4c06-832d-f31b9d8ee8da', 'doc_id': 'db196138-650f-4c06-832d-f31b9d8ee8da'}, excluded_embed_metadata_keys=['file_name', 'file_type', 'file_size', 'creation_date', 'last_modified_date', 'last_accessed_date'], excluded_llm_metadata_keys=['file_name', 'file_type', 'file_size', 'creation_date', 'last_modified_date', 'last_accessed_date'], relationships={<NodeRelationship.SOURCE: '1'>: RelatedNodeInfo(node_id='db196138-650f-4c06-832d-f31b9d8ee8da', node_type='4', metadata={'file_path': 'D:\\\\ai_ztf\\\\fastapi_project\\\\data\\\\地方法院.txt', 'file_name': '地方法院.txt', 'file_type': 'text/plain', 'file_size': 4656, 'creation_date': '2025-06-15', 'last_modified_date': '2025-06-12', 'original_doc_id': 'db196138-650f-4c06-832d-f31b9d8ee8da'}, hash='4d94f4facc454875530a251d7fbca362cc6d3099409b36fadadc5c7f40dbce6d'), <NodeRelationship.PREVIOUS: '2'>: RelatedNodeInfo(node_id='13c01a0c-a6e3-4443-bce9-687c2c472f2a', node_type='1', metadata={'file_path': 'D:\\\\ai_ztf\\\\fastapi_project\\\\data\\\\地方法院.txt', 'file_name': '地方法院.txt', 'file_type': 'text/plain', 'file_size': 4656, 'creation_date': '2025-06-15', 'last_modified_date': '2025-06-12', 'original_doc_id': 'db196138-650f-4c06-832d-f31b9d8ee8da'}, hash='1b6dc0ca7291deaffcb1fdecf53094fd71d4535b65ef53d7db5ff8dbc0db9241')}, metadata_template='{key}: {value}', metadata_separator='\\n', text='总算优待，原来八个人住的一间囚室，经他们撤清打扫之后，由我和章先生两人同住。房里有一张大木桌可以放些零物。电灯一盏高高地装在两个房间的隔墙上面的方洞里，夜里在房里是看不出什么的，我们到九点钟就安排睡觉，怕有臭虫来光顾，特把木榻搬得离墙远远的。最使我注意的是在那样一个小房间里，也排有待审室里同样大的一个大马桶!第二早起身后，照例打手印，我们这时已打得更熟练了，打出的印子似乎已有了相当的进步!打完了手印，还要一同到天井里去照—张相片。这张相片照得怪有趣!我和章先生各人坐在一只骨牌凳上，列在一排照的；每人坐着，腹前还放着一块石板(好像小学生做算学用的，黑色，上面可用粉笔写字),我的那块石板上面写着雪白的几个大字是“第三千几十号某某(区区的名字)妨碍秩序嫌疑”,章先生的那块石板上面写的相同，不过号码和姓名改一改就是了。我们昂然同坐着照了一张这样的相片。事后我对章先生说，最好能讨得一张取来放大，将来可以高高地悬在客厅里面，让许多朋友“瞻仰瞻仰”,倒是一种很好的纪念。', mimetype='text/plain', start_char_idx=1136, end_char_idx=1570, metadata_seperator='\\n', text_template='{metadata_str}\\n\\n{content}'), score=0.463324486808474),\n",
       " NodeWithScore(node=TextNode(id_='19c0c560-b7de-4a02-affa-931cf66ebe49', embedding=None, metadata={'file_path': 'D:\\\\ai_ztf\\\\fastapi_project\\\\data\\\\地方法院.txt', 'file_name': '地方法院.txt', 'file_type': 'text/plain', 'file_size': 4656, 'creation_date': '2025-06-15', 'last_modified_date': '2025-06-12', 'original_doc_id': 'db196138-650f-4c06-832d-f31b9d8ee8da', 'doc_id': 'db196138-650f-4c06-832d-f31b9d8ee8da'}, excluded_embed_metadata_keys=['file_name', 'file_type', 'file_size', 'creation_date', 'last_modified_date', 'last_accessed_date'], excluded_llm_metadata_keys=['file_name', 'file_type', 'file_size', 'creation_date', 'last_modified_date', 'last_accessed_date'], relationships={<NodeRelationship.SOURCE: '1'>: RelatedNodeInfo(node_id='db196138-650f-4c06-832d-f31b9d8ee8da', node_type='4', metadata={'file_path': 'D:\\\\ai_ztf\\\\fastapi_project\\\\data\\\\地方法院.txt', 'file_name': '地方法院.txt', 'file_type': 'text/plain', 'file_size': 4656, 'creation_date': '2025-06-15', 'last_modified_date': '2025-06-12', 'original_doc_id': 'db196138-650f-4c06-832d-f31b9d8ee8da'}, hash='4d94f4facc454875530a251d7fbca362cc6d3099409b36fadadc5c7f40dbce6d'), <NodeRelationship.NEXT: '3'>: RelatedNodeInfo(node_id='13c01a0c-a6e3-4443-bce9-687c2c472f2a', node_type='1', metadata={}, hash='bea59afc22d322d3969cf7c7bdd5ba78a47df3def625a6215d19349a9aeb308a')}, metadata_template='{key}: {value}', metadata_separator='\\n', text='我们在上海特区第二监狱里关了两天。到廿六日那一天下午，我们在四点半后照例“归号”,铁格子门锁上了，我们两人照常在那小囚室里拥挤着。七点钟左右，忽有一个看守进来说“接见”。所谓“接见”,是监狱里允许囚犯接见家属亲友。我们两人虽觉得那样晚的时候，怎样还有“接见”,但是既经说有，我们便匆匆随他出去。到了外面，才知道是要到法院去开庭的。离开监狱的时候，还照例在簿子上打个大拇指的手印。\\r\\n到了高三分院的法庭以后，才知道是上海地方法院(在租界以外的法院)来“移提”。我在前面曾经说过，廿三日和廿四日两次在高三分院开庭时，公安局都是要把我们“移提”的，捕房律师因为没有犯罪的证据，两次拒绝“移提”。据说根据上海法租界和中国政府的协定，除中国的司法机关可以无需证据即可向捕房或特区法院“移提”犯人外，像公安局一类的机关要做这件事，必须拿得出证据才行。因为这个缘故，他们便设法转个弯儿，由上海地方法院出面来“移提”。结果当然是达到了他们的目的。其实我们所要求的是无罪当庭开释，至于“移提”不“移提”,并不在意；现在一定要“移提”,“移提”就是了。“移提”的理由据说是“妨碍秩序嫌疑”!\\r\\n我们在高三分院法庭的时候，地方法院已派了好几个法警等着，一出法庭，便被他们拥上汽车，往城里驶去。我和章先生各乘一辆汽车，左右各有两个法警押着。我们这几天好像被猫衔着的老鼠东奔西窜似的，原已不足为奇，我们所觉得不无抱憾的，是没有机会和同狱的那几个青年好友握别罢了。', mimetype='text/plain', start_char_idx=0, end_char_idx=618, metadata_seperator='\\n', text_template='{metadata_str}\\n\\n{content}'), score=0.43945125678538255),\n",
       " NodeWithScore(node=TextNode(id_='feb44ea6-0a40-4af3-a7a7-280c6d16c23c', embedding=None, metadata={'file_path': 'D:\\\\ai_ztf\\\\fastapi_project\\\\data\\\\押在公安局.txt', 'file_name': '押在公安局.txt', 'file_type': 'text/plain', 'file_size': 5380, 'creation_date': '2025-06-15', 'last_modified_date': '2025-06-12', 'original_doc_id': '8053f065-5e4a-42f8-924a-7ca601fb4485', 'doc_id': '8053f065-5e4a-42f8-924a-7ca601fb4485'}, excluded_embed_metadata_keys=['file_name', 'file_type', 'file_size', 'creation_date', 'last_modified_date', 'last_accessed_date'], excluded_llm_metadata_keys=['file_name', 'file_type', 'file_size', 'creation_date', 'last_modified_date', 'last_accessed_date'], relationships={<NodeRelationship.SOURCE: '1'>: RelatedNodeInfo(node_id='8053f065-5e4a-42f8-924a-7ca601fb4485', node_type='4', metadata={'file_path': 'D:\\\\ai_ztf\\\\fastapi_project\\\\data\\\\押在公安局.txt', 'file_name': '押在公安局.txt', 'file_type': 'text/plain', 'file_size': 5380, 'creation_date': '2025-06-15', 'last_modified_date': '2025-06-12', 'original_doc_id': '8053f065-5e4a-42f8-924a-7ca601fb4485'}, hash='5a0069a02a5e4353652f26f537018fc72f2c5e7e912e3d8dd4cfd0c976e084a0'), <NodeRelationship.NEXT: '3'>: RelatedNodeInfo(node_id='51e44485-c54a-42e8-812e-dd07f23056ea', node_type='1', metadata={}, hash='91074c93084b71e758d58664911bd317666aa874e74ed15ad5bd1dea07132f80')}, metadata_template='{key}: {value}', metadata_separator='\\n', text='在上海地方法院的看守所里只关了一天一夜，廿七日下午六点钟左右，又像老鼠被猫衔在嘴里奔窜着，由地方法院转解到公安局里去。我们先由看守所里被提出来，重新光顾待审室一次，不过这时我和章先生两个人同被押进一间待审室里去等候着。这时的法警对我们比初来的那天客气得多，大概他们都知道了我们是为着参加救国运动才到这里来的。等一会儿，我们先后被传审，检察官虽换了一个，但是问答内容还是上次那同样的一套。不过这次那位审问我们的检察官却充满着同情和歉意，拿出公安局的公文给我们看，里面说要移提我们去和沈先生等四位“对质”。检察官宣布之后，我们也没有什么话说，走出法庭后，就有公安局派来的人员迎上来押着出去。法院里有几个职员赶出来和我们握手送别，我们又觉到爱国的同胞们随处给予我们的同情和厚意的可感。我无意中和章先生说出了这一句话，在旁边同走的那位公安局的科员插着说：“这是各位先生人格的感动。”我说：“这倒不是我们几个个人的人格问题，却是有许多同胞不愿做亡国奴的心理的流露!”\\r\\n我们随着一群公安局的侦探、警察和科员，拥出了法院的门口，分乘汽车直驶公安局而去。', mimetype='text/plain', start_char_idx=0, end_char_idx=470, metadata_seperator='\\n', text_template='{metadata_str}\\n\\n{content}'), score=0.4215424203851395),\n",
       " NodeWithScore(node=TextNode(id_='51e44485-c54a-42e8-812e-dd07f23056ea', embedding=None, metadata={'file_path': 'D:\\\\ai_ztf\\\\fastapi_project\\\\data\\\\押在公安局.txt', 'file_name': '押在公安局.txt', 'file_type': 'text/plain', 'file_size': 5380, 'creation_date': '2025-06-15', 'last_modified_date': '2025-06-12', 'original_doc_id': '8053f065-5e4a-42f8-924a-7ca601fb4485', 'doc_id': '8053f065-5e4a-42f8-924a-7ca601fb4485'}, excluded_embed_metadata_keys=['file_name', 'file_type', 'file_size', 'creation_date', 'last_modified_date', 'last_accessed_date'], excluded_llm_metadata_keys=['file_name', 'file_type', 'file_size', 'creation_date', 'last_modified_date', 'last_accessed_date'], relationships={<NodeRelationship.SOURCE: '1'>: RelatedNodeInfo(node_id='8053f065-5e4a-42f8-924a-7ca601fb4485', node_type='4', metadata={'file_path': 'D:\\\\ai_ztf\\\\fastapi_project\\\\data\\\\押在公安局.txt', 'file_name': '押在公安局.txt', 'file_type': 'text/plain', 'file_size': 5380, 'creation_date': '2025-06-15', 'last_modified_date': '2025-06-12', 'original_doc_id': '8053f065-5e4a-42f8-924a-7ca601fb4485'}, hash='5a0069a02a5e4353652f26f537018fc72f2c5e7e912e3d8dd4cfd0c976e084a0'), <NodeRelationship.PREVIOUS: '2'>: RelatedNodeInfo(node_id='feb44ea6-0a40-4af3-a7a7-280c6d16c23c', node_type='1', metadata={'file_path': 'D:\\\\ai_ztf\\\\fastapi_project\\\\data\\\\押在公安局.txt', 'file_name': '押在公安局.txt', 'file_type': 'text/plain', 'file_size': 5380, 'creation_date': '2025-06-15', 'last_modified_date': '2025-06-12', 'original_doc_id': '8053f065-5e4a-42f8-924a-7ca601fb4485'}, hash='bc286aadfe7487083646764e9b89fb6afa2d4306218e739924d625fd6fa6aaba'), <NodeRelationship.NEXT: '3'>: RelatedNodeInfo(node_id='94ffe1c8-c62b-422a-83e8-ac129d37de11', node_type='1', metadata={}, hash='b7e1c8686a30bbea6812c033983286caacc48cdd8de6c23ccf8234470ae55be3')}, metadata_template='{key}: {value}', metadata_separator='\\n', text='这时沈先生等四位已押在公安局三四天了，我们一进公安局，就被引到他们的房间里去。我们在患难中相见畅谈，当然是格外快慰的，彼此诉说了一番经过的情形，又说了不少互相安慰的话语。我看看他们所住的房间还算清洁，是在二层楼上，前面有个露台，露台的前面是大天井，立在露台上可以看着公安局的大门；房的后面靠壁处并列排着四个小铁床，便是他们四位的床铺；这一列铁床的前面有个屏风遮着，屏风的外面放着一张圆桌、几张椅子，便是我们吃饭和相聚谈话的地方。我踏进房里一会儿之后，觉得奇特的是总有一个不相识的人立着或坐在一个角落里，我已直觉地知道这一定是用来监视我们的；后来知道他确是侦察队的侦探，奉命来监视的。房前的露台上还有四五个“武装同志”(警察)在那里监视着。房的右边有个客厅，来访问的人可以在那里坐坐，由客厅通到外面的那个门是常常锁好的。我们要大小便的时候，便有一个“武装同志”跟着我们经过这个门，在厕所门前守着，直等到陪着我们回到原处。\\r\\n我和章先生两人的卧室是在这个大房间的左边一个小房间里。他们已在几天前就替我们备好了两架小铁床。自从我们两人来了之后，又加派了一个侦探来监视。纵然是做侦探，也还是中国人。我们所干的是救国运动，我们所谈的也只是关于抗日救国的事情；我们不但用不着避他们，而且当着他们大谈我们对于救国的主张，大讨论我们对于救国的意见；侦探们听了不但不觉得我们是什么大逆不道，而且深切地表着同情!他们和我们相聚了几天，竟变成我们的同情者，甚至觉得每日来监视我们是一种不得已的痛苦和职务。不但侦探们如此，就是那些“武装同志”也成了我们的朋友!', mimetype='text/plain', start_char_idx=472, end_char_idx=1140, metadata_seperator='\\n', text_template='{metadata_str}\\n\\n{content}'), score=0.38691012544712966)]"
      ]
     },
     "execution_count": 48,
     "metadata": {},
     "output_type": "execute_result"
    }
   ],
   "source": [
    "retrieved_docs"
   ]
  },
  {
   "cell_type": "code",
   "execution_count": 50,
   "metadata": {},
   "outputs": [
    {
     "name": "stdout",
     "output_type": "stream",
     "text": [
      "到了地方法院之后，我和章先生被几个法警押进待审室。待审室有三四个大房间，用木板隔开的。我和章先生是隔离着的，各人关在一个大房间里面。房里四周用木板搭成长凳，门上有个四方形的洞穴，外面的人可从这个方洞向内望。里面很陈旧龌龊，我一踏进门口，就觉得尿气熏鼻，臭不可当。我于诧异间仔细向四周望望，原来房里摆着一个大马桶，其大无比，好像寻常人家用的大米桶。等一会儿，有个青年法警跑到方洞口张张望望。我看他很和善的样子，便和他谈了几句话，知道他们弟兄们都是很窘苦的，每月九块钱，一切在内，个人还不够用，养家更不得了。又等一会儿，又有一个人在方洞口张望，轻声问我是不是某先生，我说是，略谈之下，才知道他也是我的读者，在法院里任职员，正在吃晚饭，听说我来了，连饭都不吃，特跑来安慰我。他的办公时间原已完了，因为我来，一定要等我审完，好好招呼我进了看守所才肯回去。我说他一天辛苦，要回家休息，不必等我。他不肯，直等到一切布置妥当后才肯离开。\n",
      "约等了半小时模样，传审了，审得很简单，照例由检察官问姓名、籍贯、年龄、住址等等之后，问起参加救国会的事，问起救国会的宗旨，问起有没有参加煽动日本纱厂工潮。审后再押回待审室坐了一些时候，便押往看守所羁押。\n",
      "总算优待，原来八个人住的一间囚室，经他们撤清打扫之后，由我和章先生两人同住。房里有一张大木桌可以放些零物。电灯一盏高高地装在两个房间的隔墙上面的方洞里，夜里在房里是看不出什么的，我们到九点钟就安排睡觉，怕有臭虫来光顾，特把木榻搬得离墙远远的。最使我注意的是在那样一个小房间里，也排有待审室里同样大的一个大马桶!第二早起身后，照例打手印，我们这时已打得更熟练了，打出的印子似乎已有了相当的进步!打完了手印，还要一同到天井里去照—张相片。这张相片照得怪有趣!我和章先生各人坐在一只骨牌凳上，列在一排照的；每人坐着，腹前还放着一块石板(好像小学生做算学用的，黑色，上面可用粉笔写字),我的那块石板上面写着雪白的几个大字是“第三千几十号某某(区区的名字)妨碍秩序嫌疑”,章先生的那块石板上面写的相同，不过号码和姓名改一改就是了。我们昂然同坐着照了一张这样的相片。事后我对章先生说，最好能讨得一张取来放大，将来可以高高地悬在客厅里面，让许多朋友“瞻仰瞻仰”,倒是一种很好的纪念。\n",
      "我们在上海特区第二监狱里关了两天。到廿六日那一天下午，我们在四点半后照例“归号”,铁格子门锁上了，我们两人照常在那小囚室里拥挤着。七点钟左右，忽有一个看守进来说“接见”。所谓“接见”,是监狱里允许囚犯接见家属亲友。我们两人虽觉得那样晚的时候，怎样还有“接见”,但是既经说有，我们便匆匆随他出去。到了外面，才知道是要到法院去开庭的。离开监狱的时候，还照例在簿子上打个大拇指的手印。\n",
      "到了高三分院的法庭以后，才知道是上海地方法院(在租界以外的法院)来“移提”。我在前面曾经说过，廿三日和廿四日两次在高三分院开庭时，公安局都是要把我们“移提”的，捕房律师因为没有犯罪的证据，两次拒绝“移提”。据说根据上海法租界和中国政府的协定，除中国的司法机关可以无需证据即可向捕房或特区法院“移提”犯人外，像公安局一类的机关要做这件事，必须拿得出证据才行。因为这个缘故，他们便设法转个弯儿，由上海地方法院出面来“移提”。结果当然是达到了他们的目的。其实我们所要求的是无罪当庭开释，至于“移提”不“移提”,并不在意；现在一定要“移提”,“移提”就是了。“移提”的理由据说是“妨碍秩序嫌疑”!\n",
      "我们在高三分院法庭的时候，地方法院已派了好几个法警等着，一出法庭，便被他们拥上汽车，往城里驶去。我和章先生各乘一辆汽车，左右各有两个法警押着。我们这几天好像被猫衔着的老鼠东奔西窜似的，原已不足为奇，我们所觉得不无抱憾的，是没有机会和同狱的那几个青年好友握别罢了。\n",
      "在上海地方法院的看守所里只关了一天一夜，廿七日下午六点钟左右，又像老鼠被猫衔在嘴里奔窜着，由地方法院转解到公安局里去。我们先由看守所里被提出来，重新光顾待审室一次，不过这时我和章先生两个人同被押进一间待审室里去等候着。这时的法警对我们比初来的那天客气得多，大概他们都知道了我们是为着参加救国运动才到这里来的。等一会儿，我们先后被传审，检察官虽换了一个，但是问答内容还是上次那同样的一套。不过这次那位审问我们的检察官却充满着同情和歉意，拿出公安局的公文给我们看，里面说要移提我们去和沈先生等四位“对质”。检察官宣布之后，我们也没有什么话说，走出法庭后，就有公安局派来的人员迎上来押着出去。法院里有几个职员赶出来和我们握手送别，我们又觉到爱国的同胞们随处给予我们的同情和厚意的可感。我无意中和章先生说出了这一句话，在旁边同走的那位公安局的科员插着说：“这是各位先生人格的感动。”我说：“这倒不是我们几个个人的人格问题，却是有许多同胞不愿做亡国奴的心理的流露!”\n",
      "我们随着一群公安局的侦探、警察和科员，拥出了法院的门口，分乘汽车直驶公安局而去。\n",
      "这时沈先生等四位已押在公安局三四天了，我们一进公安局，就被引到他们的房间里去。我们在患难中相见畅谈，当然是格外快慰的，彼此诉说了一番经过的情形，又说了不少互相安慰的话语。我看看他们所住的房间还算清洁，是在二层楼上，前面有个露台，露台的前面是大天井，立在露台上可以看着公安局的大门；房的后面靠壁处并列排着四个小铁床，便是他们四位的床铺；这一列铁床的前面有个屏风遮着，屏风的外面放着一张圆桌、几张椅子，便是我们吃饭和相聚谈话的地方。我踏进房里一会儿之后，觉得奇特的是总有一个不相识的人立着或坐在一个角落里，我已直觉地知道这一定是用来监视我们的；后来知道他确是侦察队的侦探，奉命来监视的。房前的露台上还有四五个“武装同志”(警察)在那里监视着。房的右边有个客厅，来访问的人可以在那里坐坐，由客厅通到外面的那个门是常常锁好的。我们要大小便的时候，便有一个“武装同志”跟着我们经过这个门，在厕所门前守着，直等到陪着我们回到原处。\n",
      "我和章先生两人的卧室是在这个大房间的左边一个小房间里。他们已在几天前就替我们备好了两架小铁床。自从我们两人来了之后，又加派了一个侦探来监视。纵然是做侦探，也还是中国人。我们所干的是救国运动，我们所谈的也只是关于抗日救国的事情；我们不但用不着避他们，而且当着他们大谈我们对于救国的主张，大讨论我们对于救国的意见；侦探们听了不但不觉得我们是什么大逆不道，而且深切地表着同情!他们和我们相聚了几天，竟变成我们的同情者，甚至觉得每日来监视我们是一种不得已的痛苦和职务。不但侦探们如此，就是那些“武装同志”也成了我们的朋友!\n"
     ]
    }
   ],
   "source": [
    "for nodeWithScore in retrieved_docs:\n",
    "    print(nodeWithScore.node.text)"
   ]
  },
  {
   "cell_type": "code",
   "execution_count": 52,
   "metadata": {},
   "outputs": [
    {
     "name": "stdout",
     "output_type": "stream",
     "text": [
      "到了地方法院之后，我和章先生被几个法警押进待审室。待审室有三四个大房间，用木板隔开的。我和章先生是隔离着的，各人关在一个大房间里面。房里四周用木板搭成长凳，门上有个四方形的洞穴，外面的人可从这个方洞向内望。里面很陈旧龌龊，我一踏进门口，就觉得尿气熏鼻，臭不可当。我于诧异间仔细向四周望望，原来房里摆着一个大马桶，其大无比，好像寻常人家用的大米桶。等一会儿，有个青年法警跑到方洞口张张望望。我看他很和善的样子，便和他谈了几句话，知道他们弟兄们都是很窘苦的，每月九块钱，一切在内，个人还不够用，养家更不得了。又等一会儿，又有一个人在方洞口张望，轻声问我是不是某先生，我说是，略谈之下，才知道他也是我的读者，在法院里任职员，正在吃晚饭，听说我来了，连饭都不吃，特跑来安慰我。他的办公时间原已完了，因为我来，一定要等我审完，好好招呼我进了看守所才肯回去。我说他一天辛苦，要回家休息，不必等我。他不肯，直等到一切布置妥当后才肯离开。\n",
      "约等了半小时模样，传审了，审得很简单，照例由检察官问姓名、籍贯、年龄、住址等等之后，问起参加救国会的事，问起救国会的宗旨，问起有没有参加煽动日本纱厂工潮。审后再押回待审室坐了一些时候，便押往看守所羁押。\n",
      "\n",
      "总算优待，原来八个人住的一间囚室，经他们撤清打扫之后，由我和章先生两人同住。房里有一张大木桌可以放些零物。电灯一盏高高地装在两个房间的隔墙上面的方洞里，夜里在房里是看不出什么的，我们到九点钟就安排睡觉，怕有臭虫来光顾，特把木榻搬得离墙远远的。最使我注意的是在那样一个小房间里，也排有待审室里同样大的一个大马桶!第二早起身后，照例打手印，我们这时已打得更熟练了，打出的印子似乎已有了相当的进步!打完了手印，还要一同到天井里去照—张相片。这张相片照得怪有趣!我和章先生各人坐在一只骨牌凳上，列在一排照的；每人坐着，腹前还放着一块石板(好像小学生做算学用的，黑色，上面可用粉笔写字),我的那块石板上面写着雪白的几个大字是“第三千几十号某某(区区的名字)妨碍秩序嫌疑”,章先生的那块石板上面写的相同，不过号码和姓名改一改就是了。我们昂然同坐着照了一张这样的相片。事后我对章先生说，最好能讨得一张取来放大，将来可以高高地悬在客厅里面，让许多朋友“瞻仰瞻仰”,倒是一种很好的纪念。\n",
      "\n",
      "我们在上海特区第二监狱里关了两天。到廿六日那一天下午，我们在四点半后照例“归号”,铁格子门锁上了，我们两人照常在那小囚室里拥挤着。七点钟左右，忽有一个看守进来说“接见”。所谓“接见”,是监狱里允许囚犯接见家属亲友。我们两人虽觉得那样晚的时候，怎样还有“接见”,但是既经说有，我们便匆匆随他出去。到了外面，才知道是要到法院去开庭的。离开监狱的时候，还照例在簿子上打个大拇指的手印。\n",
      "到了高三分院的法庭以后，才知道是上海地方法院(在租界以外的法院)来“移提”。我在前面曾经说过，廿三日和廿四日两次在高三分院开庭时，公安局都是要把我们“移提”的，捕房律师因为没有犯罪的证据，两次拒绝“移提”。据说根据上海法租界和中国政府的协定，除中国的司法机关可以无需证据即可向捕房或特区法院“移提”犯人外，像公安局一类的机关要做这件事，必须拿得出证据才行。因为这个缘故，他们便设法转个弯儿，由上海地方法院出面来“移提”。结果当然是达到了他们的目的。其实我们所要求的是无罪当庭开释，至于“移提”不“移提”,并不在意；现在一定要“移提”,“移提”就是了。“移提”的理由据说是“妨碍秩序嫌疑”!\n",
      "我们在高三分院法庭的时候，地方法院已派了好几个法警等着，一出法庭，便被他们拥上汽车，往城里驶去。我和章先生各乘一辆汽车，左右各有两个法警押着。我们这几天好像被猫衔着的老鼠东奔西窜似的，原已不足为奇，我们所觉得不无抱憾的，是没有机会和同狱的那几个青年好友握别罢了。\n",
      "\n",
      "在上海地方法院的看守所里只关了一天一夜，廿七日下午六点钟左右，又像老鼠被猫衔在嘴里奔窜着，由地方法院转解到公安局里去。我们先由看守所里被提出来，重新光顾待审室一次，不过这时我和章先生两个人同被押进一间待审室里去等候着。这时的法警对我们比初来的那天客气得多，大概他们都知道了我们是为着参加救国运动才到这里来的。等一会儿，我们先后被传审，检察官虽换了一个，但是问答内容还是上次那同样的一套。不过这次那位审问我们的检察官却充满着同情和歉意，拿出公安局的公文给我们看，里面说要移提我们去和沈先生等四位“对质”。检察官宣布之后，我们也没有什么话说，走出法庭后，就有公安局派来的人员迎上来押着出去。法院里有几个职员赶出来和我们握手送别，我们又觉到爱国的同胞们随处给予我们的同情和厚意的可感。我无意中和章先生说出了这一句话，在旁边同走的那位公安局的科员插着说：“这是各位先生人格的感动。”我说：“这倒不是我们几个个人的人格问题，却是有许多同胞不愿做亡国奴的心理的流露!”\n",
      "我们随着一群公安局的侦探、警察和科员，拥出了法院的门口，分乘汽车直驶公安局而去。\n",
      "\n",
      "这时沈先生等四位已押在公安局三四天了，我们一进公安局，就被引到他们的房间里去。我们在患难中相见畅谈，当然是格外快慰的，彼此诉说了一番经过的情形，又说了不少互相安慰的话语。我看看他们所住的房间还算清洁，是在二层楼上，前面有个露台，露台的前面是大天井，立在露台上可以看着公安局的大门；房的后面靠壁处并列排着四个小铁床，便是他们四位的床铺；这一列铁床的前面有个屏风遮着，屏风的外面放着一张圆桌、几张椅子，便是我们吃饭和相聚谈话的地方。我踏进房里一会儿之后，觉得奇特的是总有一个不相识的人立着或坐在一个角落里，我已直觉地知道这一定是用来监视我们的；后来知道他确是侦察队的侦探，奉命来监视的。房前的露台上还有四五个“武装同志”(警察)在那里监视着。房的右边有个客厅，来访问的人可以在那里坐坐，由客厅通到外面的那个门是常常锁好的。我们要大小便的时候，便有一个“武装同志”跟着我们经过这个门，在厕所门前守着，直等到陪着我们回到原处。\n",
      "我和章先生两人的卧室是在这个大房间的左边一个小房间里。他们已在几天前就替我们备好了两架小铁床。自从我们两人来了之后，又加派了一个侦探来监视。纵然是做侦探，也还是中国人。我们所干的是救国运动，我们所谈的也只是关于抗日救国的事情；我们不但用不着避他们，而且当着他们大谈我们对于救国的主张，大讨论我们对于救国的意见；侦探们听了不但不觉得我们是什么大逆不道，而且深切地表着同情!他们和我们相聚了几天，竟变成我们的同情者，甚至觉得每日来监视我们是一种不得已的痛苦和职务。不但侦探们如此，就是那些“武装同志”也成了我们的朋友!\n",
      "\n",
      "\n"
     ]
    }
   ],
   "source": [
    "\n",
    "res = ''\n",
    "for nodeWithScore in retrieved_docs:\n",
    "    if nodeWithScore.node.metadata['original_doc_id'] in selected_doc_ids:\n",
    "        res += nodeWithScore.node.text + '\\n\\n'\n",
    "print(res)"
   ]
  },
  {
   "cell_type": "code",
   "execution_count": null,
   "metadata": {},
   "outputs": [],
   "source": [
    "## 从简单索引中,根据用户问题，获取相关文档,拼接为一个字符串输出\n",
    "# def get_node_info(node):\n",
    "#     \"\"\"\n",
    "#     获取节点的文档ID和文本内容\n",
    "    \n",
    "#     Args:\n",
    "#         node: 节点对象\n",
    "        \n",
    "#     Returns:\n",
    "#         dict: 包含文档ID和文本内容的字典\n",
    "#     \"\"\"\n",
    "#     return {\n",
    "#         'doc_id': node.ref_doc_id,\n",
    "#         'text': node.text\n",
    "#     }\n",
    "\n",
    "def get_docs_from_simpleindex(simpleindex,user_question):\n",
    "    # 创建检索器，检索器只能检索信息，不需要进一步创建搜索或对话引擎\n",
    "    retriever = simpleindex.as_retriever(similarity_top_k=5)\n",
    "    # 获取相关文档\n",
    "    retrieved_docs = retriever.retrieve(user_question)\n",
    "    result = ''\n",
    "    # 打印检索到的文档\n",
    "    for doc in retrieved_docs:\n",
    "        result += doc.text + '\\n'\n",
    "    return result\n",
    "\n",
    "res = ''\n",
    "for nodeWithScore in retrieved_docs:\n",
    "    if nodeWithScore.node.metadata['original_doc_id'] in selected_doc_ids:\n",
    "        res += nodeWithScore.node.text + '\\n\\n'\n",
    "print(res)"
   ]
  },
  {
   "cell_type": "code",
   "execution_count": 44,
   "metadata": {},
   "outputs": [
    {
     "ename": "AttributeError",
     "evalue": "'VectorStoreIndex' object has no attribute 'query'",
     "output_type": "error",
     "traceback": [
      "\u001b[31m---------------------------------------------------------------------------\u001b[39m",
      "\u001b[31mAttributeError\u001b[39m                            Traceback (most recent call last)",
      "\u001b[36mCell\u001b[39m\u001b[36m \u001b[39m\u001b[32mIn[44]\u001b[39m\u001b[32m, line 2\u001b[39m\n\u001b[32m      1\u001b[39m \u001b[38;5;66;03m# 第 2 步：节点索引细检，并过滤到第 1 步筛出的文档\u001b[39;00m\n\u001b[32m----> \u001b[39m\u001b[32m2\u001b[39m node_resp = \u001b[43mindex\u001b[49m\u001b[43m.\u001b[49m\u001b[43mquery\u001b[49m(\n\u001b[32m      3\u001b[39m     \u001b[33m\"\u001b[39m\u001b[33m作者和章先生在地方法院经历了什么？\u001b[39m\u001b[33m\"\u001b[39m,\n\u001b[32m      4\u001b[39m     similarity_top_k=\u001b[32m5\u001b[39m,\n\u001b[32m      5\u001b[39m     \u001b[38;5;66;03m# llama_index 支持按 metadata 过滤\u001b[39;00m\n\u001b[32m      6\u001b[39m     doc_ids=selected_doc_ids,\n\u001b[32m      7\u001b[39m )\n\u001b[32m      8\u001b[39m \u001b[38;5;66;03m# 返回最终节点列表\u001b[39;00m\n\u001b[32m      9\u001b[39m final_nodes = node_resp.nodes\n",
      "\u001b[31mAttributeError\u001b[39m: 'VectorStoreIndex' object has no attribute 'query'"
     ]
    }
   ],
   "source": [
    "# 第 2 步：节点索引细检，并过滤到第 1 步筛出的文档\n",
    "node_resp = index.query(\n",
    "    \"作者和章先生在地方法院经历了什么？\",\n",
    "    similarity_top_k=5,\n",
    "    # llama_index 支持按 metadata 过滤\n",
    "    doc_ids=selected_doc_ids,\n",
    ")\n",
    "# 返回最终节点列表\n",
    "final_nodes = node_resp.nodes"
   ]
  },
  {
   "cell_type": "code",
   "execution_count": null,
   "metadata": {},
   "outputs": [],
   "source": []
  },
  {
   "cell_type": "code",
   "execution_count": 25,
   "metadata": {},
   "outputs": [
    {
     "ename": "AttributeError",
     "evalue": "'DocumentSummaryIndex' object has no attribute 'query'",
     "output_type": "error",
     "traceback": [
      "\u001b[31m---------------------------------------------------------------------------\u001b[39m",
      "\u001b[31mAttributeError\u001b[39m                            Traceback (most recent call last)",
      "\u001b[36mCell\u001b[39m\u001b[36m \u001b[39m\u001b[32mIn[25]\u001b[39m\u001b[32m, line 2\u001b[39m\n\u001b[32m      1\u001b[39m \u001b[38;5;66;03m# 第 1 步：摘要索引选文档\u001b[39;00m\n\u001b[32m----> \u001b[39m\u001b[32m2\u001b[39m summary_resp = \u001b[43msummary_index\u001b[49m\u001b[43m.\u001b[49m\u001b[43mquery\u001b[49m(\u001b[33m\"\u001b[39m\u001b[33m作者和章先生在地方法院经历了什么？\u001b[39m\u001b[33m\"\u001b[39m, similarity_top_k=\u001b[32m1\u001b[39m)\n\u001b[32m      3\u001b[39m selected_doc_ids = [\n\u001b[32m      4\u001b[39m     n.metadata[\u001b[33m\"\u001b[39m\u001b[33mdoc_id\u001b[39m\u001b[33m\"\u001b[39m] \u001b[38;5;28;01mfor\u001b[39;00m n \u001b[38;5;129;01min\u001b[39;00m summary_resp.nodes\n\u001b[32m      5\u001b[39m ]\n\u001b[32m      6\u001b[39m selected_doc_ids\n",
      "\u001b[31mAttributeError\u001b[39m: 'DocumentSummaryIndex' object has no attribute 'query'"
     ]
    }
   ],
   "source": [
    "# 第 1 步：摘要索引选文档\n",
    "summary_resp = summary_index.query(\"作者和章先生在地方法院经历了什么？\", similarity_top_k=1)\n",
    "selected_doc_ids = [\n",
    "    n.metadata[\"doc_id\"] for n in summary_resp.nodes\n",
    "]\n",
    "selected_doc_ids\n",
    "\n",
    "# # 第 2 步：节点索引细检，并过滤到第 1 步筛出的文档\n",
    "# node_resp = node_index.query(\n",
    "#     \"你的问题\",\n",
    "#     similarity_top_k=5,\n",
    "#     # llama_index 支持按 metadata 过滤\n",
    "#     doc_ids=selected_doc_ids,\n",
    "# )\n",
    "# # 返回最终节点列表\n",
    "# final_nodes = node_resp.nodes"
   ]
  },
  {
   "cell_type": "code",
   "execution_count": null,
   "metadata": {},
   "outputs": [],
   "source": [
    "\n",
    "# ##从文档中创建简单索引\n",
    "# def generate_index(vector_store,input_dir=\"txt_split_file\"):\n",
    "#     # 读取所有文本文件\n",
    "#     documents = SimpleDirectoryReader(\n",
    "#         input_dir=input_dir,\n",
    "#         recursive=True\n",
    "#     ).load_data()\n",
    "\n",
    "#     # 创建索引时直接使用 Settings\n",
    "#     simpleindex = VectorStoreIndex.from_documents(\n",
    "#         documents,\n",
    "#         vector_store=vector_store\n",
    "#     )\n",
    "#     return documents,simpleindex\n",
    "\n",
    "# ## 从简单索引中,根据用户问题，获取相关文档,拼接为一个字符串输出\n",
    "# def get_docs_from_simpleindex(simpleindex,user_question):\n",
    "#     # 创建检索器，检索器只能检索信息，不需要进一步创建搜索或对话引擎\n",
    "#     retriever = simpleindex.as_retriever(similarity_top_k=3)\n",
    "#     # 获取相关文档\n",
    "#     retrieved_docs = retriever.retrieve(user_question)\n",
    "#     result = ''\n",
    "#     # 打印检索到的文档\n",
    "#     for doc in retrieved_docs:\n",
    "#         result += doc.text + '\\n'\n",
    "#     return result\n",
    "\n",
    "# ##创建摘要索引，自定义摘要内容\n",
    "# def generate_summary_index(douments):\n",
    "    \n",
    "#     summary_tmpl = PromptTemplate(\n",
    "#     \"请用1-2句话总结以下文档，并提出1-2个该文档能回答的用户问题：\\n\"\n",
    "#     \"{context_str}\\n\"\n",
    "#     \"—— 摘要：\")\n",
    "#     # LlamaIndex ≥0.10.x 把 summary_template 收进 response_synthesizer\n",
    "#     resp_synth = get_response_synthesizer(\n",
    "#         response_mode=\"tree_summarize\",        # or \"tree_summarize\"\n",
    "#         summary_template=summary_tmpl\n",
    "#     )\n",
    "#     # 构建 DocumentSummaryIndex\n",
    "#     doc_sum_index = DocumentSummaryIndex.from_documents(\n",
    "#         # # 读取原始文档（示例用目录，也可以直接传入已构造的 Document 列表）\n",
    "#         # docs = SimpleDirectoryReader(\"txt_split_file/\").load_data()\n",
    "#         douments,\n",
    "#         response_synthesizer=resp_synth\n",
    "#     )\n",
    "#     return doc_sum_index\n",
    "\n",
    "# ##打印每篇文档对应的摘要\n",
    "# def show_doc_summaries(index: DocumentSummaryIndex):\n",
    "#     \"\"\"打印索引中每篇文档的摘要\"\"\"\n",
    "#     struct = index.index_struct                 # IndexDocumentSummary 对象\n",
    "#     ds = index.docstore\n",
    "\n",
    "#     for doc_id, summary_node_id in struct.doc_id_to_summary_id.items():\n",
    "#         summary_node = ds.get_node(summary_node_id)\n",
    "#         print(f\"\\n=== 文档 {doc_id} 的摘要 ===\")\n",
    "#         print(summary_node.get_text())\n",
    "\n",
    "# ##根据用户提问，使用摘要索引获得相关文档\n",
    "# def get_docs_from_summaryindex(doc_sum_index,query):\n",
    "#     retriever = doc_sum_index.as_retriever(similarity_top_k=3)\n",
    "#     # 手动进行检索（结果为 NodeWithScore 对象）\n",
    "#     retrieved_nodes = retriever.retrieve(query)\n",
    "#     result = ''\n",
    "#     # 输出原文内容\n",
    "#     for i, node in enumerate(retrieved_nodes):\n",
    "#         result += node.node.text + '\\n'\n",
    "#     return result\n",
    "\n",
    "# def start_llama_query(deepseekapi):\n",
    "#     #split_txt_files()\n",
    "#     llm,embed_model,chroma_collection,vector_store=initialize_llamaindex(deepseekapi=deepseekapi)\n",
    "#     documents,simpleindex = generate_index(vector_store=vector_store)\n",
    "#     doc_sum_index = generate_summary_index(documents)\n",
    "#     return simpleindex,doc_sum_index"
   ]
  },
  {
   "cell_type": "code",
   "execution_count": 2,
   "metadata": {},
   "outputs": [
    {
     "name": "stdout",
     "output_type": "stream",
     "text": [
      "文件已分割完成，保存在: D:\\ai_ztf_resouce\\txt_files\n"
     ]
    }
   ],
   "source": [
    "def split_markdown_by_heading(markdown_file: str, output_dir: str):\n",
    "    \"\"\"\n",
    "    将markdown文件按一级标题分割成多个txt文件\n",
    "    \n",
    "    Args:\n",
    "        markdown_file: markdown文件路径\n",
    "        output_dir: 输出目录路径\n",
    "    \"\"\"\n",
    "    import os\n",
    "    from pathlib import Path\n",
    "    \n",
    "    # 确保输出目录存在\n",
    "    os.makedirs(output_dir, exist_ok=True)\n",
    "    \n",
    "    # 读取markdown文件\n",
    "    with open(markdown_file, 'r', encoding='utf-8') as f:\n",
    "        content = f.read()\n",
    "    \n",
    "    # 按一级标题分割\n",
    "    sections = content.split('# ')\n",
    "    \n",
    "    # 跳过第一个空部分\n",
    "    for section in sections[1:]:\n",
    "        # 获取标题和内容\n",
    "        lines = section.split('\\n', 1)\n",
    "        if len(lines) == 2:\n",
    "            title, content = lines\n",
    "            # 清理标题中的特殊字符\n",
    "            title = title.strip().replace('/', '_').replace('\\\\', '_')\n",
    "            \n",
    "            # 写入txt文件\n",
    "            output_file = os.path.join(output_dir, f\"{title}.txt\")\n",
    "            with open(output_file, 'w', encoding='utf-8') as f:\n",
    "                f.write(content.strip())\n",
    "                \n",
    "    print(f\"文件已分割完成，保存在: {output_dir}\")\n",
    "\n",
    "# 使用示例\n",
    "split_markdown_by_heading(\"D:\\\\ai_ztf_resouce\\\\reading_material\\\\markdown.md\", \"D:\\\\ai_ztf_resouce\\\\txt_files\")\n"
   ]
  },
  {
   "cell_type": "code",
   "execution_count": 4,
   "metadata": {},
   "outputs": [
    {
     "data": {
      "text/plain": [
       "'从上次所谈的情形，已可看出《生活》周刊的创办并没有什么大宗的开办费。寥若晨星的职员三个，徐先生月薪二十几块钱，孙先生月薪几块钱，我算是主持全部的事业，月薪最多的了，每月拿六十块钱。我还记得当时在辣斐德路一个小小的过街楼，排了三张办公桌就已觉得满满的，那就是我们的编辑部，也就是我们的总务部，也就是我们的发行部，也就是我们的广告部，也就是我们的会议厅！我们没有大宗的经费，也没有什么高楼大厦。我们有的是几个“患难同事”的心血和努力的精神！我们有的是突飞猛进的多数读者的同情和赞助！《生活》周刊就在这种“心血”、“努力”、“同情”和“赞助”所造成的摇篮里长大起来的。\\n\\n我永远不能忘记在那个小小的过街楼里，在几盏悬挂在办公桌上的电灯光下面，和徐、孙两先生共同工作到午夜的景象。在那样静寂的夜里，就好像全世界上只有着我们这三个人；但同时念到我们的精神是和无数万的读者联系着，又好像我们是夹在无数万的好友丛中工作着！我们在办公的时候，也往往就是会议的时候；各人有什么新的意思，立刻就提出，就讨论，就议决，就实行！孙先生是偏重于主持会计的事情，虽则他对发行方面也很努力。徐先生是偏重于营业和广告的事情，虽则他在总务方面也很重要。在编辑方面他常用“吟秋”的笔名作些漫画凑凑热闹，因为他不但在营业和广告方面富有创造的天才，而且也对于美术具有深切的兴趣。我的工作当然偏重于编辑和著述方面。我不愿有一字或一句为我所不懂的，或为我所觉得不称心的，就随便付排。校样也完全由我一人看，看校样时的聚精会神，就和在写作的时候一样，因为我的目的要使它没有一个错字；一个错字都没有，在实际上也许做不到，但是我总是要以此为鹄的，至少能使它的错字极少。每期校样要看三次。有的时候，简直不仅是校，竟是重新修正了一下。讲到这里，我还要附带谢谢当时承印我们这个周刊的交通印刷所，尤其是当时在这个印刷所里服务的张铭宝先生和陈锡麟先生。他们不但不怪我的麻烦，而且都成了我的好朋友。\\n\\n读者一天天多起来，国内外的来信也一天天多起来。我每天差不多要用全个半天来看信。这也是一件极有兴味的工作，因为这就好像天天和许多好友谈话，静心倾听许多读者好友的衷情。其中有一小部分的信是可以在周刊上公开发表和解答的，有大部分的信却有直接答复的必要。有的信虽不能发表，我也用全副精神答复；直接寄去的答复，最长的也有达数千字的。这虽使我感到工作上的极愉快的兴趣，乃至无上的荣幸，但是时间却渐渐不够起来了，因此只得摆脱一切原有的兼职，日夜都做《生活》周刊的事情，做到深夜还舍不得走。我的妻有一次和我说笑话，她说：“我看你恨不得要把床铺搬到办公室里面去！”其实后来纵然“把床铺搬到办公室里面去”也是来不及的。后来最盛的时候，有五六个同事全天为着信件的事帮我的忙，还有时来不及，一个人纵然不睡觉也干不了！\\n\\n但是《生活》周刊的发展是随着本身经济力的发展而逐渐向前推的，所以在增加职员方面不得不慢慢儿来，因此事务的增繁和人手的增多，常常不能成正比例。《生活》周刊本身经济力的发展，来源不外两方面：一方面是发行的推广，由此增加报费的收入；一方面是广告费的收入随着销数的增加而增加。我们既没有什么大宗的经费，事业的规模不得不看这两方面的收入做进行的根据，因为我们是要量入为出的；但是我们所欣幸的，是我们可以尽量运用我们在这两方面的收入，扩充我们的事业，没有什么“老板”在后面剥削我们。关于这一点，我们不得不感谢职教社。当时《生活》周刊还在职教社的“幪”之下，我和徐孙诸先生都只是雇员，原没有支配的全权，但是职教社当局的诸先生全把这件事看作文化事业，一点没有从中取利的意思。'"
      ]
     },
     "execution_count": 4,
     "metadata": {},
     "output_type": "execute_result"
    }
   ],
   "source": []
  },
  {
   "cell_type": "code",
   "execution_count": 3,
   "metadata": {},
   "outputs": [
    {
     "name": "stdout",
     "output_type": "stream",
     "text": [
      "从上次所谈的情形，已可看出《生活》周刊的创办并没有什么大宗的开办费。寥若晨星的职员三个，徐先生月薪二十几块钱，孙先生月薪几块钱，我算是主持全部的事业，月薪最多的了，每月拿六十块钱。我还记得当时在辣斐德路一个小小的过街楼，排了三张办公桌就已觉得满满的，那就是我们的编辑部，也就是我们的总务部，也就是我们的发行部，也就是我们的广告部，也就是我们的会议厅！我们没有大宗的经费，也没有什么高楼大厦。我们有的是几个“患难同事”的心血和努力的精神！我们有的是突飞猛进的多数读者的同情和赞助！《生活》周刊就在这种“心血”、“努力”、“同情”和“赞助”所造成的摇篮里长大起来的。\n",
      "\n",
      "我永远不能忘记在那个小小的过街楼里，在几盏悬挂在办公桌上的电灯光下面，和徐、孙两先生共同工作到午夜的景象。在那样静寂的夜里，就好像全世界上只有着我们这三个人；但同时念到我们的精神是和无数万的读者联系着，又好像我们是夹在无数万的好友丛中工作着！我们在办公的时候，也往往就是会议的时候；各人有什么新的意思，立刻就提出，就讨论，就议决，就实行！孙先生是偏重于主持会计的事情，虽则他对发行方面也很努力。徐先生是偏重于营业和广告的事情，虽则他在总务方面也很重要。在编辑方面他常用“吟秋”的笔名作些漫画凑凑热闹，因为他不但在营业和广告方面富有创造的天才，而且也对于美术具有深切的兴趣。我的工作当然偏重于编辑和著述方面。我不愿有一字或一句为我所不懂的，或为我所觉得不称心的，就随便付排。校样也完全由我一人看，看校样时的聚精会神，就和在写作的时候一样，因为我的目的要使它没有一个错字；一个错字都没有，在实际上也许做不到，但是我总是要以此为鹄的，至少能使它的错字极少。每期校样要看三次。有的时候，简直不仅是校，竟是重新修正了一下。讲到这里，我还要附带谢谢当时承印我们这个周刊的交通印刷所，尤其是当时在这个印刷所里服务的张铭宝先生和陈锡麟先生。他们不但不怪我的麻烦，而且都成了我的好朋友。\n",
      "\n",
      "读者一天天多起来，国内外的来信也一天天多起来。我每天差不多要用全个半天来看信。这也是一件极有兴味的工作，因为这就好像天天和许多好友谈话，静心倾听许多读者好友的衷情。其中有一小部分的信是可以在周刊上公开发表和解答的，有大部分的信却有直接答复的必要。有的信虽不能发表，我也用全副精神答复；直接寄去的答复，最长的也有达数千字的。这虽使我感到工作上的极愉快的兴趣，乃至无上的荣幸，但是时间却渐渐不够起来了，因此只得摆脱一切原有的兼职，日夜都做《生活》周刊的事情，做到深夜还舍不得走。我的妻有一次和我说笑话，她说：“我看你恨不得要把床铺搬到办公室里面去！”其实后来纵然“把床铺搬到办公室里面去”也是来不及的。后来最盛的时候，有五六个同事全天为着信件的事帮我的忙，还有时来不及，一个人纵然不睡觉也干不了！\n",
      "\n",
      "但是《生活》周刊的发展是随着本身经济力的发展而逐渐向前推的，所以在增加职员方面不得不慢慢儿来，因此事务的增繁和人手的增多，常常不能成正比例。《生活》周刊本身经济力的发展，来源不外两方面：一方面是发行的推广，由此增加报费的收入；一方面是广告费的收入随着销数的增加而增加。我们既没有什么大宗的经费，事业的规模不得不看这两方面的收入做进行的根据，因为我们是要量入为出的；但是我们所欣幸的，是我们可以尽量运用我们在这两方面的收入，扩充我们的事业，没有什么“老板”在后面剥削我们。关于这一点，我们不得不感谢职教社。当时《生活》周刊还在职教社的“幪”之下，我和徐孙诸先生都只是雇员，原没有支配的全权，但是职教社当局的诸先生全把这件事看作文化事业，一点没有从中取利的意思。\n"
     ]
    }
   ],
   "source": [
    "with open(\"D:\\\\ai_ztf_resouce\\\\txt_files\\\\二八 一个小小的过街楼.txt\",encoding=\"utf-8\") as f:\n",
    "    text = f.read()\n",
    "# 打印所有特殊字符\n",
    "import re\n",
    "\n",
    "# 使用正则表达式找出所有非字母数字字符\n",
    "special_chars = re.findall(r'[^\\w\\s]', text)\n",
    "\n",
    "# 去重并打印\n",
    "print(\"文档中的特殊字符:\")\n",
    "print(set(special_chars))\n",
    "print(text)"
   ]
  },
  {
   "cell_type": "code",
   "execution_count": 5,
   "metadata": {},
   "outputs": [
    {
     "name": "stdout",
     "output_type": "stream",
     "text": [
      "包含关键词 '生活' 的段落:\n",
      "\n",
      "段落 1:\n",
      "从上次所谈的情形，已可看出《生活》周刊的创办并没有什么大宗的开办费。寥若晨星的职员三个，徐先生月薪二十几块钱，孙先生月薪几块钱，我算是主持全部的事业，月薪最多的了，每月拿六十块钱。我还记得当时在辣斐德路一个小小的过街楼，排了三张办公桌就已觉得满满的，那就是我们的编辑部，也就是我们的总务部，也就是我们的发行部，也就是我们的广告部，也就是我们的会议厅！我们没有大宗的经费，也没有什么高楼大厦。我们有的是几个“患难同事”的心血和努力的精神！我们有的是突飞猛进的多数读者的同情和赞助！《生活》周刊就在这种“心血”、“努力”、“同情”和“赞助”所造成的摇篮里长大起来的。\n",
      "\n",
      "段落 2:\n",
      "读者一天天多起来，国内外的来信也一天天多起来。我每天差不多要用全个半天来看信。这也是一件极有兴味的工作，因为这就好像天天和许多好友谈话，静心倾听许多读者好友的衷情。其中有一小部分的信是可以在周刊上公开发表和解答的，有大部分的信却有直接答复的必要。有的信虽不能发表，我也用全副精神答复；直接寄去的答复，最长的也有达数千字的。这虽使我感到工作上的极愉快的兴趣，乃至无上的荣幸，但是时间却渐渐不够起来了，因此只得摆脱一切原有的兼职，日夜都做《生活》周刊的事情，做到深夜还舍不得走。我的妻有一次和我说笑话，她说：“我看你恨不得要把床铺搬到办公室里面去！”其实后来纵然“把床铺搬到办公室里面去”也是来不及的。后来最盛的时候，有五六个同事全天为着信件的事帮我的忙，还有时来不及，一个人纵然不睡觉也干不了！\n",
      "\n",
      "段落 3:\n",
      "但是《生活》周刊的发展是随着本身经济力的发展而逐渐向前推的，所以在增加职员方面不得不慢慢儿来，因此事务的增繁和人手的增多，常常不能成正比例。《生活》周刊本身经济力的发展，来源不外两方面：一方面是发行的推广，由此增加报费的收入；一方面是广告费的收入随着销数的增加而增加。我们既没有什么大宗的经费，事业的规模不得不看这两方面的收入做进行的根据，因为我们是要量入为出的；但是我们所欣幸的，是我们可以尽量运用我们在这两方面的收入，扩充我们的事业，没有什么“老板”在后面剥削我们。关于这一点，我们不得不感谢职教社。当时《生活》周刊还在职教社的“幪”之下，我和徐孙诸先生都只是雇员，原没有支配的全权，但是职教社当局的诸先生全把这件事看作文化事业，一点没有从中取利的意思。\n"
     ]
    }
   ],
   "source": [
    "def find_paragraphs_with_keyword(file_path: str, keyword: str) -> list:\n",
    "    \"\"\"\n",
    "    在文本文件中查找包含关键词的段落\n",
    "    \n",
    "    Args:\n",
    "        file_path: 文本文件路径\n",
    "        keyword: 要查找的关键词\n",
    "        \n",
    "    Returns:\n",
    "        包含关键词的段落列表\n",
    "    \"\"\"\n",
    "    try:\n",
    "        with open(file_path, 'r', encoding='utf-8') as f:\n",
    "            content = f.read()\n",
    "            \n",
    "        # 按\\n\\n分割成段落\n",
    "        paragraphs = content.split('\\n\\n')\n",
    "        \n",
    "        # 过滤出包含关键词的段落\n",
    "        matching_paragraphs = [p.strip() for p in paragraphs if keyword in p]\n",
    "        \n",
    "        return matching_paragraphs\n",
    "        \n",
    "    except Exception as e:\n",
    "        print(f\"发生错误: {str(e)}\")\n",
    "        return []\n",
    "\n",
    "# 使用示例\n",
    "file_path = \"D:\\\\ai_ztf_resouce\\\\txt_files\\\\二八 一个小小的过街楼.txt\"\n",
    "keyword = \"生活\"\n",
    "matching_paragraphs = find_paragraphs_with_keyword(file_path, keyword)\n",
    "\n",
    "print(f\"包含关键词 '{keyword}' 的段落:\")\n",
    "for i, para in enumerate(matching_paragraphs, 1):\n",
    "    print(f\"\\n段落 {i}:\")\n",
    "    print(para)\n"
   ]
  },
  {
   "cell_type": "code",
   "execution_count": 6,
   "metadata": {},
   "outputs": [
    {
     "name": "stderr",
     "output_type": "stream",
     "text": [
      "Building prefix dict from the default dictionary ...\n",
      "Dumping model to file cache C:\\Users\\kiwid\\AppData\\Local\\Temp\\jieba.cache\n",
      "Loading model cost 0.810 seconds.\n",
      "Prefix dict has been built successfully.\n"
     ]
    },
    {
     "name": "stdout",
     "output_type": "stream",
     "text": [
      "从查询中提取的关键词: ['地方法院', '作者', '经历', '先生', '什么']\n"
     ]
    }
   ],
   "source": [
    "def extract_keywords(query: str, top_k: int = 5) -> list:\n",
    "    \"\"\"\n",
    "    从用户查询中提取关键词\n",
    "    \n",
    "    Args:\n",
    "        query: 用户输入的查询文本\n",
    "        top_k: 返回的关键词数量\n",
    "        \n",
    "    Returns:\n",
    "        关键词列表\n",
    "    \"\"\"\n",
    "    try:\n",
    "        # 使用 jieba 分词\n",
    "        import jieba\n",
    "        import jieba.analyse\n",
    "        \n",
    "        # 使用 TF-IDF 算法提取关键词\n",
    "        keywords = jieba.analyse.extract_tags(query, topK=top_k)\n",
    "        \n",
    "        return keywords\n",
    "        \n",
    "    except Exception as e:\n",
    "        print(f\"提取关键词时发生错误: {str(e)}\")\n",
    "        return []\n",
    "\n",
    "# 使用示例\n",
    "query = \"作者和章先生在地方法院经历了什么？\"\n",
    "keywords = extract_keywords(query)\n",
    "print(f\"从查询中提取的关键词: {keywords}\")\n"
   ]
  },
  {
   "cell_type": "code",
   "execution_count": null,
   "metadata": {},
   "outputs": [],
   "source": [
    "def get_user_keywords(chat_history):\n",
    "    from llama_index.llms.deepseek import DeepSeek\n",
    "    import json\n",
    "    llm = DeepSeek(\n",
    "            api_key=\"sk-5f2880952eb543a59d02d1015dcdd8e1\",  # 替换为你的 DeepSeek API key\n",
    "            model=\"deepseek-chat\"\n",
    "        )\n",
    "        # 使用llm进行查询\n",
    "\n",
    "    chat_history=messages=[\n",
    "            {\"role\": \"assistant\", \"content\": \"你好\"},\n",
    "            {\"role\": \"user\", \"content\": \"邹韬奋是谁？\"},\n",
    "            {\"role\": \"assistant\", \"content\": \"他是一个伟大的作家\"},\n",
    "            {\"role\": \"user\", \"content\": \"你吃了么\"},\n",
    "        ]\n",
    "    GET_USER_KEYWORDS=\"\"\"\n",
    "    以下是AI和用户的部分聊天记录，用户可能在和AI（assistant）讨论邹韬奋的有关信息，也有可能并不是和AI讨论邹韬奋的有关信息。\n",
    "    请根据聊天记录判断，聊天记录中最后一句用户发言是否围绕邹韬奋在讨论，输出布尔字段：ture或者false。\n",
    "    如果是，则进一步提取用户发言中的关键词，输出关键词列表。关键词将用于在一个邹韬奋作品数据库中进行搜索。\n",
    "    答案以json格式输出，json格式为：{\"is_about_ztaofen\":true,\"keywords\":[\"关键词1\",\"关键词2\",\"关键词3\"]}\n",
    "    聊天记录是：\\n\\n\n",
    "    {chat_history}\n",
    "    \"\"\"\n",
    "    GET_USER_KEYWORDS = GET_USER_KEYWORDS.replace(\"{chat_history}\",str(chat_history))\n",
    "    try:\n",
    "        response = llm.complete(GET_USER_KEYWORDS)\n",
    "        json_str = response.text.strip('```json\\n').strip('```')\n",
    "        json_data = json.loads(json_str)\n",
    "        return json_data\n",
    "    except Exception as e:\n",
    "        return {\"is_about_ztaofen\":False,\"keywords\":[]}\n",
    "\n"
   ]
  },
  {
   "cell_type": "code",
   "execution_count": 24,
   "metadata": {},
   "outputs": [
    {
     "name": "stdout",
     "output_type": "stream",
     "text": [
      "\n",
      "以下是AI和用户的部分聊天记录，用户可能在和AI（assistant）讨论邹韬奋的有关信息，也有可能并不是和AI讨论邹韬奋的有关信息。\n",
      "请根据聊天记录判断，聊天记录中最后一句用户发言是否围绕邹韬奋在讨论，输出布尔字段：ture或者false。\n",
      "如果是，则进一步提取用户发言中的关键词，输出关键词列表。关键词将用于在一个邹韬奋作品数据库中进行搜索。\n",
      "答案以json格式输出，json格式为：{\"is_about_ztaofen\":true,\"keywords\":[\"关键词1\",\"关键词2\",\"关键词3\"]}\n",
      "聊天记录是：\n",
      "\n",
      "\n",
      "[{'role': 'assistant', 'content': '你好'}, {'role': 'user', 'content': '邹韬奋是谁？'}, {'role': 'assistant', 'content': '他是一个伟大的作家'}, {'role': 'user', 'content': '你吃了么'}]\n",
      "\n"
     ]
    }
   ],
   "source": [
    "\n",
    "print(GET_USER_KEYWORDS)"
   ]
  },
  {
   "cell_type": "code",
   "execution_count": null,
   "metadata": {},
   "outputs": [],
   "source": [
    "# 使用 requests 库发送 GET 请求到 Elasticsearch,获取k个文档\n",
    "def get_es_docs(kw,k):\n",
    "    import requests,json\n",
    "    # 构建查询 URL\n",
    "    url = \"http://localhost:9200/article/_search\"\n",
    "    params = {\n",
    "        \"q\": \"body:kw\",\n",
    "        \"size\": k,\n",
    "        \"pretty\": \"true\"\n",
    "    }\n",
    "    # 发送 GET 请求\n",
    "    response = requests.get(url, params=params)\n",
    "    body_list = []\n",
    "    res_list = json.loads(response.text)['hits']['hits']\n",
    "    for res in res_list:\n",
    "        body_list.append(res['_source']['body'])\n",
    "    return body_list\n"
   ]
  },
  {
   "cell_type": "code",
   "execution_count": 44,
   "metadata": {},
   "outputs": [
    {
     "data": {
      "text/plain": [
       "['廿三日那天从黎明到下午三点钟（这时间是当时向旁人探问才知道的，我身上没有表)，为时不能算久，但是在我却好像过了好久的时候，因为带着一对“半瞎”的眼睛，拖着一双没有带子的皮鞋，下身穿着一条没有裤带常常下落的里裤，躑躅兜转了无数次的楼梯、天井、走廊；走廊、天井、楼梯！到了下午三点钟左右，我又由囚室里被提了出来，和章先生史女士同被几个巡捕和法院的法警押到高三分院去。将押出门的时候，史女士先走，我和章先生随在后面，有个法国人用手铐把我的右手臂和章先生的左手臂套在一起，把锁锁上，所以我们两个人不得不并排走。套手铐也是我生平第一次的经验。我突然被套上手铐的刹那间，在脑际所闪过的奇特的感觉，和第一次打手印时一样，觉得这是使我不胜愤怒的侮辱，但想我所以受到这样的侮辱是因为我努力参加救国运动，我应该把这愤怒转变为继续奋斗的力量。我一面这样想着，一面昂首挺起胸膛大踏步走一—虽则脚上拖着没有带子的皮鞋，大踏步是格外费力的。捕房离法院很近，不过离开几家的路。我们出了捕房的大门，走过一段马路就到了法院。在马路上走的时候，前后拥着巡捕和法警，还有外国侦探，路人都停住脚，用奇异的眼光看着我们。我们到法院后，和史女士同到待审室里面去。往待审室上楼梯的时候，已有亲友数十人在旁拥聚着等候我们。我们进了待审室后，我和章先生的手铐被开了锁，脱了下来。待审室外面还有一个房间连着，那里有几个法警是被派来监视我们的，但是他们都已知道我们是为着主张团结救国而犯罪的，对于我们表示着很恳切的同情，说“你们的意思，做中国人的谁不赞成！”法警室的外面便是走进法庭的走廊，门是常常关着，偶然开一下，便有亲友们在外面伸着头遥望着，可是我们还不能见面谈话。他们送进来一包水果和饼干，我们三个人这时都觉得饿了，便吃了一些。在这待审室里，我们三个人都可以随便谈话，各人彼此告诉了前一夜被捕的经过。他们两位都是在深夜三点钟左右被捕的。我们三个人都住在法租界，所以都被捕到法捕房来。等一会儿，由外面传进的消息，说前一夜在公共租界被捕的沈、章、王、沙四先生于当日上午十点钟经高二分院开审后，于当天十二点钟即由各人的律师保了出来。我们听了，都觉得快慰。正谈论间，法警室的门又偶然开了一下，章先生瞥见沈先生在门外笑着举手向我们招呼，章先生即对我们笑着欢呼：“沈先生来了！沈先生来了！”我赶紧转眼看时，门又关了，我虽看不见沈先生，但是想到沈先生自己午后才被保出，就不顾劳瘁地跑来看我们，是很可感的。\\n\\n我们三个人等到四点多钟才开庭。张志让和唐豪两律师代表章先生、史女士辩护，孙祖基律师代表我辩护。先由待审室里提史女士去问，其次提章先生，最后提到我。出席的除一个审判长、两个推事、一个检察官和一个书记官外，还有一个代表法捕房的律师（中国人)。公安局方面也有一个律师代表出席。我在庭上坦白承认我是全国各界救国联合会的执行委员之一，因为我深信参加救国运动既是光明磊落的事情，用不着隐瞒。此外审判长对于我的问话，总结起来不外两点：一是我和共产党有无关系；二是我有没有参加煽动上海日本纱厂罢工。关于第一点，他们所根据的，是我和沈钧儒、章乃器、陶行知诸先生共同公开发表的小册子，名叫《团结御侮的最低条件和要求》，和毛泽东批评这个小册子的公开发布的印刷品。这小册子里所主张的是全国团结，一致对外，有原文可按，这里用不着多说；我们公开发表了主张，谁都可以看，谁都可以批评。检察官当庭就认为这不能作为犯罪的证据。关于第二点，我所做的只是捐了一天的薪水所得，救济在日本纱厂里过牛马生活、罢工后饥寒交迫的中国同胞！就是和我们毫无个人关系的法捕房律师，也当庭宣称，捕房政治部曾经把所搜去的印刷品研究一番，觉得只是爱国的文字，一点没有犯罪的证据，所以不允许公安局移提（即引渡）。结果我们三个人都“责付”律师保出，再交铺保；规定史女士一家铺保，我和章先生各人须有两家铺保。于是我们便于当夜八点钟左右由律师保了出来。\\n\\n后来有一位青年好友在他给我的一封信里，有一段描写当时的情景：\\n\\n自从先生的不幸案件发生后，我仅看过你一面。那就是在这事件发生后的当天晚上。当那特区法庭准予保释的消息传出时，鹄立门外静候审判消息的我们，原来每一个脸上呈现着忧虑与焦急的样子，顿时变成了欣慰的神情。你就在那数十亲友的庆幸欢笑的声中，走出法庭。我被兴奋的情绪激动着，几乎要流下热泪来。谁预料到第二天你又再度被押呢？\\n\\n“再度被押”的情形，下面再谈，且说我出法庭后，就被一部分朋友拥进汽车，直驱觉林去吃晚饭。我这时还带着“半瞎”的眼睛，拖着没有带子的皮鞋，领和领带也没有，大家都说我的面孔瘦了好多，面色也憔悴得很，我想这时的形态也许很像上海人所谓“瘪三”了！沈钧儒先生也赶了来，跑进来一见着就两手紧握着我的两臂摇摆，几乎要把我揽抱起来，笑眯眯地好像惊呼似地叫着我的名字，并对我的面孔仔细打量着。他的那样热诚和挚爱的音容，是我永远不能忘却的。我看着他的那样满面焕发着的光彩，活泼泼的举动，自己竟不免觉得惭愧起来，因为我自己失眠了一夜，劳顿了一天，这时实在感到疲乏，虽则精神上是怪兴奋的。\\n\\n这夜我回家好好地洗个澡，很舒适地睡了一夜。',\n",
       " '总算优待，原来八个人住的一间囚室，经他们撤清打扫之后，由我和章先生两人同住。房里有一张大木桌可以放些零物。电灯一盏高高地装在两个房间的隔墙上面的方洞里，夜里在房里是看不出什么的，我们到九点钟就安排睡觉，怕有臭虫来光顾，特把木榻搬得离墙远远的。最使我注意的是在那样一个小房间里，也排有待审室里同样大的一个大马桶!第二早起身后，照例打手印，我们这时已打得更熟练了，打出的印子似乎已有了相当的进步!打完了手印，还要一同到天井里去照—张相片。这张相片照得怪有趣!我和章先生各人坐在一只骨牌凳上，列在一排照的；每人坐着，腹前还放着一块石板(好像小学生做算学用的，黑色，上面可用粉笔写字),我的那块石板上面写着雪白的几个大字是“第三千几十号某某(区区的名字)妨碍秩序嫌疑”,章先生的那块石板上面写的相同，不过号码和姓名改一改就是了。我们昂然同坐着照了一张这样的相片。事后我对章先生说，最好能讨得一张取来放大，将来可以高高地悬在客厅里面，让许多朋友“瞻仰瞻仰”,倒是一种很好的纪念。',\n",
       " '廿三日夜里在觉林的时候，在座中的朋友已经有人听到消息，说高二分院于当天下午五六点钟又已签出拘票拘传沈先生等四人。大家觉得他们既已“责付”律师保出，尽可随传随到，何必再出拘票呢？所以还在半信半疑中。廿四早七点钟，我起身后就先打一个电活到沈先生的家里，探问他的安全，得到的回答是沈先生昨夜刚安睡了一小时，在深夜一点钟的时候，又被捕房捕去了！随后又有朋友打电话来通知，说王、沙两先生也于同夜再被拘捕，李先生因睡在朋友家里，所以未即捕去。随后又有朋友打电话来，极力劝我避开家里。我就打电话征求我的律师的意见。我告诉他，我既由他保出，对他当然要负责，不能随便走开的，不过既由律师负责保出，尽可随传随到，现竟随意拘捕，很可诧异，我想暂行避到朋友家里去，但是地址要让他知道，以便他随时通知，我即随时可以出来。他赞成我的意思，于是我便匆匆洗脸、整衣、用早餐，叫了一辆汽车，到一个好友家里去暂避。我一到了那一个好友的家里，就接到我妻的电话，说前夜来过的那个大块头（公安局的侦探）又在我们的弄口东张西望了！午饭后我的二妹来看我，因为她听见我咳嗽，特送一小瓶药片给我。我们正在谈话的时候，我的律师有电话来通知，说法院已定下午四点钟开庭，叫我三点钟到他的事务所里一同去，我答应他照办。\\n\\n我们按时到高三分院报到，但因章先生和史女士未到案，延展到当夜十二点钟才开庭。在开庭前，我被押在法院的法警室，律师和家属都不得进来谈话，我一直在那里等到当夜十二点钟。不过我在法警室里却也不算寂寞，我对几十个法警弟兄们大开其话匣，说明国难的严重和我们的全国团结御侮的主张，他们都听得津津有味，点头称是，待我格外好起来了，倒茶的倒茶，让座的让座！后来我发现其中有几位还是我的读者，我们更成了莫逆之交了。\\n\\n当夜十二点钟开庭，章先生到了，史女士还是未到。问的答的还是那一套。律师再请求交保，不许。于是我和章先生被几个法警押送到特区第二监狱里去羁押。审判长在押单上批明“予以优待”。\\n\\n这监狱离法院也很近，所以我们也是步行。走进了一个大铁门，便是监狱所在地了。被带进了一个办公室，向例要由职员问几句话，由他填写在簿子上。他问了姓名、年岁、籍贯后，就问犯的什么罪，我脱口而出地答道：“救国”，他听了这两个字，一点不迟疑地立刻在簿子上写下了这四个字：“危害民国”！使我于哭笑不得中感到幽默的是他那样熟练的神情。\\n\\n这个手续完毕之后，经过搜查，再向里走，经过第二道门的时候，又经过一次问话。那里有个职员好像对我们演说似的“训”了一大套话，大意说在里面不可以吸香烟，不可以有聚会式的谈话，违犯了是要上繚铐的。他立在一个高高的柜台里说，我和章先生立在柜台外呆呆地听着。随后章先生的香烟盒和钱袋等零物交出代存，我没有什么东西要交出，我带着的那副眼镜也还得架在原处 (这是回家时另换一副的)。我们还在那里再打一番手印。我们到了这个时候，手印也打得很熟练了，好像在银行支票上盖个图章一样，伸出手来就是！\\n\\n这大概就是“予以优待”吧。他们没有把我们放进盗犯们的监狱，却关到幼年监狱里面去。这幼年监狱一进门便是一个小教室，教室的旁边有四个铁格子门关住的小囚室。我们两个人被带到第一个囚室的外面，望望里面约有六七尺宽，十几尺深。排着一个两层的小铁床，一张小木椅 (骨牌凳)。近小铁床一头的角落里放着一个马桶。下层的铁床已有一个青年睡着。看守把他叫醒，请他搬到上层。我和章先生进了后，家里的被窝已交来，打算睡觉。余下的铁床只有一层，我们两人之间必须有一人要睡地板，彼此互让不能决，我从衣袋里挖出一个小银角掷在掌上，用另一掌掩着，说明角子的阳面朝上我睡床，阴面朝上他睡床，结果轮着我睡床，他睡地板。我们睡的问题解决了，随进来的几个看守瞥见我的那个银角子，认为也要交出代存的，我只得随手把这个硕果仅存的银角子交给他。\\n\\n那一夜，我们两个人很安静地睡在那个小囚室里面。',\n",
       " '我不是说过吗？我和章先生在那个深夜里被带到一个小囚室的前面，从铁格子门望进去，就看见里面的小铁床的下层已睡着一个囚犯。他姓周，是一个政治犯，是一个很可敬爱的青年！他当夜听见章先生无意中在谈话里叫了我的名字，引起他的注意，知道是我，表示十分的愉快；他原来也是我的一个读者，我们在精神上已是好友，所以一说穿了，便感到很深的友谊。当我铺床预备睡的时候，他看我们两人里面有一个要睡地板，再三要把他的那一层床让给我们，他自己情愿睡地板，经我们再三婉谢，他才勉强照旧睡下去。第二天清早，隔壁的囚室里就递过来一封长信，是一个二十岁左右的青年写给章先生的。他只听说章先生来了，不知道我也来了，所以信里只急急问起我被捕的情形。他当夜为着这件事，一夜没有睡着，局促着写了这封长信，充满着热烈和挚爱的情绪。他的纯洁、诚恳、坦白、激昂，深深地震动了我们的心弦。后来我们见面了，都感到非常的快慰。他当面谈了还觉不够，也许因为话语还未能尽量倾诉他的衷情吧，又局促地俯在床旁写了一封长信交给我，在信里很诚恳地安慰我，乃至听见我还有咳嗽的声音（这是那几天偶然有的)，都使他感到不安，再三叮哼，叫我要为国珍重身体。我很惭愧，觉得实在够不上他的那样厚望。还有一位同监的十九岁青年，大家都叫他做“八十四号”，因为他的囚衣的前后写着“84”两个大字。他是由乡村里来的一个穷孩子，到上海一个烟纸店里做过打杂。因为这家店关闭了，他便失业，为着饥饿所迫，做了一次小偷，被捕进来。他的写的能力很差，但是也自动地在一张小纸片上写了几十个字交给我，虽然像通不通似的，但是对于抗日救国的热烈和对于我们被捕的义愤，也已跃然纸上。\\n\\n后来听到这几位青年好友的报告，才知道监狱里许多囚犯都知道有我们这样两个人来了，都一致表示愤慨。尤其令人感动的，是一个被判了无期徒刑的盗犯，也在一封信里表示对于国难的关心和对于我们的深切的同情。他虽然用着很粗率的语句叙述他的意见，但是他那一颗火热般的心是谁看了都要感动的！听说全监九百余人为着援助绥远前线抗敌战士，决定全体绝食一天。\\n\\n就在这监狱里的职员方面，也有许多表同情于救国运动，对于我们两人的被捕，表示深厚的同情。因为他们有职务上的关系，我在这里不能详述了，我只有在这里附笔表示对于他们厚意的深深的感谢。\\n\\n同监的青年朋友们待我两人的殷勤是很可感的。我们的琐屑的事情，他们都争着代做。例如早晨倒洗脸水，扫地拖地板，饭后洗碗碟等等。监里犯人是各有一个号码的，铁格子门的外面便插有各人号码的硬纸片，职员招呼各犯时只叫各人的号码，不叫各人的名字。我的号码似乎是三百多号，章先生的号码二百多号，现在已记不清了，但是我们的号码虽记在铁门上的硬纸片上，都没有多大用处，因为同监的几位青年朋友不但自己一定要叫我们做先生，同时也一定要看守们叫我们做先生，不许叫号码。他们的那种天真的热诚，看着十分可感而又十分有趣！\\n\\n我们的小小囚室，每日上午七点钟，由看守把铁格子门开锁，让我们到接连着的小教室里去坐坐走走。那小教室里排有学校里用的木椅桌七八排，我们白天就在那里谈话看书。午饭后，别的囚室的铁门还要关上一小时，各囚犯都要“归号”，我们两人因受优待，可以例外。不过到下午四点半，各囚室的铁门一律都要关上锁好，一律都要“归号”，我们也不能例外，因为白天有个看守监视着，下午四点半后锁上了铁门，一夜到天亮，只每隔几小时有个职员来巡视一次，并没有看守监视着。因此我们到了下午四点半，也只得同样地被关在那个小小的囚室里，局促在那个铁格子门的后面。那个小小的囚室，除放着一架两层的小铁床外，余下来的区域也只有比放一个小铁床的地位差不多，所以我们两人要在这里散散步，便要碰来碰去。碰了几碰，我只得采用折中的办法，章先生跑来跑去的时候，我就坐在那张骨牌凳上；他停走的时候，我就跑来跑去。晚上只在外面那个小教室里有电灯，小囚室里是没有灯的。我们跑得厌了，就拿些书挨在铁格子旁边去看看。\\n\\n我们到的第二天，原在我们的囚室里的周君自动地搬到隔壁一间里去，所以原来的这一间囚室便只有我和章先生两个人同住了。在这个监狱里（指幼年犯监狱，非全部)，除了几个幼年犯外，还有两个原来是监里的“主任”，犯了罪一同关在这里面。到了晚上倒也不寂寞。附近的两个囚室里的几个青年朋友睡在床上大开其“辩论会”，你一句，我一句，对于抗日救国问题也讨论得很激烈。在这些讨论里，你可以听到青年们的坦白的天真的意见。同时你可以听到住在稍远的那个囚室里的两个犯了罪的“主任”大念其佛经，发出喃喃不绝的“南无阿弥陀佛”的声浪来。\\n\\n两层的小铁床上面铺的是木板。床架不是铁杆做的，只是较厚的铁片做的，在上层睡的人转个身的时候，全部的床架都有摇摆的姿态。章先生的身体比我高大，我怕他梦中转身，“牵动全局”，也许要把铁床翻倒，所以让他睡在下层，我睡在上层。我夜里在床上转身的时候，仍要很谨慎地慢慢地转，免得床身震得过响，以致惊动他的好梦。\\n\\n我和章先生从来没有同住过，想不到一同住就住到这样一个小小的囚室里；但是我们想到全狱的朋友们对于我们的同情和厚意，却给予我们一种说不出的愉快和安慰的情绪。',\n",
       " '我们在上海特区第二监狱里关了两天。到廿六日那一天下午，我们在四点半后照例“归号”，铁格子门锁上了，我们两人照常在那小囚室里拥挤着。七点钟左右，忽有一个看守进来说“接见”。所谓“接见”，是监狱里允许囚犯接见家属亲友。我们两人虽觉得那样晚的时候，怎样还有“接见”，但是既经说有，我们便匆匆随他出去。到了外面，才知道是要到法院去开庭的。离开监狱的时候，还照例在簿子上打个大拇指的手印。\\n\\n到了高三分院的法庭以后，才知道是上海地方法院（在租界以外的法院）来“移提”。我在前面曾经说过，廿三日和廿四日两次在高三分院开庭时，公安局都是要把我们“移提”的，捕房律师因为没有犯罪的证据，两次拒绝“移提”。据说根据上海法租界和中国政府的协定，除中国的司法机关可以无需证据即可向捕房或特区法院“移提”犯人外，像公安局一类的机关要做这件事，必须拿得出证据才行。因为这个缘故，他们便设法转个弯儿，由上海地方法院出面来“移提”。结果当然是达到了他们的目的。其实我们所要求的是无罪当庭开释，至于“移提”不“移提”，并不在意；现在一定要“移提”，“移提”就是了。“移提”的理由据说是“妨碍秩序嫌疑”！\\n\\n我们在高三分院法庭的时候，地方法院已派了好几个法警等着，一出法庭，便被他们拥上汽车，往城里驶去。我和章先生各乘一辆汽车，左右各有两个法警押着。我们这几天好像被猫衔着的老鼠东奔西窜似的，原已不足为奇，我们所觉得不无抱憾的，是没有机会和同狱的那几个青年好友握别罢了。\\n\\n到了地方法院之后，我和章先生被几个法警押进待审室。待审室有三四个大房间，用木板隔开的。我和章先生是隔离着的，各人关在一个大房间里面。房里四周用木板搭成长凳，门上有个四方形的洞穴，外面的人可从这个方洞向内望。里面很陈旧齷齪，我一踏进门口，就觉得尿气熏鼻，臭不可当。我于诧异间仔细向四周望望，原来房里摆着一个大马桶，其大无比，好像寻常人家用的大米桶。等一会儿，有个青年法警跑到方洞口张张望望。我看他很和善的样子，便和他谈了几句话，知道他们弟兄们都是很窘苦的，每月九块钱，一切在内，个人还不够用，养家更不得了。又等一会儿，又有一个人在方洞口张望，轻声问我是不是某先生，我说是，略谈之下，才知道他也是我的读者，在法院里任职员，正在吃晚饭，听说我来了，连饭都不吃，特跑来安慰我。他的办公时间原已完了，因为我来，一定要等我审完，好好招呼我进了看守所才肯回去。我说他一天辛苦，要回家休息，不必等我。他不肯，直等到一切布置妥当后才肯离开。\\n\\n约等了半小时模样，传审了，审得很简单，照例由检察官问姓名、籍贯、年龄、住址等等之后，问起参加救国会的事，问起救国会的宗旨，问起有没有参加煽动日本纱厂工潮。审后再押回待审室坐了一些时候，便押往看守所羁押。\\n\\n总算优待，原来八个人住的一间囚室，经他们撤清打扫之后，由我和章先生两人同住。房里有一张大木桌可以放些零物。电灯一盏高高地装在两个房间的隔墙上面的方洞里，夜里在房里是看不出什么的，我们到九点钟就安排睡觉，怕有臭虫来光顾，特把木榻搬得离墙远远的。最使我注意的是在那样一个小房间里，也排有待审室里同样大的一个大马桶！第二早起身后，照例打手印，我们这时已打得更熟练了，打出的印子似乎已有了相当的进步！打完了手印，还要一同到天井里去照一张相片。这张相片照得怪有趣！我和章先生各人坐在一只骨牌凳上，列在一排照的；每人坐着，腹前还放着一块石板 (好像小学生做算学用的，黑色，上面可用粉笔写字)，我的那块石板上面写着雪白的几个大字是“第三千几十号某某（区区的名字）妨碍秩序嫌疑”，章先生的那块石板上面写的相同，不过号码和姓名改一改就是了。我们昂然同坐着照了一张这样的相片。事后我对章先生说，最好能讨得一张取来放大，将来可以高高地悬在客厅里面，让许多朋友“瞻仰瞻仰”，倒是一种很好的纪念。',\n",
       " '我在准备做工程师的学校里面——虽则还在中学一—并不专心于准备做工程师，却分着大部分的心力看这样的书，翻那样的报，和准备做工程师的工作都没有什么直接的关系，这实在不足为训。就职业指导的原则说，应该赶紧设法掉换学校才是，可是我当时在这方面是个“阿木林”，想都没有想到，还是在暗中摸索着。\\n\\n但是有一点却在小学的最后一年就在心里决定了的，那就是自己宜于做一个新闻记者。在那个时候，我对于《时报》上的远生的《北京》通讯着了迷。每次到阅报室里去看报，先要注意《时报》上有没有登着远生的特约通讯。我特别喜欢看他的通讯，有两个理由：第一是他的探访新闻的能力实在好，他每遇一件要事，都能直接由那个有关系的机关，尤其是由那个有关系的政治上的重要人物，探得详细正确的内部的情形；第二是他写得实在好！所以好，因为流利、畅达、爽快、诚恳、幽默。他所写的内容和所用的写的技术，都使当时的我佩服得很，常常羨慕他，希望自己将来也能做成那样一个新闻记者。想诸君也许还记得，远生就是名记者黄远庸先生的笔名。我当时对于他的为人怎样，完全不知道，但是在文字上认识了他，好像他就是我的一个极要好的朋友。后来他因反对袁世凯称帝而冒险南下，我已在中学里，对于他的安危，简直时刻担心着，甚至有好几夜为着这件事情睡不着。他离开上海赴美国，途中还写了好几篇短小精悍，充满着朝气的通讯登在《申报》上，是我生平最倾倒的佳作，我正切盼着他能继续写下去，不料他到旧金山的时候竟被暗杀，真使我悒郁不欢，好像死了我自己的一个好朋友。\\n\\n我以前曾经谈起在中学初年级的时候，对于先师沈永癯先生所借给我的《新民丛报》，也有一时看人了迷，这也是鼓励我要做新闻记者的一个要素。当然，那里面所建议的事情和所讨论的问题，和当年的时代已不适合，我只是欣赏那里面的锐利明快引人入胜的写的技术，所以在中学二年级的时候就无意再看了，可是增强了我要做个新闻记者的动机，那影响却是很有永久性的。\\n\\n在中学二年级的时候，同房间的同学有一位彭昕先生，他的国文根底很好，对于秋桐（即现在到华北去做什么委员，使国人为之齿冷的章士钊）所办的《甲寅杂志》看入了迷。他常常在我面前把秋桐的文章捧上了天，赞不绝口。平心而论，章士钊的现在行为虽令人齿冷，但在当时那一段时期的努力，却也有他的劳绩。我厌恶他现在的为人，同时我却要承认当时确曾经受着秋桐文字的相当的影响。我因为彭先生的入迷，也对于《甲寅杂志》加了特殊的注意，每期都从我这位朋友那里借来看。秋桐文字的最大优点是能心平气和地说理，文字的结构细密周详，对政敌或争论的对方有着诚恳的礼貌，一点没有泼妇骂街的恶习气。我很觉得这是现在我们应该注意的态度一—尤其是现在积极推动全国团结御侮的时候一不要心境过于狭隘，太不容人，我当时对于秋桐的文字虽不像我的同学彭先生那样入迷，但却也喜欢看。这对于我要做新闻记者的动机，也有相当的推动力。\\n\\n其实也只有《甲寅杂志》能使秋桐令人敬重，后来秋桐反对“五四”运动的新文化，又办什么《甲寅周刊》，同样地用秋桐署名的文字，看了便令人作三日呕！关于这一点，我也许可以捏造一个原则，做文章和做人实在有着密切的关系。做了一个要不得的人，原来能写很好文章的，到了那时写出来的也要变成要不得的东西。这也许是因为好的文章不仅是有着好的写的技术，同时也离不开好的写的内容。而且还有一点似乎奇特而却也是事实的：那便是内容的要不得往往也要影响到写的技术，因为只有理直气壮的内容才写得好，否则扭扭捏捏，不能遮掩它的丑态！',\n",
       " '在上海地方法院的看守所里只关了一天一夜，廿七日下午六点钟左右，又像老鼠被猫衔在嘴里奔窜着，由地方法院转解到公安局里去。我们先由看守所里被提出来，重新光顾待审室一次，不过这时我和章先生两个人同被押进一间待审室里去等候着。这时的法警对我们比初来的那天客气得多，大概他们都知道了我们是为着参加救国运动才到这里来的。等一会儿，我们先后被传审，检察官虽换了一个，但是问答内容还是上次那同样的一套。不过这次那位审问我们的检察官却充满着同情和歉意，拿出公安局的公文给我们看，里面说要移提我们去和沈先生等四位“对质”。检察官宣布之后，我们也没有什么话说，走出法庭后，就有公安局派来的人员迎上来押着出去。法院里有几个职员赶出来和我们握手送别，我们又觉到爱国的同胞们随处给予我们的同情和厚意的可感。我无意中和章先生说出了这一句话，在旁边同走的那位公安局的科员插着说：“这是各位先生人格的感动。”我说：“这倒不是我们几个个人的人格问题，却是有许多同胞不愿做亡国奴的心理的流露!”',\n",
       " '我的眼镜脱去了之后，史律师先被带出，我再等了好些时候，大概在当夜五点钟左右，我也被带了出来，往监狱方面走去。我举起脚来走的时候，皮鞋总在脚跟升降着，好像什么升降机似的，怪累赘，才又恍然觉到皮鞋上已没有了皮鞋带。这倒也是生平第一次的经验，因为自从知道穿皮鞋以来，从来没有不用皮鞋带的。这样一来，皮鞋倒像了拖鞋，所不同的是拖鞋轻便而皮鞋式的拖鞋却怪沉重。下面拖着一双皮鞋式的拖鞋，上面的两只眼睛又缺少了一副眼镜，拖步出了房门，好像走进了“迷园”，四周都成了朦胧糊涂的世界。往监狱去是要走下楼梯的，更是在糊涂中瞎摸着。幸而挟持我手臂而行的那位中国巡捕倒还殷勤，转弯或下梯的时候，总是小心打着招呼帮我的忙。将到监狱门口的时候，不但重遇着史律师，并且看见章乃器先生也来了，看看他的身上，西装领上的扣子也没有了，皮鞋上的带子也没有了，他身上也罩着一件呢大衣，脚上也拖着一双皮鞋式的拖鞋！我们遇见时都不许谈话，只能点头微笑打个静默的招呼而已。我们会齐了再向前走。走到监狱里的时候，押解我们的人正和守监的人接洽，我乘隙偷问章先生：“沈先生怎样？”他回答说：“大概也被捕了！”我听了默然微叹，那样冷的深夜，我实在替他老先生担心。我一面心里这样想着，一面囚室的门已开了，便被关了进去，铁格子门下了锁。\\n\\n我们三个人分住在三个囚室。我进了囚室之后，虽然已觉得疲乏，却睁开我的好像半瞎了的眼睛，四面仔细瞭望一下，看见这个囚室倒不算小，约有十来尺阔，八九尺深，一大半的地位都被一个大床铺占去了，床是用木板搭成的，好像小戏台似的，显然是预备六七个人睡的，虽则这次只是我一个人在里面。囚室里有了这样大的一个床铺，余下来的只是一条狭长的走路的地位。在房的一角，地上有个圆钵头，那大概是预备小便用的。除有一个铁格子的门，墙的高处还有一个小小的铁格窗。天花板的中央有着一盏电灯，射出暗淡的光线。床上有一条蓝布的被窝。我就把这被窝铺在床沿，把被窝的一头卷着一部分当枕头用，便和衣躺在那被窝上面。那段床沿离铁格子门很近，躺在床上看得见门外的暗淡灯光中有安南巡捕来往梭巡着。在孤寂冷静中刚刚睡着，不一会见有人来开铁格子门，把我叫醒，我一跳而起，莫名其妙，巡捕叫我跟着他走，我只得搓搓睡眼跟着走。走出了囚室的铁门，看见章先生和史律师也一同出去，经过了一个天井，转了两个弯，到了另一个监狱，形式和前一个差不多，不过在两排囚室中间的那个甬道里装有火炉。那个便装的法国人说着简单的英语，说这里可以比较温暖些。我猜想这也许是出于他们的好意，叫我们迁住在一个比较温暖的地方。但是我经这样一迁移，躺在床上却一夜睡不着。自问心境坦白，并没有什么忧虑，但不知道为什么就睡不着。后来直到小窗上透进鱼肚白，才朦胧地睡了几分钟，忽然又醒了，醒后虽仍躺在床上，从此就睡不着。等一会儿，有个安南巡捕送进两片面包，一个铅碗盛着的热茶。我看那铅碗的里边似乎积满了茶垢，没有喝的勇气；那两片面包倒是新鲜的，我便咬了两口，但因为并不想吃，所以就放在床边。\\n\\n身上没有了表，什么时候也不知道，不过觉得天亮了好久，八点钟何以还不肯来！（因为听说八点钟送法院。）后来他们又把我这个“半瞎子”送到政治部的办公室里，再经一次和前一夜大同小异的问话。等待问的时候，章先生也在那里，我们想说一两句话，立刻被翻译阻止，只得默然相对。问话的时候，各人是被隔离开的。后来我被带着转了不少上上下下的楼梯，天井和走廊，到一个地方去打手印。这是我生平第一次打手印，最初一念是不胜愤怒，但转念亡国奴的惨状更甚于现在的遭遇，为着参加救国而打手印，算什么！手印打后，又被带着转了不少上上下下的楼梯、天井和走廊，押回监狱里去。等一会儿又被带出来，又转了不少上上下下的楼梯、天井和走廊，到一个地方去拍照，正面拍了一张，侧面又拍一张。又重新转了不少上上下下的楼梯、天井和走廊，仍被押回监狱里去。等一会儿又被带出来，又转了不少上上下下的楼梯、天井和走廊，到一个地方去量身体、面部、手臂等等。又重新转了不少上上下下的楼梯、天井和走廊，再被押回监狱里去。等一会儿又被带出来，又转了不少上上下下的楼梯、天井和走廊，再干一番打手印的把戏，据说是再须打一套送到英租界去的。我们是在这一天（廿三日）的下午三点钟左右被解往法院的。在这时以前，我这个“半瞎子”就拖着没有带子的皮鞋，上上下下，左左右右，被押来押去。我觉得很有些像做猴戏，我自己被当作一只猴子玩！我继续不断地被押进押出的时候，章先生和史律师也在一起，我们的态度都很从容。',\n",
       " '到了地方法院之后，我和章先生被几个法警押进待审室。待审室有三四个大房间，用木板隔开的。我和章先生是隔离着的，各人关在一个大房间里面。房里四周用木板搭成长凳，门上有个四方形的洞穴，外面的人可从这个方洞向内望。里面很陈旧龌龊，我一踏进门口，就觉得尿气熏鼻，臭不可当。我于诧异间仔细向四周望望，原来房里摆着一个大马桶，其大无比，好像寻常人家用的大米桶。等一会儿，有个青年法警跑到方洞口张张望望。我看他很和善的样子，便和他谈了几句话，知道他们弟兄们都是很窘苦的，每月九块钱，一切在内，个人还不够用，养家更不得了。又等一会儿，又有一个人在方洞口张望，轻声问我是不是某先生，我说是，略谈之下，才知道他也是我的读者，在法院里任职员，正在吃晚饭，听说我来了，连饭都不吃，特跑来安慰我。他的办公时间原已完了，因为我来，一定要等我审完，好好招呼我进了看守所才肯回去。我说他一天辛苦，要回家休息，不必等我。他不肯，直等到一切布置妥当后才肯离开。',\n",
       " '在上海地方法院的看守所里只关了一天一夜，廿七日下午六点钟左右，又像老鼠被猫衔在嘴里奔窜着，由地方法院转解到公安局里去。我们先由看守所里被提出来，重新光顾待审室一次，不过这时我和章先生两个人同被押进一间待审室里去等候着。这时的法警对我们比初来的那天客气得多，大概他们都知道了我们是为着参加救国运动才到这里来的。等一会儿，我们先后被传审，检察官虽换了一个，但是问答内容还是上次那同样的一套。不过这次那位审问我们的检察官却充满着同情和歉意，拿出公安局的公文给我们看，里面说要移提我们去和沈先生等四位“对质”。检察官宣布之后，我们也没有什么话说，走出法庭后，就有公安局派来的人员迎上来押着出去。法院里有几个职员赶出来和我们握手送别，我们又觉到爱国的同胞们随处给予我们的同情和厚意的可感。我无意中和章先生说出了这一句话，在旁边同走的那位公安局的科员插着说：“这是各位先生人格的感动。”我说：“这倒不是我们几个个人的人格问题，却是有许多同胞不愿做亡国奴的心理的流露！”\\n\\n我们随着一群公安局的侦探、警察和科员，拥出了法院的门口，分乘汽\\n\\n车直驶公安局而去。\\n\\n这时沈先生等四位已押在公安局三四天了，我们一进公安局，就被引到他们的房间里去。我们在患难中相见畅谈，当然是格外快慰的，彼此诉说了一番经过的情形，又说了不少互相安慰的话语。我看看他们所住的房间还算清洁，是在二层楼上，前面有个露台，露台的前面是大天井，立在露台上可以看着公安局的大门；房的后面靠壁处并列排着四个小铁床，便是他们四位的床铺；这一列铁床的前面有个屏风遮着，屏风的外面放着一张圆桌、几张椅子，便是我们吃饭和相聚谈话的地方。我踏进房里一会儿之后，觉得奇特的是总有一个不相识的人立着或坐在一个角落里，我已直觉地知道这一定是用来监视我们的；后来知道他确是侦察队的侦探，奉命来监视的。房前的露台上还有四五个“武装同志”（警察）在那里监视着。房的右边有个客厅，来访问的人可以在那里坐坐，由客厅通到外面的那个门是常常锁好的。我们要大小便的时候，便有一个“武装同志”跟着我们经过这个门，在厕所门前守着，直等到陪着我们回到原处。\\n\\n我和章先生两人的卧室是在这个大房间的左边一个小房间里。他们已在几天前就替我们备好了两架小铁床。自从我们两人来了之后，又加派了一个侦探来监视。纵然是做侦探，也还是中国人。我们所干的是救国运动，我们所谈的也只是关于抗日救国的事情；我们不但用不着避他们，而且当着他们大谈我们对于救国的主张，大讨论我们对于救国的意见；侦探们听了不但不觉得我们是什么大逆不道，而且深切地表着同情！他们和我们相聚了几天，竟变成我们的同情者，甚至觉得每日来监视我们是一种不得已的痛苦和职务。不但侦探们如此，就是那些“武装同志”也成了我们的朋友！\\n\\n但是他们对于职务还是不得不奉行故事的。他们不但整日里要陪着我们，而且整夜都要陪着我们，虽然他们是三四小时轮班一次的。在白天，只有侦探在我们的房里，到了夜里，大概因为露台上寒冷，所以连“武装同志”都跑到房里来坐到天亮。这倒也是我生平第一次的经验：躺在床上睡的时候，也有一个“文装同志”（侦探）和几个“武装同志”整夜睁着眼睛，一直“侍卫”到天亮！\\n\\n我们到了三四天之后，有一个夜里，局里的第三科科长请我们在客厅里个别谈了一次话，留下了笔录。他很客气地问了我们一番话。问和答的内容都和在法院里那一套差不多，不过特别问起我们和“火花读书会”有没有关系。这个名称我事前根本就没有听见过，关系更说不上了。公安局局长几于每天都来很客气地招呼一下。头几天准许接见，访问者非常的多，那个客厅常告客满，天天好像举行什么盛会似的。后来当局有些怕了，除家属外，禁止接见其他的亲友。看报也不自由，每天由他们送来一种他们认为无关重要的报，有的时候一种也没有。我们每天的时间却过得很快。上午七点半起身后，同在客厅里早操。有的打太极拳，有的柔软体操，各干各的。早餐后最重要的事是催报看，有时看得到，有时看不到。可以接见的时候，差不多一天到晚忙着见客。后来只许接见家属，除开六人“讨论会”或“谈话会”外，有的下围棋，有的下象棋，有的看书，便很快地过了一天。我们每天所最关心的消息是绥远抗战的情形怎么样了，其次便是关于我们自己何时释放出来的消息；有时听说他们要把我们送往莫干山去，有时听说他们要把我们送往杭州去，最后几天听到的消息是要把我们送往苏州高等法院去。']"
      ]
     },
     "execution_count": 44,
     "metadata": {},
     "output_type": "execute_result"
    }
   ],
   "source": []
  },
  {
   "cell_type": "code",
   "execution_count": 41,
   "metadata": {},
   "outputs": [
    {
     "data": {
      "text/plain": [
       "[{'_index': 'article',\n",
       "  '_type': '_doc',\n",
       "  '_id': 'mTZ_c5cB4fdKsnzVIlKW',\n",
       "  '_score': 3.0388975,\n",
       "  '_source': {'@version': '1',\n",
       "   'updated_at': '2025-06-15T11:20:44.979732Z',\n",
       "   'id': 51,\n",
       "   '@timestamp': '2025-06-15T12:10:00.907875200Z',\n",
       "   'title': '三六 高三分院.txt',\n",
       "   'body': '廿三日那天从黎明到下午三点钟（这时间是当时向旁人探问才知道的，我身上没有表)，为时不能算久，但是在我却好像过了好久的时候，因为带着一对“半瞎”的眼睛，拖着一双没有带子的皮鞋，下身穿着一条没有裤带常常下落的里裤，躑躅兜转了无数次的楼梯、天井、走廊；走廊、天井、楼梯！到了下午三点钟左右，我又由囚室里被提了出来，和章先生史女士同被几个巡捕和法院的法警押到高三分院去。将押出门的时候，史女士先走，我和章先生随在后面，有个法国人用手铐把我的右手臂和章先生的左手臂套在一起，把锁锁上，所以我们两个人不得不并排走。套手铐也是我生平第一次的经验。我突然被套上手铐的刹那间，在脑际所闪过的奇特的感觉，和第一次打手印时一样，觉得这是使我不胜愤怒的侮辱，但想我所以受到这样的侮辱是因为我努力参加救国运动，我应该把这愤怒转变为继续奋斗的力量。我一面这样想着，一面昂首挺起胸膛大踏步走一—虽则脚上拖着没有带子的皮鞋，大踏步是格外费力的。捕房离法院很近，不过离开几家的路。我们出了捕房的大门，走过一段马路就到了法院。在马路上走的时候，前后拥着巡捕和法警，还有外国侦探，路人都停住脚，用奇异的眼光看着我们。我们到法院后，和史女士同到待审室里面去。往待审室上楼梯的时候，已有亲友数十人在旁拥聚着等候我们。我们进了待审室后，我和章先生的手铐被开了锁，脱了下来。待审室外面还有一个房间连着，那里有几个法警是被派来监视我们的，但是他们都已知道我们是为着主张团结救国而犯罪的，对于我们表示着很恳切的同情，说“你们的意思，做中国人的谁不赞成！”法警室的外面便是走进法庭的走廊，门是常常关着，偶然开一下，便有亲友们在外面伸着头遥望着，可是我们还不能见面谈话。他们送进来一包水果和饼干，我们三个人这时都觉得饿了，便吃了一些。在这待审室里，我们三个人都可以随便谈话，各人彼此告诉了前一夜被捕的经过。他们两位都是在深夜三点钟左右被捕的。我们三个人都住在法租界，所以都被捕到法捕房来。等一会儿，由外面传进的消息，说前一夜在公共租界被捕的沈、章、王、沙四先生于当日上午十点钟经高二分院开审后，于当天十二点钟即由各人的律师保了出来。我们听了，都觉得快慰。正谈论间，法警室的门又偶然开了一下，章先生瞥见沈先生在门外笑着举手向我们招呼，章先生即对我们笑着欢呼：“沈先生来了！沈先生来了！”我赶紧转眼看时，门又关了，我虽看不见沈先生，但是想到沈先生自己午后才被保出，就不顾劳瘁地跑来看我们，是很可感的。\\n\\n我们三个人等到四点多钟才开庭。张志让和唐豪两律师代表章先生、史女士辩护，孙祖基律师代表我辩护。先由待审室里提史女士去问，其次提章先生，最后提到我。出席的除一个审判长、两个推事、一个检察官和一个书记官外，还有一个代表法捕房的律师（中国人)。公安局方面也有一个律师代表出席。我在庭上坦白承认我是全国各界救国联合会的执行委员之一，因为我深信参加救国运动既是光明磊落的事情，用不着隐瞒。此外审判长对于我的问话，总结起来不外两点：一是我和共产党有无关系；二是我有没有参加煽动上海日本纱厂罢工。关于第一点，他们所根据的，是我和沈钧儒、章乃器、陶行知诸先生共同公开发表的小册子，名叫《团结御侮的最低条件和要求》，和毛泽东批评这个小册子的公开发布的印刷品。这小册子里所主张的是全国团结，一致对外，有原文可按，这里用不着多说；我们公开发表了主张，谁都可以看，谁都可以批评。检察官当庭就认为这不能作为犯罪的证据。关于第二点，我所做的只是捐了一天的薪水所得，救济在日本纱厂里过牛马生活、罢工后饥寒交迫的中国同胞！就是和我们毫无个人关系的法捕房律师，也当庭宣称，捕房政治部曾经把所搜去的印刷品研究一番，觉得只是爱国的文字，一点没有犯罪的证据，所以不允许公安局移提（即引渡）。结果我们三个人都“责付”律师保出，再交铺保；规定史女士一家铺保，我和章先生各人须有两家铺保。于是我们便于当夜八点钟左右由律师保了出来。\\n\\n后来有一位青年好友在他给我的一封信里，有一段描写当时的情景：\\n\\n自从先生的不幸案件发生后，我仅看过你一面。那就是在这事件发生后的当天晚上。当那特区法庭准予保释的消息传出时，鹄立门外静候审判消息的我们，原来每一个脸上呈现着忧虑与焦急的样子，顿时变成了欣慰的神情。你就在那数十亲友的庆幸欢笑的声中，走出法庭。我被兴奋的情绪激动着，几乎要流下热泪来。谁预料到第二天你又再度被押呢？\\n\\n“再度被押”的情形，下面再谈，且说我出法庭后，就被一部分朋友拥进汽车，直驱觉林去吃晚饭。我这时还带着“半瞎”的眼睛，拖着没有带子的皮鞋，领和领带也没有，大家都说我的面孔瘦了好多，面色也憔悴得很，我想这时的形态也许很像上海人所谓“瘪三”了！沈钧儒先生也赶了来，跑进来一见着就两手紧握着我的两臂摇摆，几乎要把我揽抱起来，笑眯眯地好像惊呼似地叫着我的名字，并对我的面孔仔细打量着。他的那样热诚和挚爱的音容，是我永远不能忘却的。我看着他的那样满面焕发着的光彩，活泼泼的举动，自己竟不免觉得惭愧起来，因为我自己失眠了一夜，劳顿了一天，这时实在感到疲乏，虽则精神上是怪兴奋的。\\n\\n这夜我回家好好地洗个澡，很舒适地睡了一夜。'}},\n",
       " {'_index': 'article',\n",
       "  '_type': '_doc',\n",
       "  '_id': 'VDZ_c5cB4fdKsnzVIlKK',\n",
       "  '_score': 2.966448,\n",
       "  '_source': {'@version': '1',\n",
       "   'updated_at': '2025-06-13T13:24:40.128210Z',\n",
       "   'id': 23,\n",
       "   '@timestamp': '2025-06-15T12:10:00.875695900Z',\n",
       "   'title': '地方法院_6.txt',\n",
       "   'body': '总算优待，原来八个人住的一间囚室，经他们撤清打扫之后，由我和章先生两人同住。房里有一张大木桌可以放些零物。电灯一盏高高地装在两个房间的隔墙上面的方洞里，夜里在房里是看不出什么的，我们到九点钟就安排睡觉，怕有臭虫来光顾，特把木榻搬得离墙远远的。最使我注意的是在那样一个小房间里，也排有待审室里同样大的一个大马桶!第二早起身后，照例打手印，我们这时已打得更熟练了，打出的印子似乎已有了相当的进步!打完了手印，还要一同到天井里去照—张相片。这张相片照得怪有趣!我和章先生各人坐在一只骨牌凳上，列在一排照的；每人坐着，腹前还放着一块石板(好像小学生做算学用的，黑色，上面可用粉笔写字),我的那块石板上面写着雪白的几个大字是“第三千几十号某某(区区的名字)妨碍秩序嫌疑”,章先生的那块石板上面写的相同，不过号码和姓名改一改就是了。我们昂然同坐着照了一张这样的相片。事后我对章先生说，最好能讨得一张取来放大，将来可以高高地悬在客厅里面，让许多朋友“瞻仰瞻仰”,倒是一种很好的纪念。'}},\n",
       " {'_index': 'article',\n",
       "  '_type': '_doc',\n",
       "  '_id': 'YjZ_c5cB4fdKsnzVIlKV',\n",
       "  '_score': 2.9664361,\n",
       "  '_source': {'@version': '1',\n",
       "   'updated_at': '2025-06-15T11:20:43.755308Z',\n",
       "   'id': 45,\n",
       "   '@timestamp': '2025-06-15T12:10:00.900348400Z',\n",
       "   'title': '三七 再被羁押.txt',\n",
       "   'body': '廿三日夜里在觉林的时候，在座中的朋友已经有人听到消息，说高二分院于当天下午五六点钟又已签出拘票拘传沈先生等四人。大家觉得他们既已“责付”律师保出，尽可随传随到，何必再出拘票呢？所以还在半信半疑中。廿四早七点钟，我起身后就先打一个电活到沈先生的家里，探问他的安全，得到的回答是沈先生昨夜刚安睡了一小时，在深夜一点钟的时候，又被捕房捕去了！随后又有朋友打电话来通知，说王、沙两先生也于同夜再被拘捕，李先生因睡在朋友家里，所以未即捕去。随后又有朋友打电话来，极力劝我避开家里。我就打电话征求我的律师的意见。我告诉他，我既由他保出，对他当然要负责，不能随便走开的，不过既由律师负责保出，尽可随传随到，现竟随意拘捕，很可诧异，我想暂行避到朋友家里去，但是地址要让他知道，以便他随时通知，我即随时可以出来。他赞成我的意思，于是我便匆匆洗脸、整衣、用早餐，叫了一辆汽车，到一个好友家里去暂避。我一到了那一个好友的家里，就接到我妻的电话，说前夜来过的那个大块头（公安局的侦探）又在我们的弄口东张西望了！午饭后我的二妹来看我，因为她听见我咳嗽，特送一小瓶药片给我。我们正在谈话的时候，我的律师有电话来通知，说法院已定下午四点钟开庭，叫我三点钟到他的事务所里一同去，我答应他照办。\\n\\n我们按时到高三分院报到，但因章先生和史女士未到案，延展到当夜十二点钟才开庭。在开庭前，我被押在法院的法警室，律师和家属都不得进来谈话，我一直在那里等到当夜十二点钟。不过我在法警室里却也不算寂寞，我对几十个法警弟兄们大开其话匣，说明国难的严重和我们的全国团结御侮的主张，他们都听得津津有味，点头称是，待我格外好起来了，倒茶的倒茶，让座的让座！后来我发现其中有几位还是我的读者，我们更成了莫逆之交了。\\n\\n当夜十二点钟开庭，章先生到了，史女士还是未到。问的答的还是那一套。律师再请求交保，不许。于是我和章先生被几个法警押送到特区第二监狱里去羁押。审判长在押单上批明“予以优待”。\\n\\n这监狱离法院也很近，所以我们也是步行。走进了一个大铁门，便是监狱所在地了。被带进了一个办公室，向例要由职员问几句话，由他填写在簿子上。他问了姓名、年岁、籍贯后，就问犯的什么罪，我脱口而出地答道：“救国”，他听了这两个字，一点不迟疑地立刻在簿子上写下了这四个字：“危害民国”！使我于哭笑不得中感到幽默的是他那样熟练的神情。\\n\\n这个手续完毕之后，经过搜查，再向里走，经过第二道门的时候，又经过一次问话。那里有个职员好像对我们演说似的“训”了一大套话，大意说在里面不可以吸香烟，不可以有聚会式的谈话，违犯了是要上繚铐的。他立在一个高高的柜台里说，我和章先生立在柜台外呆呆地听着。随后章先生的香烟盒和钱袋等零物交出代存，我没有什么东西要交出，我带着的那副眼镜也还得架在原处 (这是回家时另换一副的)。我们还在那里再打一番手印。我们到了这个时候，手印也打得很熟练了，好像在银行支票上盖个图章一样，伸出手来就是！\\n\\n这大概就是“予以优待”吧。他们没有把我们放进盗犯们的监狱，却关到幼年监狱里面去。这幼年监狱一进门便是一个小教室，教室的旁边有四个铁格子门关住的小囚室。我们两个人被带到第一个囚室的外面，望望里面约有六七尺宽，十几尺深。排着一个两层的小铁床，一张小木椅 (骨牌凳)。近小铁床一头的角落里放着一个马桶。下层的铁床已有一个青年睡着。看守把他叫醒，请他搬到上层。我和章先生进了后，家里的被窝已交来，打算睡觉。余下的铁床只有一层，我们两人之间必须有一人要睡地板，彼此互让不能决，我从衣袋里挖出一个小银角掷在掌上，用另一掌掩着，说明角子的阳面朝上我睡床，阴面朝上他睡床，结果轮着我睡床，他睡地板。我们睡的问题解决了，随进来的几个看守瞥见我的那个银角子，认为也要交出代存的，我只得随手把这个硕果仅存的银角子交给他。\\n\\n那一夜，我们两个人很安静地睡在那个小囚室里面。'}},\n",
       " {'_index': 'article',\n",
       "  '_type': '_doc',\n",
       "  '_id': 'eDZ_c5cB4fdKsnzVIlKV',\n",
       "  '_score': 2.933083,\n",
       "  '_source': {'@version': '1',\n",
       "   'updated_at': '2025-06-15T11:20:44.770956Z',\n",
       "   'id': 50,\n",
       "   '@timestamp': '2025-06-15T12:10:00.906866900Z',\n",
       "   'title': '三八 同情和厚意.txt',\n",
       "   'body': '我不是说过吗？我和章先生在那个深夜里被带到一个小囚室的前面，从铁格子门望进去，就看见里面的小铁床的下层已睡着一个囚犯。他姓周，是一个政治犯，是一个很可敬爱的青年！他当夜听见章先生无意中在谈话里叫了我的名字，引起他的注意，知道是我，表示十分的愉快；他原来也是我的一个读者，我们在精神上已是好友，所以一说穿了，便感到很深的友谊。当我铺床预备睡的时候，他看我们两人里面有一个要睡地板，再三要把他的那一层床让给我们，他自己情愿睡地板，经我们再三婉谢，他才勉强照旧睡下去。第二天清早，隔壁的囚室里就递过来一封长信，是一个二十岁左右的青年写给章先生的。他只听说章先生来了，不知道我也来了，所以信里只急急问起我被捕的情形。他当夜为着这件事，一夜没有睡着，局促着写了这封长信，充满着热烈和挚爱的情绪。他的纯洁、诚恳、坦白、激昂，深深地震动了我们的心弦。后来我们见面了，都感到非常的快慰。他当面谈了还觉不够，也许因为话语还未能尽量倾诉他的衷情吧，又局促地俯在床旁写了一封长信交给我，在信里很诚恳地安慰我，乃至听见我还有咳嗽的声音（这是那几天偶然有的)，都使他感到不安，再三叮哼，叫我要为国珍重身体。我很惭愧，觉得实在够不上他的那样厚望。还有一位同监的十九岁青年，大家都叫他做“八十四号”，因为他的囚衣的前后写着“84”两个大字。他是由乡村里来的一个穷孩子，到上海一个烟纸店里做过打杂。因为这家店关闭了，他便失业，为着饥饿所迫，做了一次小偷，被捕进来。他的写的能力很差，但是也自动地在一张小纸片上写了几十个字交给我，虽然像通不通似的，但是对于抗日救国的热烈和对于我们被捕的义愤，也已跃然纸上。\\n\\n后来听到这几位青年好友的报告，才知道监狱里许多囚犯都知道有我们这样两个人来了，都一致表示愤慨。尤其令人感动的，是一个被判了无期徒刑的盗犯，也在一封信里表示对于国难的关心和对于我们的深切的同情。他虽然用着很粗率的语句叙述他的意见，但是他那一颗火热般的心是谁看了都要感动的！听说全监九百余人为着援助绥远前线抗敌战士，决定全体绝食一天。\\n\\n就在这监狱里的职员方面，也有许多表同情于救国运动，对于我们两人的被捕，表示深厚的同情。因为他们有职务上的关系，我在这里不能详述了，我只有在这里附笔表示对于他们厚意的深深的感谢。\\n\\n同监的青年朋友们待我两人的殷勤是很可感的。我们的琐屑的事情，他们都争着代做。例如早晨倒洗脸水，扫地拖地板，饭后洗碗碟等等。监里犯人是各有一个号码的，铁格子门的外面便插有各人号码的硬纸片，职员招呼各犯时只叫各人的号码，不叫各人的名字。我的号码似乎是三百多号，章先生的号码二百多号，现在已记不清了，但是我们的号码虽记在铁门上的硬纸片上，都没有多大用处，因为同监的几位青年朋友不但自己一定要叫我们做先生，同时也一定要看守们叫我们做先生，不许叫号码。他们的那种天真的热诚，看着十分可感而又十分有趣！\\n\\n我们的小小囚室，每日上午七点钟，由看守把铁格子门开锁，让我们到接连着的小教室里去坐坐走走。那小教室里排有学校里用的木椅桌七八排，我们白天就在那里谈话看书。午饭后，别的囚室的铁门还要关上一小时，各囚犯都要“归号”，我们两人因受优待，可以例外。不过到下午四点半，各囚室的铁门一律都要关上锁好，一律都要“归号”，我们也不能例外，因为白天有个看守监视着，下午四点半后锁上了铁门，一夜到天亮，只每隔几小时有个职员来巡视一次，并没有看守监视着。因此我们到了下午四点半，也只得同样地被关在那个小小的囚室里，局促在那个铁格子门的后面。那个小小的囚室，除放着一架两层的小铁床外，余下来的区域也只有比放一个小铁床的地位差不多，所以我们两人要在这里散散步，便要碰来碰去。碰了几碰，我只得采用折中的办法，章先生跑来跑去的时候，我就坐在那张骨牌凳上；他停走的时候，我就跑来跑去。晚上只在外面那个小教室里有电灯，小囚室里是没有灯的。我们跑得厌了，就拿些书挨在铁格子旁边去看看。\\n\\n我们到的第二天，原在我们的囚室里的周君自动地搬到隔壁一间里去，所以原来的这一间囚室便只有我和章先生两个人同住了。在这个监狱里（指幼年犯监狱，非全部)，除了几个幼年犯外，还有两个原来是监里的“主任”，犯了罪一同关在这里面。到了晚上倒也不寂寞。附近的两个囚室里的几个青年朋友睡在床上大开其“辩论会”，你一句，我一句，对于抗日救国问题也讨论得很激烈。在这些讨论里，你可以听到青年们的坦白的天真的意见。同时你可以听到住在稍远的那个囚室里的两个犯了罪的“主任”大念其佛经，发出喃喃不绝的“南无阿弥陀佛”的声浪来。\\n\\n两层的小铁床上面铺的是木板。床架不是铁杆做的，只是较厚的铁片做的，在上层睡的人转个身的时候，全部的床架都有摇摆的姿态。章先生的身体比我高大，我怕他梦中转身，“牵动全局”，也许要把铁床翻倒，所以让他睡在下层，我睡在上层。我夜里在床上转身的时候，仍要很谨慎地慢慢地转，免得床身震得过响，以致惊动他的好梦。\\n\\n我和章先生从来没有同住过，想不到一同住就住到这样一个小小的囚室里；但是我们想到全狱的朋友们对于我们的同情和厚意，却给予我们一种说不出的愉快和安慰的情绪。'}},\n",
       " {'_index': 'article',\n",
       "  '_type': '_doc',\n",
       "  '_id': 'ZTZ_c5cB4fdKsnzVIlKV',\n",
       "  '_score': 2.9285011,\n",
       "  '_source': {'@version': '1',\n",
       "   'updated_at': '2025-06-15T11:20:44.147436Z',\n",
       "   'id': 47,\n",
       "   '@timestamp': '2025-06-15T12:10:00.902348100Z',\n",
       "   'title': '三九 地方法院.txt',\n",
       "   'body': '我们在上海特区第二监狱里关了两天。到廿六日那一天下午，我们在四点半后照例“归号”，铁格子门锁上了，我们两人照常在那小囚室里拥挤着。七点钟左右，忽有一个看守进来说“接见”。所谓“接见”，是监狱里允许囚犯接见家属亲友。我们两人虽觉得那样晚的时候，怎样还有“接见”，但是既经说有，我们便匆匆随他出去。到了外面，才知道是要到法院去开庭的。离开监狱的时候，还照例在簿子上打个大拇指的手印。\\n\\n到了高三分院的法庭以后，才知道是上海地方法院（在租界以外的法院）来“移提”。我在前面曾经说过，廿三日和廿四日两次在高三分院开庭时，公安局都是要把我们“移提”的，捕房律师因为没有犯罪的证据，两次拒绝“移提”。据说根据上海法租界和中国政府的协定，除中国的司法机关可以无需证据即可向捕房或特区法院“移提”犯人外，像公安局一类的机关要做这件事，必须拿得出证据才行。因为这个缘故，他们便设法转个弯儿，由上海地方法院出面来“移提”。结果当然是达到了他们的目的。其实我们所要求的是无罪当庭开释，至于“移提”不“移提”，并不在意；现在一定要“移提”，“移提”就是了。“移提”的理由据说是“妨碍秩序嫌疑”！\\n\\n我们在高三分院法庭的时候，地方法院已派了好几个法警等着，一出法庭，便被他们拥上汽车，往城里驶去。我和章先生各乘一辆汽车，左右各有两个法警押着。我们这几天好像被猫衔着的老鼠东奔西窜似的，原已不足为奇，我们所觉得不无抱憾的，是没有机会和同狱的那几个青年好友握别罢了。\\n\\n到了地方法院之后，我和章先生被几个法警押进待审室。待审室有三四个大房间，用木板隔开的。我和章先生是隔离着的，各人关在一个大房间里面。房里四周用木板搭成长凳，门上有个四方形的洞穴，外面的人可从这个方洞向内望。里面很陈旧齷齪，我一踏进门口，就觉得尿气熏鼻，臭不可当。我于诧异间仔细向四周望望，原来房里摆着一个大马桶，其大无比，好像寻常人家用的大米桶。等一会儿，有个青年法警跑到方洞口张张望望。我看他很和善的样子，便和他谈了几句话，知道他们弟兄们都是很窘苦的，每月九块钱，一切在内，个人还不够用，养家更不得了。又等一会儿，又有一个人在方洞口张望，轻声问我是不是某先生，我说是，略谈之下，才知道他也是我的读者，在法院里任职员，正在吃晚饭，听说我来了，连饭都不吃，特跑来安慰我。他的办公时间原已完了，因为我来，一定要等我审完，好好招呼我进了看守所才肯回去。我说他一天辛苦，要回家休息，不必等我。他不肯，直等到一切布置妥当后才肯离开。\\n\\n约等了半小时模样，传审了，审得很简单，照例由检察官问姓名、籍贯、年龄、住址等等之后，问起参加救国会的事，问起救国会的宗旨，问起有没有参加煽动日本纱厂工潮。审后再押回待审室坐了一些时候，便押往看守所羁押。\\n\\n总算优待，原来八个人住的一间囚室，经他们撤清打扫之后，由我和章先生两人同住。房里有一张大木桌可以放些零物。电灯一盏高高地装在两个房间的隔墙上面的方洞里，夜里在房里是看不出什么的，我们到九点钟就安排睡觉，怕有臭虫来光顾，特把木榻搬得离墙远远的。最使我注意的是在那样一个小房间里，也排有待审室里同样大的一个大马桶！第二早起身后，照例打手印，我们这时已打得更熟练了，打出的印子似乎已有了相当的进步！打完了手印，还要一同到天井里去照一张相片。这张相片照得怪有趣！我和章先生各人坐在一只骨牌凳上，列在一排照的；每人坐着，腹前还放着一块石板 (好像小学生做算学用的，黑色，上面可用粉笔写字)，我的那块石板上面写着雪白的几个大字是“第三千几十号某某（区区的名字）妨碍秩序嫌疑”，章先生的那块石板上面写的相同，不过号码和姓名改一改就是了。我们昂然同坐着照了一张这样的相片。事后我对章先生说，最好能讨得一张取来放大，将来可以高高地悬在客厅里面，让许多朋友“瞻仰瞻仰”，倒是一种很好的纪念。'}},\n",
       " {'_index': 'article',\n",
       "  '_type': '_doc',\n",
       "  '_id': 'UjZ_c5cB4fdKsnzVIlKV',\n",
       "  '_score': 2.907889,\n",
       "  '_source': {'@version': '1',\n",
       "   'updated_at': '2025-06-15T11:20:50.579715Z',\n",
       "   'id': 78,\n",
       "   '@timestamp': '2025-06-15T12:10:00.864111200Z',\n",
       "   'title': '六 新闻记者的作品.txt',\n",
       "   'body': '我在准备做工程师的学校里面——虽则还在中学一—并不专心于准备做工程师，却分着大部分的心力看这样的书，翻那样的报，和准备做工程师的工作都没有什么直接的关系，这实在不足为训。就职业指导的原则说，应该赶紧设法掉换学校才是，可是我当时在这方面是个“阿木林”，想都没有想到，还是在暗中摸索着。\\n\\n但是有一点却在小学的最后一年就在心里决定了的，那就是自己宜于做一个新闻记者。在那个时候，我对于《时报》上的远生的《北京》通讯着了迷。每次到阅报室里去看报，先要注意《时报》上有没有登着远生的特约通讯。我特别喜欢看他的通讯，有两个理由：第一是他的探访新闻的能力实在好，他每遇一件要事，都能直接由那个有关系的机关，尤其是由那个有关系的政治上的重要人物，探得详细正确的内部的情形；第二是他写得实在好！所以好，因为流利、畅达、爽快、诚恳、幽默。他所写的内容和所用的写的技术，都使当时的我佩服得很，常常羨慕他，希望自己将来也能做成那样一个新闻记者。想诸君也许还记得，远生就是名记者黄远庸先生的笔名。我当时对于他的为人怎样，完全不知道，但是在文字上认识了他，好像他就是我的一个极要好的朋友。后来他因反对袁世凯称帝而冒险南下，我已在中学里，对于他的安危，简直时刻担心着，甚至有好几夜为着这件事情睡不着。他离开上海赴美国，途中还写了好几篇短小精悍，充满着朝气的通讯登在《申报》上，是我生平最倾倒的佳作，我正切盼着他能继续写下去，不料他到旧金山的时候竟被暗杀，真使我悒郁不欢，好像死了我自己的一个好朋友。\\n\\n我以前曾经谈起在中学初年级的时候，对于先师沈永癯先生所借给我的《新民丛报》，也有一时看人了迷，这也是鼓励我要做新闻记者的一个要素。当然，那里面所建议的事情和所讨论的问题，和当年的时代已不适合，我只是欣赏那里面的锐利明快引人入胜的写的技术，所以在中学二年级的时候就无意再看了，可是增强了我要做个新闻记者的动机，那影响却是很有永久性的。\\n\\n在中学二年级的时候，同房间的同学有一位彭昕先生，他的国文根底很好，对于秋桐（即现在到华北去做什么委员，使国人为之齿冷的章士钊）所办的《甲寅杂志》看入了迷。他常常在我面前把秋桐的文章捧上了天，赞不绝口。平心而论，章士钊的现在行为虽令人齿冷，但在当时那一段时期的努力，却也有他的劳绩。我厌恶他现在的为人，同时我却要承认当时确曾经受着秋桐文字的相当的影响。我因为彭先生的入迷，也对于《甲寅杂志》加了特殊的注意，每期都从我这位朋友那里借来看。秋桐文字的最大优点是能心平气和地说理，文字的结构细密周详，对政敌或争论的对方有着诚恳的礼貌，一点没有泼妇骂街的恶习气。我很觉得这是现在我们应该注意的态度一—尤其是现在积极推动全国团结御侮的时候一不要心境过于狭隘，太不容人，我当时对于秋桐的文字虽不像我的同学彭先生那样入迷，但却也喜欢看。这对于我要做新闻记者的动机，也有相当的推动力。\\n\\n其实也只有《甲寅杂志》能使秋桐令人敬重，后来秋桐反对“五四”运动的新文化，又办什么《甲寅周刊》，同样地用秋桐署名的文字，看了便令人作三日呕！关于这一点，我也许可以捏造一个原则，做文章和做人实在有着密切的关系。做了一个要不得的人，原来能写很好文章的，到了那时写出来的也要变成要不得的东西。这也许是因为好的文章不仅是有着好的写的技术，同时也离不开好的写的内容。而且还有一点似乎奇特而却也是事实的：那便是内容的要不得往往也要影响到写的技术，因为只有理直气壮的内容才写得好，否则扭扭捏捏，不能遮掩它的丑态！'}},\n",
       " {'_index': 'article',\n",
       "  '_type': '_doc',\n",
       "  '_id': 'jDZ_c5cB4fdKsnzVIlKW',\n",
       "  '_score': 2.8037543,\n",
       "  '_source': {'@version': '1',\n",
       "   'updated_at': '2025-06-13T13:24:40.316056Z',\n",
       "   'id': 24,\n",
       "   '@timestamp': '2025-06-15T12:10:00.876241400Z',\n",
       "   'title': '押在公安局_1.txt',\n",
       "   'body': '在上海地方法院的看守所里只关了一天一夜，廿七日下午六点钟左右，又像老鼠被猫衔在嘴里奔窜着，由地方法院转解到公安局里去。我们先由看守所里被提出来，重新光顾待审室一次，不过这时我和章先生两个人同被押进一间待审室里去等候着。这时的法警对我们比初来的那天客气得多，大概他们都知道了我们是为着参加救国运动才到这里来的。等一会儿，我们先后被传审，检察官虽换了一个，但是问答内容还是上次那同样的一套。不过这次那位审问我们的检察官却充满着同情和歉意，拿出公安局的公文给我们看，里面说要移提我们去和沈先生等四位“对质”。检察官宣布之后，我们也没有什么话说，走出法庭后，就有公安局派来的人员迎上来押着出去。法院里有几个职员赶出来和我们握手送别，我们又觉到爱国的同胞们随处给予我们的同情和厚意的可感。我无意中和章先生说出了这一句话，在旁边同走的那位公安局的科员插着说：“这是各位先生人格的感动。”我说：“这倒不是我们几个个人的人格问题，却是有许多同胞不愿做亡国奴的心理的流露!”'}},\n",
       " {'_index': 'article',\n",
       "  '_type': '_doc',\n",
       "  '_id': 'kTZ_c5cB4fdKsnzVIlKW',\n",
       "  '_score': 2.7861955,\n",
       "  '_source': {'@version': '1',\n",
       "   'updated_at': '2025-06-15T11:20:44.536388Z',\n",
       "   'id': 49,\n",
       "   '@timestamp': '2025-06-15T12:10:00.905857200Z',\n",
       "   'title': '三五 铁格子后面.txt',\n",
       "   'body': '我的眼镜脱去了之后，史律师先被带出，我再等了好些时候，大概在当夜五点钟左右，我也被带了出来，往监狱方面走去。我举起脚来走的时候，皮鞋总在脚跟升降着，好像什么升降机似的，怪累赘，才又恍然觉到皮鞋上已没有了皮鞋带。这倒也是生平第一次的经验，因为自从知道穿皮鞋以来，从来没有不用皮鞋带的。这样一来，皮鞋倒像了拖鞋，所不同的是拖鞋轻便而皮鞋式的拖鞋却怪沉重。下面拖着一双皮鞋式的拖鞋，上面的两只眼睛又缺少了一副眼镜，拖步出了房门，好像走进了“迷园”，四周都成了朦胧糊涂的世界。往监狱去是要走下楼梯的，更是在糊涂中瞎摸着。幸而挟持我手臂而行的那位中国巡捕倒还殷勤，转弯或下梯的时候，总是小心打着招呼帮我的忙。将到监狱门口的时候，不但重遇着史律师，并且看见章乃器先生也来了，看看他的身上，西装领上的扣子也没有了，皮鞋上的带子也没有了，他身上也罩着一件呢大衣，脚上也拖着一双皮鞋式的拖鞋！我们遇见时都不许谈话，只能点头微笑打个静默的招呼而已。我们会齐了再向前走。走到监狱里的时候，押解我们的人正和守监的人接洽，我乘隙偷问章先生：“沈先生怎样？”他回答说：“大概也被捕了！”我听了默然微叹，那样冷的深夜，我实在替他老先生担心。我一面心里这样想着，一面囚室的门已开了，便被关了进去，铁格子门下了锁。\\n\\n我们三个人分住在三个囚室。我进了囚室之后，虽然已觉得疲乏，却睁开我的好像半瞎了的眼睛，四面仔细瞭望一下，看见这个囚室倒不算小，约有十来尺阔，八九尺深，一大半的地位都被一个大床铺占去了，床是用木板搭成的，好像小戏台似的，显然是预备六七个人睡的，虽则这次只是我一个人在里面。囚室里有了这样大的一个床铺，余下来的只是一条狭长的走路的地位。在房的一角，地上有个圆钵头，那大概是预备小便用的。除有一个铁格子的门，墙的高处还有一个小小的铁格窗。天花板的中央有着一盏电灯，射出暗淡的光线。床上有一条蓝布的被窝。我就把这被窝铺在床沿，把被窝的一头卷着一部分当枕头用，便和衣躺在那被窝上面。那段床沿离铁格子门很近，躺在床上看得见门外的暗淡灯光中有安南巡捕来往梭巡着。在孤寂冷静中刚刚睡着，不一会见有人来开铁格子门，把我叫醒，我一跳而起，莫名其妙，巡捕叫我跟着他走，我只得搓搓睡眼跟着走。走出了囚室的铁门，看见章先生和史律师也一同出去，经过了一个天井，转了两个弯，到了另一个监狱，形式和前一个差不多，不过在两排囚室中间的那个甬道里装有火炉。那个便装的法国人说着简单的英语，说这里可以比较温暖些。我猜想这也许是出于他们的好意，叫我们迁住在一个比较温暖的地方。但是我经这样一迁移，躺在床上却一夜睡不着。自问心境坦白，并没有什么忧虑，但不知道为什么就睡不着。后来直到小窗上透进鱼肚白，才朦胧地睡了几分钟，忽然又醒了，醒后虽仍躺在床上，从此就睡不着。等一会儿，有个安南巡捕送进两片面包，一个铅碗盛着的热茶。我看那铅碗的里边似乎积满了茶垢，没有喝的勇气；那两片面包倒是新鲜的，我便咬了两口，但因为并不想吃，所以就放在床边。\\n\\n身上没有了表，什么时候也不知道，不过觉得天亮了好久，八点钟何以还不肯来！（因为听说八点钟送法院。）后来他们又把我这个“半瞎子”送到政治部的办公室里，再经一次和前一夜大同小异的问话。等待问的时候，章先生也在那里，我们想说一两句话，立刻被翻译阻止，只得默然相对。问话的时候，各人是被隔离开的。后来我被带着转了不少上上下下的楼梯，天井和走廊，到一个地方去打手印。这是我生平第一次打手印，最初一念是不胜愤怒，但转念亡国奴的惨状更甚于现在的遭遇，为着参加救国而打手印，算什么！手印打后，又被带着转了不少上上下下的楼梯、天井和走廊，押回监狱里去。等一会儿又被带出来，又转了不少上上下下的楼梯、天井和走廊，到一个地方去拍照，正面拍了一张，侧面又拍一张。又重新转了不少上上下下的楼梯、天井和走廊，仍被押回监狱里去。等一会儿又被带出来，又转了不少上上下下的楼梯、天井和走廊，到一个地方去量身体、面部、手臂等等。又重新转了不少上上下下的楼梯、天井和走廊，再被押回监狱里去。等一会儿又被带出来，又转了不少上上下下的楼梯、天井和走廊，再干一番打手印的把戏，据说是再须打一套送到英租界去的。我们是在这一天（廿三日）的下午三点钟左右被解往法院的。在这时以前，我这个“半瞎子”就拖着没有带子的皮鞋，上上下下，左左右右，被押来押去。我觉得很有些像做猴戏，我自己被当作一只猴子玩！我继续不断地被押进押出的时候，章先生和史律师也在一起，我们的态度都很从容。'}},\n",
       " {'_index': 'article',\n",
       "  '_type': '_doc',\n",
       "  '_id': 'qDZ_c5cB4fdKsnzVIlK4',\n",
       "  '_score': 2.7492123,\n",
       "  '_source': {'@version': '1',\n",
       "   'updated_at': '2025-06-13T13:24:39.763977Z',\n",
       "   'id': 21,\n",
       "   '@timestamp': '2025-06-15T12:10:00.872122400Z',\n",
       "   'title': '地方法院_4.txt',\n",
       "   'body': '到了地方法院之后，我和章先生被几个法警押进待审室。待审室有三四个大房间，用木板隔开的。我和章先生是隔离着的，各人关在一个大房间里面。房里四周用木板搭成长凳，门上有个四方形的洞穴，外面的人可从这个方洞向内望。里面很陈旧龌龊，我一踏进门口，就觉得尿气熏鼻，臭不可当。我于诧异间仔细向四周望望，原来房里摆着一个大马桶，其大无比，好像寻常人家用的大米桶。等一会儿，有个青年法警跑到方洞口张张望望。我看他很和善的样子，便和他谈了几句话，知道他们弟兄们都是很窘苦的，每月九块钱，一切在内，个人还不够用，养家更不得了。又等一会儿，又有一个人在方洞口张望，轻声问我是不是某先生，我说是，略谈之下，才知道他也是我的读者，在法院里任职员，正在吃晚饭，听说我来了，连饭都不吃，特跑来安慰我。他的办公时间原已完了，因为我来，一定要等我审完，好好招呼我进了看守所才肯回去。我说他一天辛苦，要回家休息，不必等我。他不肯，直等到一切布置妥当后才肯离开。'}},\n",
       " {'_index': 'article',\n",
       "  '_type': '_doc',\n",
       "  '_id': 'gDZ_c5cB4fdKsnzVIlKV',\n",
       "  '_score': 2.5887105,\n",
       "  '_source': {'@version': '1',\n",
       "   'updated_at': '2025-06-15T11:20:51.638568Z',\n",
       "   'id': 83,\n",
       "   '@timestamp': '2025-06-15T12:10:00.883208400Z',\n",
       "   'title': '四〇 押在公安局.txt',\n",
       "   'body': '在上海地方法院的看守所里只关了一天一夜，廿七日下午六点钟左右，又像老鼠被猫衔在嘴里奔窜着，由地方法院转解到公安局里去。我们先由看守所里被提出来，重新光顾待审室一次，不过这时我和章先生两个人同被押进一间待审室里去等候着。这时的法警对我们比初来的那天客气得多，大概他们都知道了我们是为着参加救国运动才到这里来的。等一会儿，我们先后被传审，检察官虽换了一个，但是问答内容还是上次那同样的一套。不过这次那位审问我们的检察官却充满着同情和歉意，拿出公安局的公文给我们看，里面说要移提我们去和沈先生等四位“对质”。检察官宣布之后，我们也没有什么话说，走出法庭后，就有公安局派来的人员迎上来押着出去。法院里有几个职员赶出来和我们握手送别，我们又觉到爱国的同胞们随处给予我们的同情和厚意的可感。我无意中和章先生说出了这一句话，在旁边同走的那位公安局的科员插着说：“这是各位先生人格的感动。”我说：“这倒不是我们几个个人的人格问题，却是有许多同胞不愿做亡国奴的心理的流露！”\\n\\n我们随着一群公安局的侦探、警察和科员，拥出了法院的门口，分乘汽\\n\\n车直驶公安局而去。\\n\\n这时沈先生等四位已押在公安局三四天了，我们一进公安局，就被引到他们的房间里去。我们在患难中相见畅谈，当然是格外快慰的，彼此诉说了一番经过的情形，又说了不少互相安慰的话语。我看看他们所住的房间还算清洁，是在二层楼上，前面有个露台，露台的前面是大天井，立在露台上可以看着公安局的大门；房的后面靠壁处并列排着四个小铁床，便是他们四位的床铺；这一列铁床的前面有个屏风遮着，屏风的外面放着一张圆桌、几张椅子，便是我们吃饭和相聚谈话的地方。我踏进房里一会儿之后，觉得奇特的是总有一个不相识的人立着或坐在一个角落里，我已直觉地知道这一定是用来监视我们的；后来知道他确是侦察队的侦探，奉命来监视的。房前的露台上还有四五个“武装同志”（警察）在那里监视着。房的右边有个客厅，来访问的人可以在那里坐坐，由客厅通到外面的那个门是常常锁好的。我们要大小便的时候，便有一个“武装同志”跟着我们经过这个门，在厕所门前守着，直等到陪着我们回到原处。\\n\\n我和章先生两人的卧室是在这个大房间的左边一个小房间里。他们已在几天前就替我们备好了两架小铁床。自从我们两人来了之后，又加派了一个侦探来监视。纵然是做侦探，也还是中国人。我们所干的是救国运动，我们所谈的也只是关于抗日救国的事情；我们不但用不着避他们，而且当着他们大谈我们对于救国的主张，大讨论我们对于救国的意见；侦探们听了不但不觉得我们是什么大逆不道，而且深切地表着同情！他们和我们相聚了几天，竟变成我们的同情者，甚至觉得每日来监视我们是一种不得已的痛苦和职务。不但侦探们如此，就是那些“武装同志”也成了我们的朋友！\\n\\n但是他们对于职务还是不得不奉行故事的。他们不但整日里要陪着我们，而且整夜都要陪着我们，虽然他们是三四小时轮班一次的。在白天，只有侦探在我们的房里，到了夜里，大概因为露台上寒冷，所以连“武装同志”都跑到房里来坐到天亮。这倒也是我生平第一次的经验：躺在床上睡的时候，也有一个“文装同志”（侦探）和几个“武装同志”整夜睁着眼睛，一直“侍卫”到天亮！\\n\\n我们到了三四天之后，有一个夜里，局里的第三科科长请我们在客厅里个别谈了一次话，留下了笔录。他很客气地问了我们一番话。问和答的内容都和在法院里那一套差不多，不过特别问起我们和“火花读书会”有没有关系。这个名称我事前根本就没有听见过，关系更说不上了。公安局局长几于每天都来很客气地招呼一下。头几天准许接见，访问者非常的多，那个客厅常告客满，天天好像举行什么盛会似的。后来当局有些怕了，除家属外，禁止接见其他的亲友。看报也不自由，每天由他们送来一种他们认为无关重要的报，有的时候一种也没有。我们每天的时间却过得很快。上午七点半起身后，同在客厅里早操。有的打太极拳，有的柔软体操，各干各的。早餐后最重要的事是催报看，有时看得到，有时看不到。可以接见的时候，差不多一天到晚忙着见客。后来只许接见家属，除开六人“讨论会”或“谈话会”外，有的下围棋，有的下象棋，有的看书，便很快地过了一天。我们每天所最关心的消息是绥远抗战的情形怎么样了，其次便是关于我们自己何时释放出来的消息；有时听说他们要把我们送往莫干山去，有时听说他们要把我们送往杭州去，最后几天听到的消息是要把我们送往苏州高等法院去。'}}]"
      ]
     },
     "execution_count": 41,
     "metadata": {},
     "output_type": "execute_result"
    }
   ],
   "source": [
    "res_list"
   ]
  },
  {
   "cell_type": "code",
   "execution_count": null,
   "metadata": {},
   "outputs": [
    {
     "data": {
      "text/plain": [
       "CompletionResponse(text='```json\\n{\\n  \"is_about_ztaofen\": false,\\n  \"keywords\": []\\n}\\n```', additional_kwargs={'prompt_tokens': 195, 'completion_tokens': 22, 'total_tokens': 217}, raw=ChatCompletion(id='1e2fdbaa-77ec-4976-a477-653cd6bc2169', choices=[Choice(finish_reason='stop', index=0, logprobs=None, message=ChatCompletionMessage(content='```json\\n{\\n  \"is_about_ztaofen\": false,\\n  \"keywords\": []\\n}\\n```', refusal=None, role='assistant', annotations=None, audio=None, function_call=None, tool_calls=None))], created=1749988228, model='deepseek-chat', object='chat.completion', service_tier=None, system_fingerprint='fp_8802369eaa_prod0425fp8', usage=CompletionUsage(completion_tokens=22, prompt_tokens=195, total_tokens=217, completion_tokens_details=None, prompt_tokens_details=PromptTokensDetails(audio_tokens=None, cached_tokens=128), prompt_cache_hit_tokens=128, prompt_cache_miss_tokens=67)), logprobs=None, delta=None)"
      ]
     },
     "execution_count": 26,
     "metadata": {},
     "output_type": "execute_result"
    }
   ],
   "source": [
    "GET http://localhost:9200/my_index/_search?q=status:active&size=10&from=0&sort=timestamp:desc&pretty=true\n",
    "\n"
   ]
  },
  {
   "cell_type": "code",
   "execution_count": null,
   "metadata": {},
   "outputs": [],
   "source": []
  },
  {
   "cell_type": "code",
   "execution_count": 29,
   "metadata": {},
   "outputs": [
    {
     "ename": "UnsupportedProductError",
     "evalue": "The client noticed that the server is not Elasticsearch and we do not support this unknown product",
     "output_type": "error",
     "traceback": [
      "\u001b[31m---------------------------------------------------------------------------\u001b[39m",
      "\u001b[31mUnsupportedProductError\u001b[39m                   Traceback (most recent call last)",
      "\u001b[36mCell\u001b[39m\u001b[36m \u001b[39m\u001b[32mIn[29]\u001b[39m\u001b[32m, line 7\u001b[39m\n\u001b[32m      4\u001b[39m es = Elasticsearch(\u001b[33m\"\u001b[39m\u001b[33mhttp://localhost:9200\u001b[39m\u001b[33m\"\u001b[39m)\n\u001b[32m      6\u001b[39m \u001b[38;5;66;03m# 2. 执行查询\u001b[39;00m\n\u001b[32m----> \u001b[39m\u001b[32m7\u001b[39m response = \u001b[43mes\u001b[49m\u001b[43m.\u001b[49m\u001b[43msearch\u001b[49m\u001b[43m(\u001b[49m\n\u001b[32m      8\u001b[39m \u001b[43m    \u001b[49m\u001b[43mindex\u001b[49m\u001b[43m=\u001b[49m\u001b[33;43m\"\u001b[39;49m\u001b[33;43marticle\u001b[39;49m\u001b[33;43m\"\u001b[39;49m\u001b[43m,\u001b[49m\n\u001b[32m      9\u001b[39m \u001b[43m    \u001b[49m\u001b[43mbody\u001b[49m\u001b[43m=\u001b[49m\u001b[43m{\u001b[49m\n\u001b[32m     10\u001b[39m \u001b[43m        \u001b[49m\u001b[33;43m\"\u001b[39;49m\u001b[33;43mquery\u001b[39;49m\u001b[33;43m\"\u001b[39;49m\u001b[43m:\u001b[49m\u001b[43m \u001b[49m\u001b[43m{\u001b[49m\n\u001b[32m     11\u001b[39m \u001b[43m            \u001b[49m\u001b[33;43m\"\u001b[39;49m\u001b[33;43mterm\u001b[39;49m\u001b[33;43m\"\u001b[39;49m\u001b[43m:\u001b[49m\u001b[43m \u001b[49m\u001b[43m{\u001b[49m\u001b[33;43m\"\u001b[39;49m\u001b[33;43mbody\u001b[39;49m\u001b[33;43m\"\u001b[39;49m\u001b[43m:\u001b[49m\u001b[43m \u001b[49m\u001b[33;43m\"\u001b[39;49m\u001b[33;43m章\u001b[39;49m\u001b[33;43m\"\u001b[39;49m\u001b[43m}\u001b[49m\n\u001b[32m     12\u001b[39m \u001b[43m        \u001b[49m\u001b[43m}\u001b[49m\u001b[43m,\u001b[49m\n\u001b[32m     13\u001b[39m \u001b[43m        \u001b[49m\u001b[33;43m\"\u001b[39;49m\u001b[33;43msize\u001b[39;49m\u001b[33;43m\"\u001b[39;49m\u001b[43m:\u001b[49m\u001b[43m \u001b[49m\u001b[32;43m5\u001b[39;49m\n\u001b[32m     14\u001b[39m \u001b[43m    \u001b[49m\u001b[43m}\u001b[49m\n\u001b[32m     15\u001b[39m \u001b[43m)\u001b[49m\n\u001b[32m     17\u001b[39m \u001b[38;5;66;03m# 3. 处理结果\u001b[39;00m\n\u001b[32m     18\u001b[39m \u001b[38;5;28mprint\u001b[39m(\u001b[33mf\u001b[39m\u001b[33m\"\u001b[39m\u001b[33m总命中文档数：\u001b[39m\u001b[38;5;132;01m{\u001b[39;00mresponse[\u001b[33m'\u001b[39m\u001b[33mhits\u001b[39m\u001b[33m'\u001b[39m][\u001b[33m'\u001b[39m\u001b[33mtotal\u001b[39m\u001b[33m'\u001b[39m][\u001b[33m'\u001b[39m\u001b[33mvalue\u001b[39m\u001b[33m'\u001b[39m]\u001b[38;5;132;01m}\u001b[39;00m\u001b[33m\"\u001b[39m)\n",
      "\u001b[36mFile \u001b[39m\u001b[32md:\\python_envs\\ai_project\\Lib\\site-packages\\elasticsearch\\_sync\\client\\utils.py:415\u001b[39m, in \u001b[36m_rewrite_parameters.<locals>.wrapper.<locals>.wrapped\u001b[39m\u001b[34m(*args, **kwargs)\u001b[39m\n\u001b[32m    412\u001b[39m         \u001b[38;5;28;01mexcept\u001b[39;00m \u001b[38;5;167;01mKeyError\u001b[39;00m:\n\u001b[32m    413\u001b[39m             \u001b[38;5;28;01mpass\u001b[39;00m\n\u001b[32m--> \u001b[39m\u001b[32m415\u001b[39m \u001b[38;5;28;01mreturn\u001b[39;00m \u001b[43mapi\u001b[49m\u001b[43m(\u001b[49m\u001b[43m*\u001b[49m\u001b[43margs\u001b[49m\u001b[43m,\u001b[49m\u001b[43m \u001b[49m\u001b[43m*\u001b[49m\u001b[43m*\u001b[49m\u001b[43mkwargs\u001b[49m\u001b[43m)\u001b[49m\n",
      "\u001b[36mFile \u001b[39m\u001b[32md:\\python_envs\\ai_project\\Lib\\site-packages\\elasticsearch\\_sync\\client\\__init__.py:4916\u001b[39m, in \u001b[36mElasticsearch.search\u001b[39m\u001b[34m(self, index, aggregations, aggs, allow_no_indices, allow_partial_search_results, analyze_wildcard, analyzer, batched_reduce_size, ccs_minimize_roundtrips, collapse, default_operator, df, docvalue_fields, error_trace, expand_wildcards, explain, ext, fields, filter_path, force_synthetic_source, from_, highlight, human, ignore_throttled, ignore_unavailable, include_named_queries_score, indices_boost, knn, lenient, max_concurrent_shard_requests, min_score, pit, post_filter, pre_filter_shard_size, preference, pretty, profile, q, query, rank, request_cache, rescore, rest_total_hits_as_int, retriever, routing, runtime_mappings, script_fields, scroll, search_after, search_type, seq_no_primary_term, size, slice, sort, source, source_excludes, source_includes, stats, stored_fields, suggest, suggest_field, suggest_mode, suggest_size, suggest_text, terminate_after, timeout, track_scores, track_total_hits, typed_keys, version, body)\u001b[39m\n\u001b[32m   4914\u001b[39m \u001b[38;5;28;01mif\u001b[39;00m __body \u001b[38;5;129;01mis\u001b[39;00m \u001b[38;5;129;01mnot\u001b[39;00m \u001b[38;5;28;01mNone\u001b[39;00m:\n\u001b[32m   4915\u001b[39m     __headers[\u001b[33m\"\u001b[39m\u001b[33mcontent-type\u001b[39m\u001b[33m\"\u001b[39m] = \u001b[33m\"\u001b[39m\u001b[33mapplication/json\u001b[39m\u001b[33m\"\u001b[39m\n\u001b[32m-> \u001b[39m\u001b[32m4916\u001b[39m \u001b[38;5;28;01mreturn\u001b[39;00m \u001b[38;5;28;43mself\u001b[39;49m\u001b[43m.\u001b[49m\u001b[43mperform_request\u001b[49m\u001b[43m(\u001b[49m\u001b[43m  \u001b[49m\u001b[38;5;66;43;03m# type: ignore[return-value]\u001b[39;49;00m\n\u001b[32m   4917\u001b[39m \u001b[43m    \u001b[49m\u001b[33;43m\"\u001b[39;49m\u001b[33;43mPOST\u001b[39;49m\u001b[33;43m\"\u001b[39;49m\u001b[43m,\u001b[49m\n\u001b[32m   4918\u001b[39m \u001b[43m    \u001b[49m\u001b[43m__path\u001b[49m\u001b[43m,\u001b[49m\n\u001b[32m   4919\u001b[39m \u001b[43m    \u001b[49m\u001b[43mparams\u001b[49m\u001b[43m=\u001b[49m\u001b[43m__query\u001b[49m\u001b[43m,\u001b[49m\n\u001b[32m   4920\u001b[39m \u001b[43m    \u001b[49m\u001b[43mheaders\u001b[49m\u001b[43m=\u001b[49m\u001b[43m__headers\u001b[49m\u001b[43m,\u001b[49m\n\u001b[32m   4921\u001b[39m \u001b[43m    \u001b[49m\u001b[43mbody\u001b[49m\u001b[43m=\u001b[49m\u001b[43m__body\u001b[49m\u001b[43m,\u001b[49m\n\u001b[32m   4922\u001b[39m \u001b[43m    \u001b[49m\u001b[43mendpoint_id\u001b[49m\u001b[43m=\u001b[49m\u001b[33;43m\"\u001b[39;49m\u001b[33;43msearch\u001b[39;49m\u001b[33;43m\"\u001b[39;49m\u001b[43m,\u001b[49m\n\u001b[32m   4923\u001b[39m \u001b[43m    \u001b[49m\u001b[43mpath_parts\u001b[49m\u001b[43m=\u001b[49m\u001b[43m__path_parts\u001b[49m\u001b[43m,\u001b[49m\n\u001b[32m   4924\u001b[39m \u001b[43m\u001b[49m\u001b[43m)\u001b[49m\n",
      "\u001b[36mFile \u001b[39m\u001b[32md:\\python_envs\\ai_project\\Lib\\site-packages\\elasticsearch\\_sync\\client\\_base.py:271\u001b[39m, in \u001b[36mBaseClient.perform_request\u001b[39m\u001b[34m(self, method, path, params, headers, body, endpoint_id, path_parts)\u001b[39m\n\u001b[32m    255\u001b[39m \u001b[38;5;28;01mdef\u001b[39;00m\u001b[38;5;250m \u001b[39m\u001b[34mperform_request\u001b[39m(\n\u001b[32m    256\u001b[39m     \u001b[38;5;28mself\u001b[39m,\n\u001b[32m    257\u001b[39m     method: \u001b[38;5;28mstr\u001b[39m,\n\u001b[32m   (...)\u001b[39m\u001b[32m    264\u001b[39m     path_parts: Optional[Mapping[\u001b[38;5;28mstr\u001b[39m, Any]] = \u001b[38;5;28;01mNone\u001b[39;00m,\n\u001b[32m    265\u001b[39m ) -> ApiResponse[Any]:\n\u001b[32m    266\u001b[39m     \u001b[38;5;28;01mwith\u001b[39;00m \u001b[38;5;28mself\u001b[39m._otel.span(\n\u001b[32m    267\u001b[39m         method,\n\u001b[32m    268\u001b[39m         endpoint_id=endpoint_id,\n\u001b[32m    269\u001b[39m         path_parts=path_parts \u001b[38;5;129;01mor\u001b[39;00m {},\n\u001b[32m    270\u001b[39m     ) \u001b[38;5;28;01mas\u001b[39;00m otel_span:\n\u001b[32m--> \u001b[39m\u001b[32m271\u001b[39m         response = \u001b[38;5;28;43mself\u001b[39;49m\u001b[43m.\u001b[49m\u001b[43m_perform_request\u001b[49m\u001b[43m(\u001b[49m\n\u001b[32m    272\u001b[39m \u001b[43m            \u001b[49m\u001b[43mmethod\u001b[49m\u001b[43m,\u001b[49m\n\u001b[32m    273\u001b[39m \u001b[43m            \u001b[49m\u001b[43mpath\u001b[49m\u001b[43m,\u001b[49m\n\u001b[32m    274\u001b[39m \u001b[43m            \u001b[49m\u001b[43mparams\u001b[49m\u001b[43m=\u001b[49m\u001b[43mparams\u001b[49m\u001b[43m,\u001b[49m\n\u001b[32m    275\u001b[39m \u001b[43m            \u001b[49m\u001b[43mheaders\u001b[49m\u001b[43m=\u001b[49m\u001b[43mheaders\u001b[49m\u001b[43m,\u001b[49m\n\u001b[32m    276\u001b[39m \u001b[43m            \u001b[49m\u001b[43mbody\u001b[49m\u001b[43m=\u001b[49m\u001b[43mbody\u001b[49m\u001b[43m,\u001b[49m\n\u001b[32m    277\u001b[39m \u001b[43m            \u001b[49m\u001b[43motel_span\u001b[49m\u001b[43m=\u001b[49m\u001b[43motel_span\u001b[49m\u001b[43m,\u001b[49m\n\u001b[32m    278\u001b[39m \u001b[43m        \u001b[49m\u001b[43m)\u001b[49m\n\u001b[32m    279\u001b[39m         otel_span.set_elastic_cloud_metadata(response.meta.headers)\n\u001b[32m    280\u001b[39m         \u001b[38;5;28;01mreturn\u001b[39;00m response\n",
      "\u001b[36mFile \u001b[39m\u001b[32md:\\python_envs\\ai_project\\Lib\\site-packages\\elasticsearch\\_sync\\client\\_base.py:362\u001b[39m, in \u001b[36mBaseClient._perform_request\u001b[39m\u001b[34m(self, method, path, params, headers, body, otel_span)\u001b[39m\n\u001b[32m    360\u001b[39m     \u001b[38;5;66;03m# Otherwise we only raise an error on 2XX responses.\u001b[39;00m\n\u001b[32m    361\u001b[39m     \u001b[38;5;28;01melif\u001b[39;00m meta.status >= \u001b[32m200\u001b[39m \u001b[38;5;129;01mand\u001b[39;00m meta.status < \u001b[32m300\u001b[39m:\n\u001b[32m--> \u001b[39m\u001b[32m362\u001b[39m         \u001b[38;5;28;01mraise\u001b[39;00m UnsupportedProductError(\n\u001b[32m    363\u001b[39m             message=(\n\u001b[32m    364\u001b[39m                 \u001b[33m\"\u001b[39m\u001b[33mThe client noticed that the server is not Elasticsearch \u001b[39m\u001b[33m\"\u001b[39m\n\u001b[32m    365\u001b[39m                 \u001b[33m\"\u001b[39m\u001b[33mand we do not support this unknown product\u001b[39m\u001b[33m\"\u001b[39m\n\u001b[32m    366\u001b[39m             ),\n\u001b[32m    367\u001b[39m             meta=meta,\n\u001b[32m    368\u001b[39m             body=resp_body,\n\u001b[32m    369\u001b[39m         )\n\u001b[32m    371\u001b[39m \u001b[38;5;66;03m# 'Warning' headers should be reraised as 'ElasticsearchWarning'\u001b[39;00m\n\u001b[32m    372\u001b[39m \u001b[38;5;28;01mif\u001b[39;00m \u001b[33m\"\u001b[39m\u001b[33mwarning\u001b[39m\u001b[33m\"\u001b[39m \u001b[38;5;129;01min\u001b[39;00m meta.headers:\n",
      "\u001b[31mUnsupportedProductError\u001b[39m: The client noticed that the server is not Elasticsearch and we do not support this unknown product"
     ]
    }
   ],
   "source": [
    "from elasticsearch import Elasticsearch, helpers\n",
    "\n",
    "# 1. 连接到本地 ES\n",
    "es = Elasticsearch(\"http://localhost:9200\")\n",
    "\n",
    "# 2. 执行查询\n",
    "response = es.search(\n",
    "    index=\"article\",\n",
    "    body={\n",
    "        \"query\": {\n",
    "            \"term\": {\"body\": \"章\"}\n",
    "        },\n",
    "        \"size\": 5\n",
    "    }\n",
    ")\n",
    "\n",
    "# 3. 处理结果\n",
    "print(f\"总命中文档数：{response['hits']['total']['value']}\")\n",
    "for hit in response[\"hits\"][\"hits\"]:\n",
    "    print(hit[\"_source\"])\n"
   ]
  },
  {
   "cell_type": "code",
   "execution_count": 1,
   "metadata": {},
   "outputs": [
    {
     "name": "stderr",
     "output_type": "stream",
     "text": [
      "d:\\python_envs\\ai_project\\Lib\\site-packages\\tqdm\\auto.py:21: TqdmWarning: IProgress not found. Please update jupyter and ipywidgets. See https://ipywidgets.readthedocs.io/en/stable/user_install.html\n",
      "  from .autonotebook import tqdm as notebook_tqdm\n"
     ]
    },
    {
     "name": "stdout",
     "output_type": "stream",
     "text": [
      "an_kw {'is_about_ztaofen': True, 'keywords': ['邹韬奋', '生活', '关系']}\n",
      "*****************\n",
      "[['I.①韬…Ⅱ.①生…Ⅲ.①邹韬奋（1895\\\\~1944） 传记IV. $\\\\textcircled{1}$ K825.42', '一九四四年七月二十四日早晨七时二十分，伟大的爱国者、民主战士邹韬奋同志与世长辞。终年四十九岁。这是他在上海医院的最后遗容。'], ['在市人路旅合障  \\n丁行，理有用， O 餐理理與實践 韬奋以他一贯的真A 热情，将此信在《生活星  \\n5 刊》上全文刊载。在编者的话中，对刘少奇同志的主张表示福 热烈赞同，并补充了自己的看生 法。5  \\n健 人民陣線與關門主羲 信滋A ： 英文禁 楼 中 前  \\nS仕 只有门 有心理留的人们，今日 老淀今 （一）在合歌路之下， 国公武间合股按间，在费询过 者先生 開於救國聯合戟線的畿個疑問  \\n饰 面  \\n不分的的 福 林且必组估 中共 合', '一九三六年六月十九日刘少奇同志给韬奋写去第二封长信，表达了对创刊十二天的《生活日报》的肯定和希望，并着重阐述了人民阵线与关门主义的问题。', '《生活日报》在香港出版，影响只能偏于东南一隅，且交通不便，不利于全国性的宣传。国内局势的变化，救亡运动的发展也很需要韬奋回到上海工作。他接受党组织的建议，在七月三十一日自动结束《生活日报》，拟迁往上海出版。国民党政府百般阻挠，不允登记，初议未能实现。', '《生活星期刊》第十九号上刊登的韬奋的《“中国与中国人”导言》一文手稿。', '《生活星期刊》原是《生活日报》的星期日增刊。一九三六年八月，韬奋将《生活星期增刊》改名《生活星期刊》迁至上海出版。为了便于读者保存，将原来的八开大本改为十六开本。这是《生活星期刊》第十二号上刊登的韬奋撰写的《不是创刊词》。', '韬奋出身的时代，正是封建专制主义统治我国两千多年，最后一个封建王朝行将崩溃的前夜；也是戊戌政变失败以后，资产阶级民主主义启蒙思想在知识分子阶层中广泛传播的时候。韬奋出身于一个没落的封建官僚大家庭，和他所有同时代人一样，幼年接受的是家塾式的封建教育，辛亥革命以后，则是那个时代特有的改良教育；最后，在大学里接受的是典型的西方资产阶级教育。在中学和大学时期，韬奋完全靠自己的勤勉，过半工半读的生活，取得一些微薄的收入，使求学不致中辍。', '一九三二年，韬奋以实际行动参加了中国民权保障同盟。一九三三年六月，民权保障同盟总干事杨杏佛被国民党特务暗杀，韬奋被列入黑名单，因而不得不离开祖国到海外作第一次流亡。是年十二月，韬奋主编了七年多的《生活》周刊在国民党反动派高压下不得不被迫', '韬奋在海外两年的流亡生活，通过实地的考察和潜心的钻研，不仅大大开拓了他的视野，而且清楚地认识了中国的前途和命运，更加坚定了斗争的决心。一九三五年八月他回国以后，就以新的战斗姿态、更加旺盛的精力和满腔热忱，积极投入为争取民族解放和民主自由的斗争。他在斗争中经受了锻炼，接受了中国共产党的政策和马克思列宁主义的思想，政治觉悟迅速提高。在革命的道路上，他昂首阔步，不顾个人安危得失，不计任何艰难险阻，顽强斗争，至死不渝。', '韬奋为中国知识分子树立了一个光辉的楷模。通向革命真理的道路，对每一个人来说，是具体的，也是曲折的。韬奋的可贵处正在于他通过自己的实践和探索，一旦发现并且认识了革命的真理，能够真正做到百折不挠地为之奋斗终身。韬奋的可贵之处，还在于他对群众的真诚热情和极端负责，因而获得群众对他的高度信任和支持。韬奋的事业一他主编的《生活》周刊，他创办的生活书店之所以能在黑暗的旧中国不但站住了脚，而且在国民党统治区还能发展成为对全中国有巨大影响的革命文化事业的重要组成部分，离开群众的信任和支持，是不可想像的。因此，就这一点来说，韬奋的事业也就是人民的事业，是并不过分的。', '韬奋生长在一个没落的封建大家庭里，他的父亲有十来个兄弟，全家有二三十个孩子，他亲身感受到封建大家庭的弊端。在他早期主编的《生活》周刊上，竭力反对这种大家庭制度。', '我是来自中国的您的一位敬基者，在这个国家里，为了群众的利益正进行着一次真正的革命。在我讲明写这封信的目的之前，我想还是先筒单地介绍一下自己在过去的8年当中，我担任（生活周刊》的主编，这个刊物的目的，是在中国鼓吹社会主义，同情中国的苏维运动，但是它必频在各种伪装的方法之下进行自己的工作，因为它是在“白色恐怖”最厉害的上海出版的。一年前我离开了中，一直在歌州各地旅行，本月20日我抵达莫斯科，使我特别感到兴趣和异常快乐的，就是能访间第一个社会主义的国家。', '韬奋出国，《生活》周刊由胡愈之等负责。韬奋预料到《生活》周刊会被封禁，在出国前一九三二年十月间预先写好一篇《与读者诸君告别》的文章，准备在被封闭的最后一期《生活》上发表，文章表示“宁为保全人格报格而决不为不义屈”的决心。', '《生活》周刊出版至第八卷第五十期，果然被国民党反动政府查禁。这是最后一期的《生活》周刊。', '一九三三年七月至一九三五年八月，韬奋考察了英、美、法、德、意和苏联等国，进一步认识到社会主义的优越性和资本主义的腐朽性。尤其是在美国，看到了劳动人民在资本主义制度下的生活和斗争，更明确了只有社会主义能够救中国。', '一九三三年七月十四日，韬奋被迫出国，开始他的第一次流亡生活。这是韬奋登上意轮佛尔第号时摄的照片。', '一九三六年十月，我国民族民主革命的伟大斗士鲁迅先生逝世，韬奋参加了葬仪，并发表演说。在《生活星期刊》第二十一号上，韬奋写的《笔谈》中说：“我觉得鲁迅先生留给我们的最可宝贵的遗产，是他那样始终不懈的积极的斗争的精神。他是一位最早反对封建的努力革命的老将。无论怎样的穷困，都屈服不了他；无论怎样的压迫，都屈服不了他。我以为我们后死的斗争者，应该承袭鲁迅先生的积极的斗争精神，为民族解放的伟大而艰苦的工作，努力前进。”', '《生活星期刊》第二十六号在十一月二十九日出版时，韬奋已经被国民党反动派逮捕。《生活星期刊》改由金仲华负责，出版了两期，又被迫停刊。', '韬奋自一九三五年从欧美回国后，和中国共产党发生了经常而密切的联系。他所创办的《大众生活》《生活日报》及《生活星期刊》等，比之他前期主办的《生活》周刊，在政治思想上有了极大的进步。这些报刊比较系统深刻地宣传了党的抗日民族统一战线政策，同时还向人民群众进行了新的启蒙教育，深入浅出地宣传了马克思主义的哲学思想。这时他虽然不是共产党员，却热诚拥护并积极宣传党的主张，努力使党的主张指导自己的实践。', '“七君子”都是有名望有影响的人士，他们的被捕，引起社会巨大反响。国内外各界人士热烈声援，迫使国民党政府对他们在狱中的生活不得不稍为“放宽”，以示优待。他们七人除史良单独羁押在女看守所外，韬奋等六人被关押在一个牢房里。沈钧儒在他们中年龄最大，大家公推他为“家长”。他们六人组成一个小集体，自已安排生活，患难相共，采取一致的主张和行动。', '西安事变和平解决，国共第二次合作实现。一九三七年七月三十一日，他们终于获得释放，结束了为时二百四十三天的牢狱生活。', '《生活》周刊所以能发展到后来的规模，其中固然有着好多的因素，但是可以尽量运用本刊自身在经济上的收入一尽量运用这收入于自身事业的扩充与充实一—这也是很重要的一点。关于这一点，我在上次已经略为谈过了。所以能办到这一点，我们不得不感谢职教社在经济上的不干涉。但是还有一件更重要的事情，我尤其不得不感谢职教社的，是《生活》周刊经我接办了以后，不但由我全权主持，而且随我个人思想的进展而进展，职教社一点也不加以干涉。当时的《生活》周刊还是附属于职教社的，职教社如要加以干涉，在权力上是完全可以做的，我的惟一办法只有以去就争的一途，争不过，只有滚蛋而已。但是职教社诸先生对我始终信任，始终宽容，始终不加以丝毫的干涉。就这一点说，《生活》周刊对于社会如果不无一些贡献的话，我不敢居功，我应该归功于职教社当局的诸先生。', '《生活》周刊初期的内容偏重于个人的修养问题，这还不出于教育的范围；同时并注意于职业修养的商讨，这也还算不出于职业指导或职业教育的范围。在这个最初的倾向之下，这周刊附属于职教社，还算是过得去了。也许是由于我的个性的倾向和一般读者的要求，《生活》周刊渐渐转变为主持正义的舆论机关，对于黑暗势力不免要迎面痛击；虽则我们自始就不注重于个人，只重于严厉评论已公开的事实，但是事实是人做出来的，而且往往是有势力的人做出来的；因严厉评论事实而开罪和事实有关的个人，这是难于避免的。职教社的主要职责是在提倡职业教育，本来是无须卷入这种漩涡里面去的，虽职教社诸先生待我仍然很好，我自己却开始感到不安了。不但如此，《生活》周刊既一天天和社会的现实发生着密切的联系，社会的改造到了现阶段又决不能从个人主义做出发点；如和整个社会的改造脱离关系而斤斤较量个人的问题，这条路是走不通的。于是《生活》周刊应着时代的要求，渐渐注意于社会的问题和政治的问题，渐渐由个人出发点而转到集体的出发点了。我个人是在且做且学，且学且做，做到这里，学到这里，除在前进的书报上求锁钥外，无时不皇皇然请益于师友，商讨于同志，后半期的《生活》周刊的新的进展也渐渐开始了。研究社会问题和政治问题，多少是含着冲锋性的，职教社显然也无须卷入这种漩涡里面去，我的不安更加甚了。幸而职教社诸先生深知这个周刊在社会上确有它的效用，不妨让它分道扬镳向前干去，允许它独立，由生活周刊社的同人组成合作社，继续努力。在这种地方，我们不得不敬佩职教社诸先生眼光的远大、识见的超卓、态度的光明。', '生活周刊社以及由它所脱胎的文化机关，都是合作社的性质；关于这一点，我在《萍踪寄语》初集里面也曾经略有说明，在这里不想重述了。回想我和几位“患难同事”开始为文化事业努力到现在，我们的确只是以有机会为社会干些有意义的事为快慰，从没有想要从这里面取得什么个人的私利。我所以要顺便提出这一点，是因为社会上有些人的观念，看到什么事业办得似乎有些像样，便想到办的人一定发了什么财！有些人甚至看得眼红，或更有其他不可告人的卑鄙心理，硬说你已成了“资本家”，或诬蔑你括了多少钱！他们不管在我们的合作社里，社员更大的股款不得过二千元，到了二千元就根本没有任何利息可拿，五百元以上的股本所得的利息（倘若有的话)，比二百五十元以下的股本所得的要少一倍。这是可以造成什么“资本家”或括钱的机关吗？我和一班共同努力于文化事业的朋友们，苦干了十几年，大家还是靠薪水口养家。我们并不觉得什么不满意，我们的兴趣都在文化事业的本身。像我这样苦干了十几年，所以能得到许多朋友们不顾艰难地共同努力，所以能够始终得到许多共同努力的朋友们的信任，最大的原因还是因为我始终未曾为着自己打算，始终未曾梦想替自己括一些什么。不但我这样，凡是和我共同努力于文化事业的朋友们都是这样的。'], ['我在准备做工程师的学校里面——虽则还在中学一—并不专心于准备做工程师，却分着大部分的心力看这样的书，翻那样的报，和准备做工程师的工作都没有什么直接的关系，这实在不足为训。就职业指导的原则说，应该赶紧设法掉换学校才是，可是我当时在这方面是个“阿木林”，想都没有想到，还是在暗中摸索着。', '但是有一点却在小学的最后一年就在心里决定了的，那就是自己宜于做一个新闻记者。在那个时候，我对于《时报》上的远生的《北京》通讯着了迷。每次到阅报室里去看报，先要注意《时报》上有没有登着远生的特约通讯。我特别喜欢看他的通讯，有两个理由：第一是他的探访新闻的能力实在好，他每遇一件要事，都能直接由那个有关系的机关，尤其是由那个有关系的政治上的重要人物，探得详细正确的内部的情形；第二是他写得实在好！所以好，因为流利、畅达、爽快、诚恳、幽默。他所写的内容和所用的写的技术，都使当时的我佩服得很，常常羨慕他，希望自己将来也能做成那样一个新闻记者。想诸君也许还记得，远生就是名记者黄远庸先生的笔名。我当时对于他的为人怎样，完全不知道，但是在文字上认识了他，好像他就是我的一个极要好的朋友。后来他因反对袁世凯称帝而冒险南下，我已在中学里，对于他的安危，简直时刻担心着，甚至有好几夜为着这件事情睡不着。他离开上海赴美国，途中还写了好几篇短小精悍，充满着朝气的通讯登在《申报》上，是我生平最倾倒的佳作，我正切盼着他能继续写下去，不料他到旧金山的时候竟被暗杀，真使我悒郁不欢，好像死了我自己的一个好朋友。', '其实也只有《甲寅杂志》能使秋桐令人敬重，后来秋桐反对“五四”运动的新文化，又办什么《甲寅周刊》，同样地用秋桐署名的文字，看了便令人作三日呕！关于这一点，我也许可以捏造一个原则，做文章和做人实在有着密切的关系。做了一个要不得的人，原来能写很好文章的，到了那时写出来的也要变成要不得的东西。这也许是因为好的文章不仅是有着好的写的技术，同时也离不开好的写的内容。而且还有一点似乎奇特而却也是事实的：那便是内容的要不得往往也要影响到写的技术，因为只有理直气壮的内容才写得好，否则扭扭捏捏，不能遮掩它的丑态！', '我们到了三四天之后，有一个夜里，局里的第三科科长请我们在客厅里个别谈了一次话，留下了笔录。他很客气地问了我们一番话。问和答的内容都和在法院里那一套差不多，不过特别问起我们和“火花读书会”有没有关系。这个名称我事前根本就没有听见过，关系更说不上了。公安局局长几于每天都来很客气地招呼一下。头几天准许接见，访问者非常的多，那个客厅常告客满，天天好像举行什么盛会似的。后来当局有些怕了，除家属外，禁止接见其他的亲友。看报也不自由，每天由他们送来一种他们认为无关重要的报，有的时候一种也没有。我们每天的时间却过得很快。上午七点半起身后，同在客厅里早操。有的打太极拳，有的柔软体操，各干各的。早餐后最重要的事是催报看，有时看得到，有时看不到。可以接见的时候，差不多一天到晚忙着见客。后来只许接见家属，除开六人“讨论会”或“谈话会”外，有的下围棋，有的下象棋，有的看书，便很快地过了一天。我们每天所最关心的消息是绥远抗战的情形怎么样了，其次便是关于我们自己何时释放出来的消息；有时听说他们要把我们送往莫干山去，有时听说他们要把我们送往杭州去，最后几天听到的消息是要把我们送往苏州高等法院去。', '我这七八年的英文教员都是兼职，还有一半的时间仍在职教社里做我的编辑的工作。所以自我出了学校以来，除最初的半年时间做着“有名无实”的英文秘书之外，可以说一直到现在没有和编辑的生涯间断过关系。编辑的职务是最合于我的个性，关于这方面，以后再谈，现在请再谈谈关于教员的职务。做教员，在我也可说是一种有趣味的工作。我尤其感觉愉快的，是可由这样和天真的青年接触。我觉得青年都是可爱的，虽则有时也有一两个使你感到不舒服，但是仔细想来，他自身也有特殊的原因而不能任咎的，像我将要谈到的一个低能学生，便可做个例证。讲到大多数的青年学生，只须教员教得认真，教得好，赏罚公平，青年学生没有不敬爱教员的。', '做教员在我既是一种有趣味的工作，我为什么后来不干呢？这里面至少也有两个理由。一个是我的性太急，看见学生有时答不出，或是错误多了一些，我很容易生气，对于这种学生，我易于疾言厉色，似乎予人以难堪，事后往往懊悔，第二次遇着同样情形时仍不免再犯这个毛病；这样容易生气不但觉得对不住我的学生，对于我自己的健康也有损害。我觉得忍耐性也是做教师的应有的特性，我的忍耐性一—至少在教学方面一—太缺乏，因此我觉得自己还不十分适宜于做教员。第二个原因是：因为经济的关系，教员的钟点太多，夜里缺乏自己看书的时间。我每日上半天要教三四时的功课，这还不打紧，但课外应该为着学生做的工作还是很多，修改考卷和文卷就要费了很多的时间，都不得不在夜里做。这样一来，除了全天的紧张工作外，夜里的时间也是不自由的，自己看书固然没有了时间，一遇着有应酬，或其他的临时事情，往往不得不“开夜车”。因为有着这两个缺憾，所以我不得不抛弃教员的生活。', '当然，我不是想抛弃就立刻抛弃，因为这不是我的经济能力所许。我一面要留心更适宜的机会，一面对于我的职责仍然是要很认真地做去的。因为我对于我的职责要认真，所以我对于我的职权也不得不认真。关于这一点，我还记得有一件事可以谈谈。我有一年在所教的商科三年级里遇着一个低能学生。他在别科的成绩怎样，我不知道，但至少关于英文这一科，他所表现的是低能儿。我平日对于学生的成绩都有很详细的记录。平日记录好的学生，在大考的时候尽可放心，因为就是在大考的时候不幸考得不好，无论如何也不会不及格的。而且我对于分数的计算也不愿斤斤较量，差几分分数我都认为应该通融，因为分数这东西本来只能表现个大概。这个学生的平日成绩总结算起来不过十分（六十分及格)，大考的成绩不过五分，这相差实在是太远了。这样的学生怎样能升到三年级，在我已莫名其妙。后来仔细打听一下，才知道他的父亲是有着相当大势力的。他做着某教育会的干事，和这个学校的董事们都有着密切的关系！但是我做的是英文教员，所知道的是英文的成绩怎样，不知道学生背后的“势力”的大小。他补考后仍得到不上十分的成绩。我对此事的办法是决定他不能升级。这个决定居然引起了一个轩然大波！这位自信有势力的“父亲”跑到校长那里去大办交涉，他的理由是我对他的儿子有成见。我把平日的记录给校长看，校长没有话说。我并向校长声明，如果这样的学生可以升级，我要立刻提出辞职不干，请他另请高明。校长被他缠绕得没有办法，老实说这是某某（指我）的职权，你可以和他去交涉。他不敢来和我交涉，却直接跑到两个校董那里去糟蹋我，幸而那两位校董平日知道我在校里教学的情形，竟给他一顿教训！我倒不怪这个学生，因为他并非不肯用功，无奈他的那个“父亲”给他一种先天低能的“礼物”，这并不是他自己所能负责的。后来听说他的那个很有钱的“父亲”，已出巨资送他的这个儿子出洋留学去了！', '根据这个观点，我一方面愿竭尽我的绵薄，追随许多救国的同志们，共同努力于整个动向和整个计划的商讨和遵守；一方面愿在这整个动向和计划之下，努力于我十几年来所辛勤从事的文化事业。我深信一个人的工作的效率，同他的特长和经验有着密切的关系：如能善用他的特长和经验，比较地容易获得事半功倍的效果；如抛弃了他自己的特长和经验而另外去干别的事情—与原有的特长和经验不相干的事情—那在个人是自暴自弃，在国家和社会也是一种损失。这当然不是无条件地反对改业。有些人觉察到自己的能力更适宜于某种新的事业或职务，于是抛弃原有的事业或职务，这是对的。我们各人都该求得最大的贡献。所谓“最大的贡献”，我的意思并不是指什么夸大狂的心理，不是说要和什么别人比大小，却是说自己对自己比。你自己能善用自己的能力和适于发展自己能力的环境，这样的贡献，比不能善用自己的能力和适于发展自己能力的环境，当然是要大些；你如能尽量善用自己的能力和适于发展自己能力的环境，那在你便是最大的贡献了。各人的能力虽有大小，但是依这样的意义说起来，无论何人，除了有害人群的事业外（倘若这可称为事业)，各人都可有各人的最大的贡献。竭智尽力求得这种“最大的贡献”：这是人人对于自己对于社会应负的责任。', '我常常督促自己担负起这个责任，常常提醒自己不要忘却这个责任。我曾经告诉过诸君，我在小学里就想要做个新闻记者，二十年来虽因处境的困苦艰难，在求学和就业方面往往不得不“走曲线”，但是平日的修养训练以及十几年来所聚精会神的工作，都和新闻事业脱离不了关系一虽则其间办周刊的时间较长，办日报的时间较短。我在二十年前想要做个新闻记者，在今日要做的还是个新闻记者一不过意识要比二十年前明确些，要在“新闻记者”这个名词上面，加上“永远立于大众立场的”一个形容词。我所仅有的一点微薄的能力，只是提着这枝秃笔和黑暗势力作坚苦的抗斗，为民族和大众的光明前途尽一部分的推动工作。我要肩着这枝秃笔，挥洒我的热血，倾献我的精诚，追随为民族解放和大众自由而冲锋陷阵的战士们，“冒着敌人的炮火前进”！', '上次所谈过的直接教授法，只是对初学而言，略进一步，最重要的事情是要训练学生用英文字典。最好是要用英文注解的字典，至少也要用中英文注解的字典，这样不但可以得到正确的意义，而且也可于无意中多学得几个生字。况且教师用的既是直接教授法，在课堂里是不许用中文回答，学生亦非用英文注解的字典不可。用英文字典的方法很简单（对于注音的符号和重读的方法要叫学生注意)，重要的是在用得熟，用得惯；要能用得熟用得惯，全在乎多“用”。要使学生勤用字典，只须使学生养成自己预备功课的习惯。像那样用中文讲解的老古板教授法，学生便无须勤用英文字典了。我们要知道，教师的重要责任是要训练学生养成独立研究的精神和能力，并不是仅仅在课堂里教了一些课本上的东西就算了事的。就英文一科而说，要训练学生养成独立研究英文的精神和能力，勤用英文字典的习惯是绝对必要的。所以英文教师应于每次上课的时候，指定下一次的功课；开始的时候，所指定的页数可以少一些，渐渐地可以增加。学生在下次上课以前，自己就要利用字典把所指定的功课预备好。他们在预备的时候，不但要把每个生字的意义弄明白，而且要把全课的意思弄清楚一要弄到上课的时候，关着书能用英语把要点说出来。这和训练看的能力是很有关系的。依我教学的经验，最初就用直接教授法教的学生，训练他们这样自己预备书，可以毫无困难。如果学生在开始时就受了用中文讲解的遗毒，这方法便比较地有些困难，用的时候便不可过于求速；例如在开始的时候，所指定的功课页数要特别的少，慢慢地一点点增加起来，否则使学生过于感觉困难，反而容易破坏他们对于研究的兴趣，消失他们前进的勇气。', '除考问之外，还要匀出一部分时间，叫几个学生各读一段，听听他们的读法对不对；并叫几个学生分析一段书的文法结构。我教英文，对于文法的钟点是向来主张要减少的，特别注意在读本中研究文法。这样研究文法，才是活的实际的研究法。学生在读物中能够明白每句每段的结构，文法上的死法则不记得，那是毫无关系的；而且有许多结构上的巧妙，不是文法书所能包括，也只有在读物中才能看到。', '除上面所说的几点外，还有一点也很重要：教师每一次要把书里的最有用的生字和成语特别指出，用笔划出来，并叫学生也要用笔划出来。这事的注意，对于学生的英文生字和成语的增富，有着很大的关系。有许多学生在写作的时候不是没有意思要发表，却是因为生字和成语不够用。这种困难的克服，没有别的什么巧妙，惟一的办法，只有努力“积蓄”最有用的生字和成语。（字句和段落的结构法，同时也要顾到。）“积蓄”不能仅由硬记隔离开的生字和成语，尤其重要的是要彻底明白怎样运用的方法，所以必须注意研究上下文的意思。学生知道运用这种研究法之后，他们即在自看课外的读物，重复几次遇着同样或同类的成语，也知道特别注意，把它“积蓄”起来。']]\n"
     ]
    }
   ],
   "source": [
    "from util.chat_util import initialize_llamaindex,get_user_keywords,get_es_docs,find_paragraphs_with_keyword\n",
    "from util import db_util\n",
    "from util.db_util import execute_query  #连接pg数据库并进行查询\n",
    "\n",
    "#启动es,默认9200端口\n",
    "#cd D:\\elastic\\elasticsearch-9.0.2\\bin\n",
    "#.\\elasticsearch.bat\n",
    "\n",
    "# cd D:\\develop\\elasticSearch\\logstash-9.0.2\\bin\n",
    "# # 前台启动并指定配置文件\n",
    "# .\\logstash.bat -f \"D:\\\\develop\\\\elasticSearch\\\\logstash-9.0.2\\\\pg2es.conf\" 用绝对路径写conf\n",
    "#或者 .\\logstash.bat -f \"../pg2es.conf\" -w 设置守护进程\n",
    "\n",
    "\n",
    "#初始化设置llm和embed模型\n",
    "#llm,embed_model = initialize_llamaindex(deepseekapi=\"sk-5f2880952eb543a59d02d1015dcdd8e1\")\n",
    "#载入两个索引\n",
    "# summary_index,simple_index = db_util.load_indexes()\n",
    "# res = db_util.get_final_nodes_text(summary_index,simple_index,user_query=\"马桶在哪里？\")\n",
    "# user_keywords = get_user_keywords()\n",
    "# print(user_keywords)\n",
    "# print('res',res)\n",
    "chat_history=[\n",
    "            {\"role\": \"assistant\", \"content\": \"你好\"},\n",
    "            {\"role\": \"user\", \"content\": \"邹韬奋是谁？\"},\n",
    "            {\"role\": \"assistant\", \"content\": \"他是一个伟大的作家\"},\n",
    "            {\"role\": \"user\", \"content\": \"邹韬奋和生活是什么关系？\"},\n",
    "\n",
    "        ]\n",
    "an_kw = get_user_keywords(chat_history)\n",
    "print('an_kw',an_kw)\n",
    "print('*****************')\n",
    "if an_kw['is_about_ztaofen']:\n",
    "    kw_paragraphs_list = []  # 期望得到: [ [邹韬奋的段落], [生活的段落] ]\n",
    "    \n",
    "    for kw in an_kw['keywords']:\n",
    "        docs = get_es_docs(kw)\n",
    "        \n",
    "        # 这是为当前关键词找到的所有段落\n",
    "        paragraphs_for_this_kw = [] \n",
    "        \n",
    "        for doc in docs:\n",
    "            paragraphs = find_paragraphs_with_keyword(doc, kw,n=5)\n",
    "            #不是append，因此不会产生嵌套列表\n",
    "            paragraphs_for_this_kw.extend(paragraphs)\n",
    "            \n",
    "        # 修正：将当前关键词的段落列表添加到最终结果中\n",
    "        kw_paragraphs_list.append(paragraphs_for_this_kw)\n",
    "        \n",
    "    print(kw_paragraphs_list)\n"
   ]
  },
  {
   "cell_type": "code",
   "execution_count": 4,
   "metadata": {},
   "outputs": [
    {
     "data": {
      "text/plain": [
       "23"
      ]
     },
     "execution_count": 4,
     "metadata": {},
     "output_type": "execute_result"
    }
   ],
   "source": [
    "len(kw_paragraphs_list[1])"
   ]
  },
  {
   "cell_type": "code",
   "execution_count": 25,
   "metadata": {},
   "outputs": [
    {
     "data": {
      "text/plain": [
       "'一九三六年六月十九日刘少奇同志给韬奋写去第二封长信，表达了对创刊十二天的《生活日报》的肯定和希望，并着重阐述了人民阵线与关门主义的问题。'"
      ]
     },
     "execution_count": 25,
     "metadata": {},
     "output_type": "execute_result"
    }
   ],
   "source": [
    "kw_paragraphs_list[0][1]"
   ]
  },
  {
   "cell_type": "code",
   "execution_count": 8,
   "metadata": {},
   "outputs": [
    {
     "data": {
      "text/plain": [
       "['aa', 'aa']"
      ]
     },
     "execution_count": 8,
     "metadata": {},
     "output_type": "execute_result"
    }
   ],
   "source": [
    "find_paragraphs_with_keyword(\"aa\\n\\nbb\\n\\ncc\\n\\naa\\n\\n\",\"aa\")"
   ]
  },
  {
   "cell_type": "code",
   "execution_count": 50,
   "metadata": {},
   "outputs": [
    {
     "data": {
      "text/plain": [
       "[]"
      ]
     },
     "execution_count": 50,
     "metadata": {},
     "output_type": "execute_result"
    }
   ],
   "source": [
    "get_es_docs('公安')"
   ]
  },
  {
   "cell_type": "code",
   "execution_count": 51,
   "metadata": {},
   "outputs": [
    {
     "name": "stdout",
     "output_type": "stream",
     "text": [
      "params {'q': 'body:公安', 'size': '5', 'pretty': 'true'}\n"
     ]
    }
   ],
   "source": [
    "import requests\n",
    "kw='公安'\n",
    "k=5\n",
    "url = \"http://localhost:9200/article/_search\"\n",
    "params = {\n",
    "    \"q\": \"body:{kw}\".format(kw=kw),\n",
    "    \"size\": \"{k}\".format(k=k),\n",
    "    \"pretty\": \"true\"\n",
    "}\n",
    "# 发送 GET 请求\n",
    "response = requests.get(url, params=params)\n",
    "print('params',params)"
   ]
  },
  {
   "cell_type": "code",
   "execution_count": 52,
   "metadata": {},
   "outputs": [
    {
     "data": {
      "text/plain": [
       "[{'_index': 'article',\n",
       "  '_type': '_doc',\n",
       "  '_id': 'gDZ_c5cB4fdKsnzVIlKV',\n",
       "  '_score': 2.3247056,\n",
       "  '_source': {'@version': '1',\n",
       "   'updated_at': '2025-06-15T11:20:51.638568Z',\n",
       "   'id': 83,\n",
       "   '@timestamp': '2025-06-15T12:10:00.883208400Z',\n",
       "   'title': '四〇 押在公安局.txt',\n",
       "   'body': '在上海地方法院的看守所里只关了一天一夜，廿七日下午六点钟左右，又像老鼠被猫衔在嘴里奔窜着，由地方法院转解到公安局里去。我们先由看守所里被提出来，重新光顾待审室一次，不过这时我和章先生两个人同被押进一间待审室里去等候着。这时的法警对我们比初来的那天客气得多，大概他们都知道了我们是为着参加救国运动才到这里来的。等一会儿，我们先后被传审，检察官虽换了一个，但是问答内容还是上次那同样的一套。不过这次那位审问我们的检察官却充满着同情和歉意，拿出公安局的公文给我们看，里面说要移提我们去和沈先生等四位“对质”。检察官宣布之后，我们也没有什么话说，走出法庭后，就有公安局派来的人员迎上来押着出去。法院里有几个职员赶出来和我们握手送别，我们又觉到爱国的同胞们随处给予我们的同情和厚意的可感。我无意中和章先生说出了这一句话，在旁边同走的那位公安局的科员插着说：“这是各位先生人格的感动。”我说：“这倒不是我们几个个人的人格问题，却是有许多同胞不愿做亡国奴的心理的流露！”\\n\\n我们随着一群公安局的侦探、警察和科员，拥出了法院的门口，分乘汽\\n\\n车直驶公安局而去。\\n\\n这时沈先生等四位已押在公安局三四天了，我们一进公安局，就被引到他们的房间里去。我们在患难中相见畅谈，当然是格外快慰的，彼此诉说了一番经过的情形，又说了不少互相安慰的话语。我看看他们所住的房间还算清洁，是在二层楼上，前面有个露台，露台的前面是大天井，立在露台上可以看着公安局的大门；房的后面靠壁处并列排着四个小铁床，便是他们四位的床铺；这一列铁床的前面有个屏风遮着，屏风的外面放着一张圆桌、几张椅子，便是我们吃饭和相聚谈话的地方。我踏进房里一会儿之后，觉得奇特的是总有一个不相识的人立着或坐在一个角落里，我已直觉地知道这一定是用来监视我们的；后来知道他确是侦察队的侦探，奉命来监视的。房前的露台上还有四五个“武装同志”（警察）在那里监视着。房的右边有个客厅，来访问的人可以在那里坐坐，由客厅通到外面的那个门是常常锁好的。我们要大小便的时候，便有一个“武装同志”跟着我们经过这个门，在厕所门前守着，直等到陪着我们回到原处。\\n\\n我和章先生两人的卧室是在这个大房间的左边一个小房间里。他们已在几天前就替我们备好了两架小铁床。自从我们两人来了之后，又加派了一个侦探来监视。纵然是做侦探，也还是中国人。我们所干的是救国运动，我们所谈的也只是关于抗日救国的事情；我们不但用不着避他们，而且当着他们大谈我们对于救国的主张，大讨论我们对于救国的意见；侦探们听了不但不觉得我们是什么大逆不道，而且深切地表着同情！他们和我们相聚了几天，竟变成我们的同情者，甚至觉得每日来监视我们是一种不得已的痛苦和职务。不但侦探们如此，就是那些“武装同志”也成了我们的朋友！\\n\\n但是他们对于职务还是不得不奉行故事的。他们不但整日里要陪着我们，而且整夜都要陪着我们，虽然他们是三四小时轮班一次的。在白天，只有侦探在我们的房里，到了夜里，大概因为露台上寒冷，所以连“武装同志”都跑到房里来坐到天亮。这倒也是我生平第一次的经验：躺在床上睡的时候，也有一个“文装同志”（侦探）和几个“武装同志”整夜睁着眼睛，一直“侍卫”到天亮！\\n\\n我们到了三四天之后，有一个夜里，局里的第三科科长请我们在客厅里个别谈了一次话，留下了笔录。他很客气地问了我们一番话。问和答的内容都和在法院里那一套差不多，不过特别问起我们和“火花读书会”有没有关系。这个名称我事前根本就没有听见过，关系更说不上了。公安局局长几于每天都来很客气地招呼一下。头几天准许接见，访问者非常的多，那个客厅常告客满，天天好像举行什么盛会似的。后来当局有些怕了，除家属外，禁止接见其他的亲友。看报也不自由，每天由他们送来一种他们认为无关重要的报，有的时候一种也没有。我们每天的时间却过得很快。上午七点半起身后，同在客厅里早操。有的打太极拳，有的柔软体操，各干各的。早餐后最重要的事是催报看，有时看得到，有时看不到。可以接见的时候，差不多一天到晚忙着见客。后来只许接见家属，除开六人“讨论会”或“谈话会”外，有的下围棋，有的下象棋，有的看书，便很快地过了一天。我们每天所最关心的消息是绥远抗战的情形怎么样了，其次便是关于我们自己何时释放出来的消息；有时听说他们要把我们送往莫干山去，有时听说他们要把我们送往杭州去，最后几天听到的消息是要把我们送往苏州高等法院去。'}},\n",
       " {'_index': 'article',\n",
       "  '_type': '_doc',\n",
       "  '_id': 'jDZ_c5cB4fdKsnzVIlKW',\n",
       "  '_score': 2.3005118,\n",
       "  '_source': {'@version': '1',\n",
       "   'updated_at': '2025-06-13T13:24:40.316056Z',\n",
       "   'id': 24,\n",
       "   '@timestamp': '2025-06-15T12:10:00.876241400Z',\n",
       "   'title': '押在公安局_1.txt',\n",
       "   'body': '在上海地方法院的看守所里只关了一天一夜，廿七日下午六点钟左右，又像老鼠被猫衔在嘴里奔窜着，由地方法院转解到公安局里去。我们先由看守所里被提出来，重新光顾待审室一次，不过这时我和章先生两个人同被押进一间待审室里去等候着。这时的法警对我们比初来的那天客气得多，大概他们都知道了我们是为着参加救国运动才到这里来的。等一会儿，我们先后被传审，检察官虽换了一个，但是问答内容还是上次那同样的一套。不过这次那位审问我们的检察官却充满着同情和歉意，拿出公安局的公文给我们看，里面说要移提我们去和沈先生等四位“对质”。检察官宣布之后，我们也没有什么话说，走出法庭后，就有公安局派来的人员迎上来押着出去。法院里有几个职员赶出来和我们握手送别，我们又觉到爱国的同胞们随处给予我们的同情和厚意的可感。我无意中和章先生说出了这一句话，在旁边同走的那位公安局的科员插着说：“这是各位先生人格的感动。”我说：“这倒不是我们几个个人的人格问题，却是有许多同胞不愿做亡国奴的心理的流露!”'}},\n",
       " {'_index': 'article',\n",
       "  '_type': '_doc',\n",
       "  '_id': 'lzZ_c5cB4fdKsnzVIlKW',\n",
       "  '_score': 2.2640178,\n",
       "  '_source': {'@version': '1',\n",
       "   'updated_at': '2025-06-13T13:24:40.799918Z',\n",
       "   'id': 26,\n",
       "   '@timestamp': '2025-06-15T12:10:00.876782300Z',\n",
       "   'title': '押在公安局_3.txt',\n",
       "   'body': '这时沈先生等四位已押在公安局三四天了，我们一进公安局，就被引到他们的房间里去。我们在患难中相见畅谈，当然是格外快慰的，彼此诉说了一番经过的情形，又说了不少互相安慰的话语。我看看他们所住的房间还算清洁，是在二层楼上，前面有个露台，露台的前面是大天井，立在露台上可以看着公安局的大门；房的后面靠壁处并列排着四个小铁床，便是他们四位的床铺；这一列铁床的前面有个屏风遮着，屏风的外面放着一张圆桌、几张椅子，便是我们吃饭和相聚谈话的地方。我踏进房里一会儿之后，觉得奇特的是总有一个不相识的人立着或坐在一个角落里，我已直觉地知道这一定是用来监视我们的；后来知道他确是侦察队的侦探，奉命来监视的。房前的露台上还有四五个“武装同志”(警察)在那里监视着。房的右边有个客厅，来访问的人可以在那里坐坐，由客厅通到外面的那个门是常常锁好的。我们要大小便的时候，便有一个“武装同志”跟着我们经过这个门，在厕所门前守着，直等到陪着我们回到原处。'}},\n",
       " {'_index': 'article',\n",
       "  '_type': '_doc',\n",
       "  '_id': 'ajZ_c5cB4fdKsnzVIlKV',\n",
       "  '_score': 2.2199202,\n",
       "  '_source': {'@version': '1',\n",
       "   'updated_at': '2025-06-13T13:24:40.600179Z',\n",
       "   'id': 25,\n",
       "   '@timestamp': '2025-06-15T12:10:00.876241400Z',\n",
       "   'title': '押在公安局_2.txt',\n",
       "   'body': '我们随着一群公安局的侦探、警察和科员，拥出了法院的门口，分乘汽车直驶公安局而去。'}},\n",
       " {'_index': 'article',\n",
       "  '_type': '_doc',\n",
       "  '_id': 'ZzZ_c5cB4fdKsnzVIlKV',\n",
       "  '_score': 2.1890635,\n",
       "  '_source': {'@version': '1',\n",
       "   'updated_at': '2025-06-15T11:20:45.177365Z',\n",
       "   'id': 52,\n",
       "   '@timestamp': '2025-06-15T12:10:00.912874900Z',\n",
       "   'title': '三四 到捕房.txt',\n",
       "   'body': '我于十一月廿二日的深夜被押解到卢家湾法巡捕房。在捕房门口下了汽车以后，那个法国人和翻译在我左右拥着走上石阶。这时那翻译不但在旁拥着我，而且用一只手挟着我的手臂。我向来没有做过犯人，这是破题儿第一遭，心里想这明明是怕我逃走的样子，突然发生着奇异的感觉。刚走上石阶两三层，瞥见有两三个人也挟持着史良女律师在前面走。她身上穿着西式的妇女旅行装，上身穿的好像男子西装的上身外衣，下面穿的是好像水手穿的广大裤脚管的裤子，外面罩一件女大衣，全身衣服都是黑色的。我看她的态度很从容，偶然回过脸来，脸上还现着微笑。我们相距约有十步左右。我本想走快几步凑上去问她沈钧儒先生是不是也已被捕，因为我心里时刻担忧着他老先生的安全。可是在我左右挟着我的人看见前面有史女士在走，反而停住我不许走，等了一下，史女士已走远了，才许我再举步继续向前走去。我心里又想，这大概是因为犯人需要彼此隔离的。\\n\\n我被拥至二层楼上政治部的一间办公室里。到后即由那个法国人问话，并由那个同来的翻译在旁担任译述。他先问我的姓名、年岁和职业，加入了什么政治团体。我承认我是全国各界救国联合会的执行委员之一，但是从来没有加入任何政党。他问救国会的宗旨，我说是主张抵抗日本对中国的侵略。我并问他：“假使你们法国也被别国侵略，你立于国民的地位，要不要起来主张抵抗这侵略？”他点头微笑。谈到这里，他很客气地说，捕房捕我，不过是应中国公安局的要求。我说我要知道究竟犯了什么罪？他说中国公安局告我是共产党！我说我要他们拿出证据来。他一边问，一边就笔录下来。大概问了半点钟。他坐在办公桌的后面问，翻译坐在办公桌旁边译，我就坐在办公桌的前面，刚和他相对。问后那个法国人走了，那个翻译对我说：“对不住，今天夜里要请你住住监狱，明天上午八点钟才送法院。”我默然。他接着说：“不过你们是上等人，我们可以把你送到上等人的监狱里去，不致和那些齷齪的苦力混在一起。”我仍然没有什么话说，只有随他到楼下去。\\n\\n他带我到楼下的另一间办公室，也许是巡长室吧，里面有个柜台，柜台里面坐着一个穿制服的法国人（也许是巡长)，还有个穿便服的法国人跑出跑进。离柜台略远处有个栏杆，这栏杆里面大概是预备犯人立的地方。他们就叫我立在这栏杆里面。房门口有安南巡捕守着。我在那里大概立了一小时左右，有个穿西装的中国职员押着史律师进来。他们叫她站在柜台和栏杆之间，我们仍不许谈话，只能远远地点头微笑而已。再等一会儿，有一个安南巡捕和一个好像“茶房”模样的中国人进来。这中国人问我犯什么罪，我说犯“救国罪”，他也莫名其妙，土头土脑地走了。这个安南巡捕就开始向我身上搜查，用两只手在我衣上摸了一遍，又伸进各个衣袋里检查了一下，然后取出我的装钱的小皮夹子，取下我西装领上的扣子，取下我的领带，取去我的吊袜带，取下我的手表，取下我皮鞋上的带，取下我吊裤子用的吊带（吊西装裤子用的)，取去我缚在里裤上的带，取去我不能一刻离的眼镜！他们对我说这是必须经过的手续，我当然没有话说，只得听任他大取而特取！不过最后取到我的近视眼上的眼镜，却使我感到太不方便了，我就提出抗议，要把眼镜留住，他们不肯。这时史律师远望着我那副样子，她竟临时做起我的“辩护律师”了，对监视她的那个穿西装的中国职员说，某先生（指我）是社会上有地位的人，不必这样搜查，眼镜也应该让他留用，并叫他把这个意思转达给柜台里的那个巡长听。结果没有达到目的，我的眼镜当然是照脱下来了，这时只有对着我的临时“辩护律师”苦笑。我的近视虽不算怎样厉害，但是没有了眼镜，看较远的东西便有些模糊，举起步来便有些飘飘欲仙的感觉！这又有什么办法呢？只有暂时做做“仙”罢了！其实我的这位临时“辩护律师”自己也吃了苦头，后来我们同到高三分院的待审室里，据她说，她那夜身上的裤带也被取去！她还说着笑话，说幸而她穿的是西装裤，否则不免有伤风化了！\\n\\n这种手续大概是预防犯人要暗寻短见吧。但是我们都要留着这有用之身为救国努力，谁愿寻短见呢！'}}]"
      ]
     },
     "execution_count": 52,
     "metadata": {},
     "output_type": "execute_result"
    }
   ],
   "source": [
    "json.loads(response.text)['hits']['hits']"
   ]
  },
  {
   "cell_type": "code",
   "execution_count": null,
   "metadata": {},
   "outputs": [],
   "source": [
    "\n",
    "uvicorn main:app --reload"
   ]
  }
 ],
 "metadata": {
  "kernelspec": {
   "display_name": "python(ai_project)",
   "language": "python",
   "name": "ai_project"
  },
  "language_info": {
   "codemirror_mode": {
    "name": "ipython",
    "version": 3
   },
   "file_extension": ".py",
   "mimetype": "text/x-python",
   "name": "python",
   "nbconvert_exporter": "python",
   "pygments_lexer": "ipython3",
   "version": "3.11.3"
  }
 },
 "nbformat": 4,
 "nbformat_minor": 2
}
